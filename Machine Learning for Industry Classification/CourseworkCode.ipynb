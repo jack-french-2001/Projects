{
 "cells": [
  {
   "cell_type": "code",
   "execution_count": 1,
   "metadata": {},
   "outputs": [],
   "source": [
    "import matplotlib.pyplot as plt\n",
    "from matplotlib import patches\n",
    "\n",
    "import pandas as pd\n",
    "\n",
    "import numpy as np\n",
    "from numpy import mean, std, interp, math\n",
    "\n",
    "from sklearn.linear_model import LogisticRegression\n",
    "from sklearn.preprocessing import StandardScaler\n",
    "from sklearn.model_selection import train_test_split, cross_val_score, StratifiedKFold, GridSearchCV\n",
    "from sklearn.metrics import accuracy_score, roc_curve, roc_auc_score, precision_score, recall_score\n",
    "from sklearn.svm import SVC\n",
    "from sklearn.pipeline import make_pipeline\n",
    "from sklearn.metrics import confusion_matrix, plot_confusion_matrix, ConfusionMatrixDisplay\n",
    "from sklearn import metrics\n",
    "\n",
    "import seaborn as sns"
   ]
  },
  {
   "cell_type": "markdown",
   "metadata": {},
   "source": [
    "Load in our 2017 fortune 500 dataset which can be found at https://data.world/aurielle/fortune-500-2017"
   ]
  },
  {
   "cell_type": "code",
   "execution_count": 2,
   "metadata": {},
   "outputs": [],
   "source": [
    "fortune500 = pd.read_csv(\"Fortune 500 2017 - Fortune 500.csv\", thousands=',')"
   ]
  },
  {
   "cell_type": "markdown",
   "metadata": {},
   "source": [
    "Have a look at the datatypes of the columns in our dataset"
   ]
  },
  {
   "cell_type": "code",
   "execution_count": 3,
   "metadata": {},
   "outputs": [
    {
     "data": {
      "text/plain": [
       "Rank             int64\n",
       "Title           object\n",
       "Website         object\n",
       "Employees        int64\n",
       "Sector          object\n",
       "Industry        object\n",
       "Hqlocation      object\n",
       "Hqaddr          object\n",
       "Hqcity          object\n",
       "Hqstate         object\n",
       "Hqzip            int64\n",
       "Hqtel           object\n",
       "Ceo             object\n",
       "Ceo-title       object\n",
       "Address         object\n",
       "Ticker          object\n",
       "Fullname        object\n",
       "Revenues         int64\n",
       "Revchange      float64\n",
       "Profits        float64\n",
       "Prftchange     float64\n",
       "Assets           int64\n",
       "Totshequity    float64\n",
       "dtype: object"
      ]
     },
     "execution_count": 3,
     "metadata": {},
     "output_type": "execute_result"
    }
   ],
   "source": [
    "fortune500.dtypes"
   ]
  },
  {
   "cell_type": "code",
   "execution_count": 4,
   "metadata": {},
   "outputs": [
    {
     "data": {
      "text/html": [
       "<div>\n",
       "<style scoped>\n",
       "    .dataframe tbody tr th:only-of-type {\n",
       "        vertical-align: middle;\n",
       "    }\n",
       "\n",
       "    .dataframe tbody tr th {\n",
       "        vertical-align: top;\n",
       "    }\n",
       "\n",
       "    .dataframe thead th {\n",
       "        text-align: right;\n",
       "    }\n",
       "</style>\n",
       "<table border=\"1\" class=\"dataframe\">\n",
       "  <thead>\n",
       "    <tr style=\"text-align: right;\">\n",
       "      <th></th>\n",
       "      <th>Rank</th>\n",
       "      <th>Title</th>\n",
       "      <th>Website</th>\n",
       "      <th>Employees</th>\n",
       "      <th>Sector</th>\n",
       "      <th>Industry</th>\n",
       "      <th>Hqlocation</th>\n",
       "      <th>Hqaddr</th>\n",
       "      <th>Hqcity</th>\n",
       "      <th>Hqstate</th>\n",
       "      <th>...</th>\n",
       "      <th>Ceo-title</th>\n",
       "      <th>Address</th>\n",
       "      <th>Ticker</th>\n",
       "      <th>Fullname</th>\n",
       "      <th>Revenues</th>\n",
       "      <th>Revchange</th>\n",
       "      <th>Profits</th>\n",
       "      <th>Prftchange</th>\n",
       "      <th>Assets</th>\n",
       "      <th>Totshequity</th>\n",
       "    </tr>\n",
       "  </thead>\n",
       "  <tbody>\n",
       "    <tr>\n",
       "      <th>0</th>\n",
       "      <td>1</td>\n",
       "      <td>Walmart</td>\n",
       "      <td>http://www.walmart.com</td>\n",
       "      <td>2300000</td>\n",
       "      <td>Retailing</td>\n",
       "      <td>General Merchandisers</td>\n",
       "      <td>Bentonville, AR</td>\n",
       "      <td>702 S.W. Eighth St.</td>\n",
       "      <td>Bentonville</td>\n",
       "      <td>AR</td>\n",
       "      <td>...</td>\n",
       "      <td>President, Chief Executive Officer &amp; Director</td>\n",
       "      <td>702 S.W. Eighth St., Bentonville, AR 72716</td>\n",
       "      <td>WMT</td>\n",
       "      <td>Wal-Mart Stores, Inc.</td>\n",
       "      <td>485873</td>\n",
       "      <td>0.8</td>\n",
       "      <td>13643.0</td>\n",
       "      <td>-7.2</td>\n",
       "      <td>198825</td>\n",
       "      <td>77798.0</td>\n",
       "    </tr>\n",
       "    <tr>\n",
       "      <th>1</th>\n",
       "      <td>2</td>\n",
       "      <td>Berkshire Hathaway</td>\n",
       "      <td>http://www.berkshirehathaway.com</td>\n",
       "      <td>367700</td>\n",
       "      <td>Financials</td>\n",
       "      <td>Insurance: Property and Casualty (Stock)</td>\n",
       "      <td>Omaha, NE</td>\n",
       "      <td>3555 Farnam St.</td>\n",
       "      <td>Omaha</td>\n",
       "      <td>NE</td>\n",
       "      <td>...</td>\n",
       "      <td>Chairman &amp; Chief Executive Officer</td>\n",
       "      <td>3555 Farnam St., Omaha, NE 68131</td>\n",
       "      <td>BRKA</td>\n",
       "      <td>Berkshire Hathaway Inc.</td>\n",
       "      <td>223604</td>\n",
       "      <td>6.1</td>\n",
       "      <td>24074.0</td>\n",
       "      <td>0.0</td>\n",
       "      <td>620854</td>\n",
       "      <td>283001.0</td>\n",
       "    </tr>\n",
       "    <tr>\n",
       "      <th>2</th>\n",
       "      <td>3</td>\n",
       "      <td>Apple</td>\n",
       "      <td>http://www.apple.com</td>\n",
       "      <td>116000</td>\n",
       "      <td>Technology</td>\n",
       "      <td>Computers, Office Equipment</td>\n",
       "      <td>Cupertino, CA</td>\n",
       "      <td>1 Infinite Loop</td>\n",
       "      <td>Cupertino</td>\n",
       "      <td>CA</td>\n",
       "      <td>...</td>\n",
       "      <td>Chief Executive Officer &amp; Director</td>\n",
       "      <td>1 Infinite Loop, Cupertino, CA 95014</td>\n",
       "      <td>AAPL</td>\n",
       "      <td>Apple, Inc.</td>\n",
       "      <td>215639</td>\n",
       "      <td>-7.7</td>\n",
       "      <td>45687.0</td>\n",
       "      <td>-14.4</td>\n",
       "      <td>321686</td>\n",
       "      <td>128249.0</td>\n",
       "    </tr>\n",
       "    <tr>\n",
       "      <th>3</th>\n",
       "      <td>4</td>\n",
       "      <td>Exxon Mobil</td>\n",
       "      <td>http://www.exxonmobil.com</td>\n",
       "      <td>72700</td>\n",
       "      <td>Energy</td>\n",
       "      <td>Petroleum Refining</td>\n",
       "      <td>Irving, TX</td>\n",
       "      <td>5959 Las Colinas Blvd.</td>\n",
       "      <td>Irving</td>\n",
       "      <td>TX</td>\n",
       "      <td>...</td>\n",
       "      <td>Chairman &amp; Chief Executive Officer</td>\n",
       "      <td>5959 Las Colinas Blvd., Irving, TX 75039</td>\n",
       "      <td>XOM</td>\n",
       "      <td>Exxon Mobil Corporation</td>\n",
       "      <td>205004</td>\n",
       "      <td>-16.7</td>\n",
       "      <td>7840.0</td>\n",
       "      <td>-51.5</td>\n",
       "      <td>330314</td>\n",
       "      <td>167325.0</td>\n",
       "    </tr>\n",
       "    <tr>\n",
       "      <th>4</th>\n",
       "      <td>5</td>\n",
       "      <td>McKesson</td>\n",
       "      <td>http://www.mckesson.com</td>\n",
       "      <td>68000</td>\n",
       "      <td>Wholesalers</td>\n",
       "      <td>Wholesalers: Health Care</td>\n",
       "      <td>San Francisco, CA</td>\n",
       "      <td>1 Post St.</td>\n",
       "      <td>San Francisco</td>\n",
       "      <td>CA</td>\n",
       "      <td>...</td>\n",
       "      <td>Chairman, President &amp; Chief Executive Officer</td>\n",
       "      <td>1 Post St., San Francisco, CA 94104</td>\n",
       "      <td>MCK</td>\n",
       "      <td>McKesson Corporation</td>\n",
       "      <td>192487</td>\n",
       "      <td>6.2</td>\n",
       "      <td>2258.0</td>\n",
       "      <td>53.0</td>\n",
       "      <td>56563</td>\n",
       "      <td>8924.0</td>\n",
       "    </tr>\n",
       "  </tbody>\n",
       "</table>\n",
       "<p>5 rows × 23 columns</p>\n",
       "</div>"
      ],
      "text/plain": [
       "   Rank               Title                           Website  Employees  \\\n",
       "0     1             Walmart            http://www.walmart.com    2300000   \n",
       "1     2  Berkshire Hathaway  http://www.berkshirehathaway.com     367700   \n",
       "2     3               Apple              http://www.apple.com     116000   \n",
       "3     4         Exxon Mobil         http://www.exxonmobil.com      72700   \n",
       "4     5            McKesson           http://www.mckesson.com      68000   \n",
       "\n",
       "        Sector                                  Industry         Hqlocation  \\\n",
       "0    Retailing                     General Merchandisers    Bentonville, AR   \n",
       "1   Financials  Insurance: Property and Casualty (Stock)          Omaha, NE   \n",
       "2   Technology               Computers, Office Equipment      Cupertino, CA   \n",
       "3       Energy                        Petroleum Refining         Irving, TX   \n",
       "4  Wholesalers                  Wholesalers: Health Care  San Francisco, CA   \n",
       "\n",
       "                   Hqaddr         Hqcity Hqstate  ...  \\\n",
       "0     702 S.W. Eighth St.    Bentonville      AR  ...   \n",
       "1         3555 Farnam St.          Omaha      NE  ...   \n",
       "2         1 Infinite Loop      Cupertino      CA  ...   \n",
       "3  5959 Las Colinas Blvd.         Irving      TX  ...   \n",
       "4              1 Post St.  San Francisco      CA  ...   \n",
       "\n",
       "                                       Ceo-title  \\\n",
       "0  President, Chief Executive Officer & Director   \n",
       "1             Chairman & Chief Executive Officer   \n",
       "2             Chief Executive Officer & Director   \n",
       "3             Chairman & Chief Executive Officer   \n",
       "4  Chairman, President & Chief Executive Officer   \n",
       "\n",
       "                                      Address Ticker                 Fullname  \\\n",
       "0  702 S.W. Eighth St., Bentonville, AR 72716    WMT    Wal-Mart Stores, Inc.   \n",
       "1            3555 Farnam St., Omaha, NE 68131   BRKA  Berkshire Hathaway Inc.   \n",
       "2        1 Infinite Loop, Cupertino, CA 95014   AAPL              Apple, Inc.   \n",
       "3    5959 Las Colinas Blvd., Irving, TX 75039    XOM  Exxon Mobil Corporation   \n",
       "4         1 Post St., San Francisco, CA 94104    MCK     McKesson Corporation   \n",
       "\n",
       "  Revenues Revchange  Profits  Prftchange  Assets  Totshequity  \n",
       "0   485873       0.8  13643.0        -7.2  198825      77798.0  \n",
       "1   223604       6.1  24074.0         0.0  620854     283001.0  \n",
       "2   215639      -7.7  45687.0       -14.4  321686     128249.0  \n",
       "3   205004     -16.7   7840.0       -51.5  330314     167325.0  \n",
       "4   192487       6.2   2258.0        53.0   56563       8924.0  \n",
       "\n",
       "[5 rows x 23 columns]"
      ]
     },
     "execution_count": 4,
     "metadata": {},
     "output_type": "execute_result"
    }
   ],
   "source": [
    "fortune500.head()"
   ]
  },
  {
   "cell_type": "markdown",
   "metadata": {},
   "source": [
    "Set the colors for our plots"
   ]
  },
  {
   "cell_type": "code",
   "execution_count": 5,
   "metadata": {},
   "outputs": [],
   "source": [
    "finance_color = \"#00008B\"\n",
    "not_finance_color = \"#87CEFA\""
   ]
  },
  {
   "cell_type": "code",
   "execution_count": 6,
   "metadata": {},
   "outputs": [],
   "source": [
    "colors = []\n",
    "for i in range(21):\n",
    "    if i == 6:\n",
    "        colors.append(finance_color)\n",
    "    else:\n",
    "        colors.append(not_finance_color)"
   ]
  },
  {
   "cell_type": "markdown",
   "metadata": {},
   "source": [
    "#### Plot showing which sectors are most represented in the 2017 Fortune 500."
   ]
  },
  {
   "cell_type": "code",
   "execution_count": 7,
   "metadata": {},
   "outputs": [
    {
     "data": {
      "text/plain": [
       "Text(0.5, 1.0, 'Number of companies in the Fortune 500 per sector')"
      ]
     },
     "execution_count": 7,
     "metadata": {},
     "output_type": "execute_result"
    },
    {
     "data": {
      "image/png": "[encoded data removed]",
      "text/plain": [
       "<Figure size 432x288 with 1 Axes>"
      ]
     },
     "metadata": {
      "needs_background": "light"
     },
     "output_type": "display_data"
    }
   ],
   "source": [
    "plt.bar(sorted(fortune500[\"Sector\"].unique()), height = fortune500.groupby(\"Sector\").count()[\"Rank\"],\n",
    "       color = colors)\n",
    "\n",
    "ax = plt.gca()\n",
    "ax.set_xticklabels(labels=sorted(fortune500[\"Sector\"].unique()),rotation=90)\n",
    "ax.set_title(\"Number of companies in the Fortune 500 per sector\")"
   ]
  },
  {
   "cell_type": "code",
   "execution_count": null,
   "metadata": {},
   "outputs": [],
   "source": []
  },
  {
   "cell_type": "markdown",
   "metadata": {},
   "source": [
    "Create a new column in our dataframe which indicates whether the company is in the financial sector (1) or not (0)."
   ]
  },
  {
   "cell_type": "code",
   "execution_count": 8,
   "metadata": {},
   "outputs": [],
   "source": [
    "fortune500[\"IsFinance?\"] = pd.get_dummies(fortune500[\"Sector\"])[\"Financials\"]"
   ]
  },
  {
   "cell_type": "markdown",
   "metadata": {},
   "source": [
    "For plotting purposes, split the dataset into one containing information about the businesses in the financial sector and one containing information about those that are not."
   ]
  },
  {
   "cell_type": "code",
   "execution_count": 9,
   "metadata": {},
   "outputs": [],
   "source": [
    "finance = fortune500[fortune500[\"IsFinance?\"] == 1]\n",
    "not_finance = fortune500[fortune500[\"IsFinance?\"] == 0]"
   ]
  },
  {
   "cell_type": "markdown",
   "metadata": {},
   "source": [
    "#### Plot the proportion of financial companies who have their headquarters in a certain state vs the total amount of company headquarters per state. "
   ]
  },
  {
   "cell_type": "code",
   "execution_count": 10,
   "metadata": {},
   "outputs": [
    {
     "data": {
      "text/plain": [
       "Text(0, 0.5, 'Number of company headquarters')"
      ]
     },
     "execution_count": 10,
     "metadata": {},
     "output_type": "execute_result"
    },
    {
     "data": {
      "image/png": "[encoded data removed]",
      "text/plain": [
       "<Figure size 1440x720 with 1 Axes>"
      ]
     },
     "metadata": {
      "needs_background": "light"
     },
     "output_type": "display_data"
    }
   ],
   "source": [
    "fig, ax = plt.subplots(1,1, figsize = (20, 10))\n",
    "\n",
    "\n",
    "# bar plot for the non-financial sector businesses\n",
    "ax.bar(sorted(fortune500[\"Hqstate\"].unique()), height = fortune500.groupby(\"Hqstate\").count()[\"Rank\"], \n",
    "           color = not_finance_color,\n",
    "           fill = True,\n",
    "           label = \"All Sectors\", \n",
    "           alpha = 0.5)\n",
    "\n",
    "# bar plot for the financial sector businesses\n",
    "ax.bar(sorted(finance[\"Hqstate\"].unique()), height = finance.groupby(\"Hqstate\").count()[\"Rank\"], \n",
    "           color = finance_color,\n",
    "           fill = True,\n",
    "           label = \"Financial Sector\")\n",
    "\n",
    "plt.legend(fontsize = 14)\n",
    "#plt.title(\"In which states are the headquarters of the financial companies in the fortune500?\", fontsize = 20)\n",
    "plt.xlabel(\"States\", fontsize = 25)\n",
    "plt.ylabel(\"Number of company headquarters\", fontsize = 25)\n",
    "\n",
    "#plt.savefig(\"Which State.png\")"
   ]
  },
  {
   "cell_type": "markdown",
   "metadata": {},
   "source": [
    "#### Plot the mean values for the quantitative input features for each sector."
   ]
  },
  {
   "cell_type": "code",
   "execution_count": 11,
   "metadata": {},
   "outputs": [
    {
     "data": {
      "image/png": "[encoded data removed]",
      "text/plain": [
       "<Figure size 1224x576 with 7 Axes>"
      ]
     },
     "metadata": {
      "needs_background": "light"
     },
     "output_type": "display_data"
    }
   ],
   "source": [
    "fig, axs = plt.subplots(2, 4, figsize = (17, 8))\n",
    "\n",
    "axs[0,0].bar(sorted(fortune500[\"Sector\"].unique()), height = fortune500.groupby(\"Sector\").mean()[\"Employees\"], \n",
    "             color= colors)\n",
    "axs[0,1].bar(sorted(fortune500[\"Sector\"].unique()), height = fortune500.groupby(\"Sector\").mean()[\"Revenues\"], \n",
    "             color= colors)\n",
    "axs[0,2].bar(sorted(fortune500[\"Sector\"].unique()), height = fortune500.groupby(\"Sector\").mean()[\"Revchange\"], \n",
    "             color=  colors)\n",
    "axs[1,3].bar(sorted(fortune500[\"Sector\"].unique()), height = fortune500.groupby(\"Sector\").mean()[\"Profits\"], \n",
    "             color= colors)\n",
    "axs[1,0].bar(sorted(fortune500[\"Sector\"].unique()), height = fortune500.groupby(\"Sector\").mean()[\"Prftchange\"], \n",
    "             color= colors)\n",
    "axs[1,1].bar(sorted(fortune500[\"Sector\"].unique()), height = fortune500.groupby(\"Sector\").mean()[\"Assets\"], \n",
    "             color= colors)\n",
    "axs[1,2].bar(sorted(fortune500[\"Sector\"].unique()), height = fortune500.groupby(\"Sector\").mean()[\"Totshequity\"], \n",
    "             color= colors)\n",
    "\n",
    "fig.delaxes(axs[0,3])\n",
    "\n",
    "axs[1, 0].set_xticklabels(labels=sorted(fortune500[\"Sector\"].unique()),rotation=90)\n",
    "axs[1, 1].set_xticklabels(labels=sorted(fortune500[\"Sector\"].unique()),rotation=90)\n",
    "axs[1, 2].set_xticklabels(labels=sorted(fortune500[\"Sector\"].unique()),rotation=90)\n",
    "axs[1, 3].set_xticklabels(labels=sorted(fortune500[\"Sector\"].unique()),rotation=90)\n",
    "\n",
    "axs[0,0].xaxis.set_visible(False)\n",
    "axs[0,1].xaxis.set_visible(False)\n",
    "axs[0,2].xaxis.set_visible(False)\n",
    "\n",
    "axs[0,0].set_ylabel(\"Mean Employees\")\n",
    "axs[0,1].set_ylabel(\"Mean Revenues (in millions of $)\")\n",
    "axs[0,2].set_ylabel(\"Mean Revenue Change (as a %)\")\n",
    "axs[1,3].set_ylabel(\"Mean Profits (in millions of $)\")\n",
    "axs[1,0].set_ylabel(\"Mean Profit Change (as a %)\")\n",
    "axs[1,1].set_ylabel(\"Mean Assets (in millions of $)\")\n",
    "axs[1,2].set_ylabel(\"Mean Total Equity (in millions of $)\")\n",
    "\n",
    "plt.tight_layout()\n",
    "plt.savefig(\"comparison.png\", bbox_inches = \"tight\", dpi = fig.dpi)"
   ]
  },
  {
   "cell_type": "markdown",
   "metadata": {},
   "source": [
    "This it the table containing the dummy variables for each state (if a company's headquarters is in the state corresponding to that column, the column's value will be 1, if not it will be 0)"
   ]
  },
  {
   "cell_type": "code",
   "execution_count": 12,
   "metadata": {},
   "outputs": [],
   "source": [
    "state_dummies = pd.get_dummies(fortune500[\"Hqstate\"])"
   ]
  },
  {
   "cell_type": "markdown",
   "metadata": {},
   "source": [
    "Create our StandardScaler object in order to standardize our numerical column's data"
   ]
  },
  {
   "cell_type": "code",
   "execution_count": 13,
   "metadata": {},
   "outputs": [],
   "source": [
    "scaler = StandardScaler()"
   ]
  },
  {
   "cell_type": "markdown",
   "metadata": {},
   "source": [
    "This is our input features table, containing standardised values for Employees, Revenues, Revenue Change, Profits, Profit Change, Assets, Total Share Equity and dummy variables for each state present in the dataset. "
   ]
  },
  {
   "cell_type": "code",
   "execution_count": 14,
   "metadata": {},
   "outputs": [],
   "source": [
    "X = pd.concat([pd.DataFrame(scaler.fit_transform(fortune500[[\"Employees\", \"Revenues\", \"Revchange\", \"Profits\", \"Prftchange\", \"Assets\", \"Totshequity\"]])), state_dummies], axis = 1)"
   ]
  },
  {
   "cell_type": "code",
   "execution_count": 15,
   "metadata": {},
   "outputs": [
    {
     "data": {
      "text/html": [
       "<div>\n",
       "<style scoped>\n",
       "    .dataframe tbody tr th:only-of-type {\n",
       "        vertical-align: middle;\n",
       "    }\n",
       "\n",
       "    .dataframe tbody tr th {\n",
       "        vertical-align: top;\n",
       "    }\n",
       "\n",
       "    .dataframe thead th {\n",
       "        text-align: right;\n",
       "    }\n",
       "</style>\n",
       "<table border=\"1\" class=\"dataframe\">\n",
       "  <thead>\n",
       "    <tr style=\"text-align: right;\">\n",
       "      <th></th>\n",
       "      <th>0</th>\n",
       "      <th>1</th>\n",
       "      <th>2</th>\n",
       "      <th>3</th>\n",
       "      <th>4</th>\n",
       "      <th>5</th>\n",
       "      <th>6</th>\n",
       "      <th>AL</th>\n",
       "      <th>AR</th>\n",
       "      <th>AZ</th>\n",
       "      <th>...</th>\n",
       "      <th>OH</th>\n",
       "      <th>OK</th>\n",
       "      <th>OR</th>\n",
       "      <th>PA</th>\n",
       "      <th>RI</th>\n",
       "      <th>TN</th>\n",
       "      <th>TX</th>\n",
       "      <th>VA</th>\n",
       "      <th>WA</th>\n",
       "      <th>WI</th>\n",
       "    </tr>\n",
       "  </thead>\n",
       "  <tbody>\n",
       "    <tr>\n",
       "      <th>0</th>\n",
       "      <td>18.192467</td>\n",
       "      <td>12.056745</td>\n",
       "      <td>-0.148289</td>\n",
       "      <td>3.015930</td>\n",
       "      <td>-0.052097</td>\n",
       "      <td>0.438399</td>\n",
       "      <td>2.104046</td>\n",
       "      <td>0</td>\n",
       "      <td>1</td>\n",
       "      <td>0</td>\n",
       "      <td>...</td>\n",
       "      <td>0</td>\n",
       "      <td>0</td>\n",
       "      <td>0</td>\n",
       "      <td>0</td>\n",
       "      <td>0</td>\n",
       "      <td>0</td>\n",
       "      <td>0</td>\n",
       "      <td>0</td>\n",
       "      <td>0</td>\n",
       "      <td>0</td>\n",
       "    </tr>\n",
       "    <tr>\n",
       "      <th>1</th>\n",
       "      <td>2.524557</td>\n",
       "      <td>5.208811</td>\n",
       "      <td>0.117408</td>\n",
       "      <td>5.667686</td>\n",
       "      <td>-0.040993</td>\n",
       "      <td>2.000571</td>\n",
       "      <td>8.833642</td>\n",
       "      <td>0</td>\n",
       "      <td>0</td>\n",
       "      <td>0</td>\n",
       "      <td>...</td>\n",
       "      <td>0</td>\n",
       "      <td>0</td>\n",
       "      <td>0</td>\n",
       "      <td>0</td>\n",
       "      <td>0</td>\n",
       "      <td>0</td>\n",
       "      <td>0</td>\n",
       "      <td>0</td>\n",
       "      <td>0</td>\n",
       "      <td>0</td>\n",
       "    </tr>\n",
       "    <tr>\n",
       "      <th>2</th>\n",
       "      <td>0.483666</td>\n",
       "      <td>5.000843</td>\n",
       "      <td>-0.574408</td>\n",
       "      <td>11.162118</td>\n",
       "      <td>-0.063202</td>\n",
       "      <td>0.893178</td>\n",
       "      <td>3.758577</td>\n",
       "      <td>0</td>\n",
       "      <td>0</td>\n",
       "      <td>0</td>\n",
       "      <td>...</td>\n",
       "      <td>0</td>\n",
       "      <td>0</td>\n",
       "      <td>0</td>\n",
       "      <td>0</td>\n",
       "      <td>0</td>\n",
       "      <td>0</td>\n",
       "      <td>0</td>\n",
       "      <td>0</td>\n",
       "      <td>0</td>\n",
       "      <td>0</td>\n",
       "    </tr>\n",
       "    <tr>\n",
       "      <th>3</th>\n",
       "      <td>0.132572</td>\n",
       "      <td>4.723159</td>\n",
       "      <td>-1.025592</td>\n",
       "      <td>1.540698</td>\n",
       "      <td>-0.120421</td>\n",
       "      <td>0.925115</td>\n",
       "      <td>5.040068</td>\n",
       "      <td>0</td>\n",
       "      <td>0</td>\n",
       "      <td>0</td>\n",
       "      <td>...</td>\n",
       "      <td>0</td>\n",
       "      <td>0</td>\n",
       "      <td>0</td>\n",
       "      <td>0</td>\n",
       "      <td>0</td>\n",
       "      <td>0</td>\n",
       "      <td>1</td>\n",
       "      <td>0</td>\n",
       "      <td>0</td>\n",
       "      <td>0</td>\n",
       "    </tr>\n",
       "    <tr>\n",
       "      <th>4</th>\n",
       "      <td>0.094462</td>\n",
       "      <td>4.396336</td>\n",
       "      <td>0.122421</td>\n",
       "      <td>0.121649</td>\n",
       "      <td>0.040749</td>\n",
       "      <td>-0.088195</td>\n",
       "      <td>-0.154665</td>\n",
       "      <td>0</td>\n",
       "      <td>0</td>\n",
       "      <td>0</td>\n",
       "      <td>...</td>\n",
       "      <td>0</td>\n",
       "      <td>0</td>\n",
       "      <td>0</td>\n",
       "      <td>0</td>\n",
       "      <td>0</td>\n",
       "      <td>0</td>\n",
       "      <td>0</td>\n",
       "      <td>0</td>\n",
       "      <td>0</td>\n",
       "      <td>0</td>\n",
       "    </tr>\n",
       "    <tr>\n",
       "      <th>...</th>\n",
       "      <td>...</td>\n",
       "      <td>...</td>\n",
       "      <td>...</td>\n",
       "      <td>...</td>\n",
       "      <td>...</td>\n",
       "      <td>...</td>\n",
       "      <td>...</td>\n",
       "      <td>...</td>\n",
       "      <td>...</td>\n",
       "      <td>...</td>\n",
       "      <td>...</td>\n",
       "      <td>...</td>\n",
       "      <td>...</td>\n",
       "      <td>...</td>\n",
       "      <td>...</td>\n",
       "      <td>...</td>\n",
       "      <td>...</td>\n",
       "      <td>...</td>\n",
       "      <td>...</td>\n",
       "      <td>...</td>\n",
       "      <td>...</td>\n",
       "    </tr>\n",
       "    <tr>\n",
       "      <th>495</th>\n",
       "      <td>-0.205550</td>\n",
       "      <td>-0.493871</td>\n",
       "      <td>0.102369</td>\n",
       "      <td>-0.356232</td>\n",
       "      <td>-0.034515</td>\n",
       "      <td>-0.289616</td>\n",
       "      <td>-0.503012</td>\n",
       "      <td>0</td>\n",
       "      <td>0</td>\n",
       "      <td>0</td>\n",
       "      <td>...</td>\n",
       "      <td>0</td>\n",
       "      <td>0</td>\n",
       "      <td>0</td>\n",
       "      <td>0</td>\n",
       "      <td>0</td>\n",
       "      <td>0</td>\n",
       "      <td>1</td>\n",
       "      <td>0</td>\n",
       "      <td>0</td>\n",
       "      <td>0</td>\n",
       "    </tr>\n",
       "    <tr>\n",
       "      <th>496</th>\n",
       "      <td>-0.422855</td>\n",
       "      <td>-0.494576</td>\n",
       "      <td>1.009750</td>\n",
       "      <td>-0.355240</td>\n",
       "      <td>-0.032973</td>\n",
       "      <td>-0.261525</td>\n",
       "      <td>-0.308637</td>\n",
       "      <td>0</td>\n",
       "      <td>0</td>\n",
       "      <td>0</td>\n",
       "      <td>...</td>\n",
       "      <td>0</td>\n",
       "      <td>0</td>\n",
       "      <td>0</td>\n",
       "      <td>1</td>\n",
       "      <td>0</td>\n",
       "      <td>0</td>\n",
       "      <td>0</td>\n",
       "      <td>0</td>\n",
       "      <td>0</td>\n",
       "      <td>0</td>\n",
       "    </tr>\n",
       "    <tr>\n",
       "      <th>497</th>\n",
       "      <td>-0.387989</td>\n",
       "      <td>-0.494602</td>\n",
       "      <td>0.012132</td>\n",
       "      <td>-0.506856</td>\n",
       "      <td>-0.032973</td>\n",
       "      <td>-0.119584</td>\n",
       "      <td>0.570920</td>\n",
       "      <td>0</td>\n",
       "      <td>0</td>\n",
       "      <td>0</td>\n",
       "      <td>...</td>\n",
       "      <td>0</td>\n",
       "      <td>0</td>\n",
       "      <td>0</td>\n",
       "      <td>0</td>\n",
       "      <td>0</td>\n",
       "      <td>0</td>\n",
       "      <td>0</td>\n",
       "      <td>0</td>\n",
       "      <td>0</td>\n",
       "      <td>0</td>\n",
       "    </tr>\n",
       "    <tr>\n",
       "      <th>498</th>\n",
       "      <td>-0.420982</td>\n",
       "      <td>-0.494732</td>\n",
       "      <td>0.012132</td>\n",
       "      <td>-0.506856</td>\n",
       "      <td>-0.032973</td>\n",
       "      <td>-0.241426</td>\n",
       "      <td>-0.230979</td>\n",
       "      <td>0</td>\n",
       "      <td>0</td>\n",
       "      <td>0</td>\n",
       "      <td>...</td>\n",
       "      <td>0</td>\n",
       "      <td>0</td>\n",
       "      <td>0</td>\n",
       "      <td>0</td>\n",
       "      <td>0</td>\n",
       "      <td>0</td>\n",
       "      <td>1</td>\n",
       "      <td>0</td>\n",
       "      <td>0</td>\n",
       "      <td>0</td>\n",
       "    </tr>\n",
       "    <tr>\n",
       "      <th>499</th>\n",
       "      <td>0.435016</td>\n",
       "      <td>-0.495228</td>\n",
       "      <td>-0.328763</td>\n",
       "      <td>-0.437836</td>\n",
       "      <td>-0.079550</td>\n",
       "      <td>-0.289124</td>\n",
       "      <td>-0.415384</td>\n",
       "      <td>0</td>\n",
       "      <td>0</td>\n",
       "      <td>0</td>\n",
       "      <td>...</td>\n",
       "      <td>0</td>\n",
       "      <td>0</td>\n",
       "      <td>0</td>\n",
       "      <td>0</td>\n",
       "      <td>0</td>\n",
       "      <td>0</td>\n",
       "      <td>0</td>\n",
       "      <td>0</td>\n",
       "      <td>0</td>\n",
       "      <td>0</td>\n",
       "    </tr>\n",
       "  </tbody>\n",
       "</table>\n",
       "<p>500 rows × 44 columns</p>\n",
       "</div>"
      ],
      "text/plain": [
       "             0          1         2          3         4         5         6  \\\n",
       "0    18.192467  12.056745 -0.148289   3.015930 -0.052097  0.438399  2.104046   \n",
       "1     2.524557   5.208811  0.117408   5.667686 -0.040993  2.000571  8.833642   \n",
       "2     0.483666   5.000843 -0.574408  11.162118 -0.063202  0.893178  3.758577   \n",
       "3     0.132572   4.723159 -1.025592   1.540698 -0.120421  0.925115  5.040068   \n",
       "4     0.094462   4.396336  0.122421   0.121649  0.040749 -0.088195 -0.154665   \n",
       "..         ...        ...       ...        ...       ...       ...       ...   \n",
       "495  -0.205550  -0.493871  0.102369  -0.356232 -0.034515 -0.289616 -0.503012   \n",
       "496  -0.422855  -0.494576  1.009750  -0.355240 -0.032973 -0.261525 -0.308637   \n",
       "497  -0.387989  -0.494602  0.012132  -0.506856 -0.032973 -0.119584  0.570920   \n",
       "498  -0.420982  -0.494732  0.012132  -0.506856 -0.032973 -0.241426 -0.230979   \n",
       "499   0.435016  -0.495228 -0.328763  -0.437836 -0.079550 -0.289124 -0.415384   \n",
       "\n",
       "     AL  AR  AZ  ...  OH  OK  OR  PA  RI  TN  TX  VA  WA  WI  \n",
       "0     0   1   0  ...   0   0   0   0   0   0   0   0   0   0  \n",
       "1     0   0   0  ...   0   0   0   0   0   0   0   0   0   0  \n",
       "2     0   0   0  ...   0   0   0   0   0   0   0   0   0   0  \n",
       "3     0   0   0  ...   0   0   0   0   0   0   1   0   0   0  \n",
       "4     0   0   0  ...   0   0   0   0   0   0   0   0   0   0  \n",
       "..   ..  ..  ..  ...  ..  ..  ..  ..  ..  ..  ..  ..  ..  ..  \n",
       "495   0   0   0  ...   0   0   0   0   0   0   1   0   0   0  \n",
       "496   0   0   0  ...   0   0   0   1   0   0   0   0   0   0  \n",
       "497   0   0   0  ...   0   0   0   0   0   0   0   0   0   0  \n",
       "498   0   0   0  ...   0   0   0   0   0   0   1   0   0   0  \n",
       "499   0   0   0  ...   0   0   0   0   0   0   0   0   0   0  \n",
       "\n",
       "[500 rows x 44 columns]"
      ]
     },
     "execution_count": 15,
     "metadata": {},
     "output_type": "execute_result"
    }
   ],
   "source": [
    "X"
   ]
  },
  {
   "cell_type": "markdown",
   "metadata": {},
   "source": [
    "Rename the columns of our input features"
   ]
  },
  {
   "cell_type": "code",
   "execution_count": 16,
   "metadata": {},
   "outputs": [],
   "source": [
    "X.rename(\n",
    "    columns = {0:\"Employees\", 1:\"Revenues\", 2:\"Revchange\", 3:\"Profits\", 4:\"Prftchange\", 5:\"Assets\", 6:\"Totshequity\"},\n",
    "    inplace = True\n",
    ")"
   ]
  },
  {
   "cell_type": "code",
   "execution_count": 17,
   "metadata": {},
   "outputs": [
    {
     "data": {
      "text/html": [
       "<div>\n",
       "<style scoped>\n",
       "    .dataframe tbody tr th:only-of-type {\n",
       "        vertical-align: middle;\n",
       "    }\n",
       "\n",
       "    .dataframe tbody tr th {\n",
       "        vertical-align: top;\n",
       "    }\n",
       "\n",
       "    .dataframe thead th {\n",
       "        text-align: right;\n",
       "    }\n",
       "</style>\n",
       "<table border=\"1\" class=\"dataframe\">\n",
       "  <thead>\n",
       "    <tr style=\"text-align: right;\">\n",
       "      <th></th>\n",
       "      <th>Employees</th>\n",
       "      <th>Revenues</th>\n",
       "      <th>Revchange</th>\n",
       "      <th>Profits</th>\n",
       "      <th>Prftchange</th>\n",
       "      <th>Assets</th>\n",
       "      <th>Totshequity</th>\n",
       "      <th>AL</th>\n",
       "      <th>AR</th>\n",
       "      <th>AZ</th>\n",
       "      <th>...</th>\n",
       "      <th>OH</th>\n",
       "      <th>OK</th>\n",
       "      <th>OR</th>\n",
       "      <th>PA</th>\n",
       "      <th>RI</th>\n",
       "      <th>TN</th>\n",
       "      <th>TX</th>\n",
       "      <th>VA</th>\n",
       "      <th>WA</th>\n",
       "      <th>WI</th>\n",
       "    </tr>\n",
       "  </thead>\n",
       "  <tbody>\n",
       "    <tr>\n",
       "      <th>0</th>\n",
       "      <td>18.192467</td>\n",
       "      <td>12.056745</td>\n",
       "      <td>-0.148289</td>\n",
       "      <td>3.015930</td>\n",
       "      <td>-0.052097</td>\n",
       "      <td>0.438399</td>\n",
       "      <td>2.104046</td>\n",
       "      <td>0</td>\n",
       "      <td>1</td>\n",
       "      <td>0</td>\n",
       "      <td>...</td>\n",
       "      <td>0</td>\n",
       "      <td>0</td>\n",
       "      <td>0</td>\n",
       "      <td>0</td>\n",
       "      <td>0</td>\n",
       "      <td>0</td>\n",
       "      <td>0</td>\n",
       "      <td>0</td>\n",
       "      <td>0</td>\n",
       "      <td>0</td>\n",
       "    </tr>\n",
       "    <tr>\n",
       "      <th>1</th>\n",
       "      <td>2.524557</td>\n",
       "      <td>5.208811</td>\n",
       "      <td>0.117408</td>\n",
       "      <td>5.667686</td>\n",
       "      <td>-0.040993</td>\n",
       "      <td>2.000571</td>\n",
       "      <td>8.833642</td>\n",
       "      <td>0</td>\n",
       "      <td>0</td>\n",
       "      <td>0</td>\n",
       "      <td>...</td>\n",
       "      <td>0</td>\n",
       "      <td>0</td>\n",
       "      <td>0</td>\n",
       "      <td>0</td>\n",
       "      <td>0</td>\n",
       "      <td>0</td>\n",
       "      <td>0</td>\n",
       "      <td>0</td>\n",
       "      <td>0</td>\n",
       "      <td>0</td>\n",
       "    </tr>\n",
       "    <tr>\n",
       "      <th>2</th>\n",
       "      <td>0.483666</td>\n",
       "      <td>5.000843</td>\n",
       "      <td>-0.574408</td>\n",
       "      <td>11.162118</td>\n",
       "      <td>-0.063202</td>\n",
       "      <td>0.893178</td>\n",
       "      <td>3.758577</td>\n",
       "      <td>0</td>\n",
       "      <td>0</td>\n",
       "      <td>0</td>\n",
       "      <td>...</td>\n",
       "      <td>0</td>\n",
       "      <td>0</td>\n",
       "      <td>0</td>\n",
       "      <td>0</td>\n",
       "      <td>0</td>\n",
       "      <td>0</td>\n",
       "      <td>0</td>\n",
       "      <td>0</td>\n",
       "      <td>0</td>\n",
       "      <td>0</td>\n",
       "    </tr>\n",
       "    <tr>\n",
       "      <th>3</th>\n",
       "      <td>0.132572</td>\n",
       "      <td>4.723159</td>\n",
       "      <td>-1.025592</td>\n",
       "      <td>1.540698</td>\n",
       "      <td>-0.120421</td>\n",
       "      <td>0.925115</td>\n",
       "      <td>5.040068</td>\n",
       "      <td>0</td>\n",
       "      <td>0</td>\n",
       "      <td>0</td>\n",
       "      <td>...</td>\n",
       "      <td>0</td>\n",
       "      <td>0</td>\n",
       "      <td>0</td>\n",
       "      <td>0</td>\n",
       "      <td>0</td>\n",
       "      <td>0</td>\n",
       "      <td>1</td>\n",
       "      <td>0</td>\n",
       "      <td>0</td>\n",
       "      <td>0</td>\n",
       "    </tr>\n",
       "    <tr>\n",
       "      <th>4</th>\n",
       "      <td>0.094462</td>\n",
       "      <td>4.396336</td>\n",
       "      <td>0.122421</td>\n",
       "      <td>0.121649</td>\n",
       "      <td>0.040749</td>\n",
       "      <td>-0.088195</td>\n",
       "      <td>-0.154665</td>\n",
       "      <td>0</td>\n",
       "      <td>0</td>\n",
       "      <td>0</td>\n",
       "      <td>...</td>\n",
       "      <td>0</td>\n",
       "      <td>0</td>\n",
       "      <td>0</td>\n",
       "      <td>0</td>\n",
       "      <td>0</td>\n",
       "      <td>0</td>\n",
       "      <td>0</td>\n",
       "      <td>0</td>\n",
       "      <td>0</td>\n",
       "      <td>0</td>\n",
       "    </tr>\n",
       "  </tbody>\n",
       "</table>\n",
       "<p>5 rows × 44 columns</p>\n",
       "</div>"
      ],
      "text/plain": [
       "   Employees   Revenues  Revchange    Profits  Prftchange    Assets  \\\n",
       "0  18.192467  12.056745  -0.148289   3.015930   -0.052097  0.438399   \n",
       "1   2.524557   5.208811   0.117408   5.667686   -0.040993  2.000571   \n",
       "2   0.483666   5.000843  -0.574408  11.162118   -0.063202  0.893178   \n",
       "3   0.132572   4.723159  -1.025592   1.540698   -0.120421  0.925115   \n",
       "4   0.094462   4.396336   0.122421   0.121649    0.040749 -0.088195   \n",
       "\n",
       "   Totshequity  AL  AR  AZ  ...  OH  OK  OR  PA  RI  TN  TX  VA  WA  WI  \n",
       "0     2.104046   0   1   0  ...   0   0   0   0   0   0   0   0   0   0  \n",
       "1     8.833642   0   0   0  ...   0   0   0   0   0   0   0   0   0   0  \n",
       "2     3.758577   0   0   0  ...   0   0   0   0   0   0   0   0   0   0  \n",
       "3     5.040068   0   0   0  ...   0   0   0   0   0   0   1   0   0   0  \n",
       "4    -0.154665   0   0   0  ...   0   0   0   0   0   0   0   0   0   0  \n",
       "\n",
       "[5 rows x 44 columns]"
      ]
     },
     "execution_count": 17,
     "metadata": {},
     "output_type": "execute_result"
    }
   ],
   "source": [
    "X.head()"
   ]
  },
  {
   "cell_type": "code",
   "execution_count": 18,
   "metadata": {},
   "outputs": [],
   "source": [
    "# Our target variable\n",
    "y = fortune500[\"IsFinance?\"]"
   ]
  },
  {
   "cell_type": "markdown",
   "metadata": {},
   "source": [
    "Split our data into training and testing datasets. 20% of our data will be used for testing and 80% will be used for training."
   ]
  },
  {
   "cell_type": "code",
   "execution_count": 19,
   "metadata": {},
   "outputs": [],
   "source": [
    "X_train, X_test, y_train, y_test = train_test_split(X, y, stratify = y, test_size = 0.2, random_state = 420)"
   ]
  },
  {
   "cell_type": "markdown",
   "metadata": {},
   "source": [
    "### Logistic Regression"
   ]
  },
  {
   "cell_type": "markdown",
   "metadata": {},
   "source": [
    "Create our object that will split our dataset into 5 stratified folds that will be used for cross-validation to check our\n",
    "model's performance."
   ]
  },
  {
   "cell_type": "code",
   "execution_count": 20,
   "metadata": {},
   "outputs": [],
   "source": [
    "kfold = StratifiedKFold(n_splits = 5, shuffle = True, random_state = 420)"
   ]
  },
  {
   "cell_type": "code",
   "execution_count": 21,
   "metadata": {},
   "outputs": [
    {
     "data": {
      "text/plain": [
       "5"
      ]
     },
     "execution_count": 21,
     "metadata": {},
     "output_type": "execute_result"
    }
   ],
   "source": [
    "kfold.get_n_splits(X, y)"
   ]
  },
  {
   "cell_type": "markdown",
   "metadata": {},
   "source": [
    "Obtain our Stratified K-Fold cross-validation's results"
   ]
  },
  {
   "cell_type": "code",
   "execution_count": 22,
   "metadata": {},
   "outputs": [
    {
     "name": "stdout",
     "output_type": "stream",
     "text": [
      "Mean Accuracy Score for 5 fold Stratified Cross Validation: 0.904 with Standard Dev.: 0.0136\n"
     ]
    }
   ],
   "source": [
    "accs = []\n",
    "\n",
    "for train_index, test_index in kfold.split(X, y):\n",
    "    X_train , X_test = X.iloc[train_index,:],X.iloc[test_index,:]\n",
    "    y_train , y_test = y[train_index] , y[test_index]\n",
    "    LogReg = LogisticRegression()\n",
    "    LogReg.fit(X_train, y_train)\n",
    "    y_pred = LogReg.predict(X_test)\n",
    "    accs.append(accuracy_score(y_test, y_pred))\n",
    "    \n",
    "print(f\"Mean Accuracy Score for 5 fold Stratified Cross Validation: {np.round(np.mean(accs), 4)} with Standard Dev.: {np.round(np.std(accs), 4)}\")"
   ]
  },
  {
   "cell_type": "markdown",
   "metadata": {},
   "source": [
    "Here we create a dataframe containing the features of our model and their coefficients"
   ]
  },
  {
   "cell_type": "code",
   "execution_count": 23,
   "metadata": {},
   "outputs": [],
   "source": [
    "LogReg_coefs = pd.DataFrame({\"feature\" : X.columns, \"coefs\" : LogReg.coef_[0]})"
   ]
  },
  {
   "cell_type": "code",
   "execution_count": 24,
   "metadata": {},
   "outputs": [
    {
     "data": {
      "text/html": [
       "<div>\n",
       "<style scoped>\n",
       "    .dataframe tbody tr th:only-of-type {\n",
       "        vertical-align: middle;\n",
       "    }\n",
       "\n",
       "    .dataframe tbody tr th {\n",
       "        vertical-align: top;\n",
       "    }\n",
       "\n",
       "    .dataframe thead th {\n",
       "        text-align: right;\n",
       "    }\n",
       "</style>\n",
       "<table border=\"1\" class=\"dataframe\">\n",
       "  <thead>\n",
       "    <tr style=\"text-align: right;\">\n",
       "      <th></th>\n",
       "      <th>feature</th>\n",
       "      <th>coefs</th>\n",
       "    </tr>\n",
       "  </thead>\n",
       "  <tbody>\n",
       "    <tr>\n",
       "      <th>0</th>\n",
       "      <td>Employees</td>\n",
       "      <td>-1.487613</td>\n",
       "    </tr>\n",
       "    <tr>\n",
       "      <th>1</th>\n",
       "      <td>Revenues</td>\n",
       "      <td>-1.595718</td>\n",
       "    </tr>\n",
       "    <tr>\n",
       "      <th>2</th>\n",
       "      <td>Revchange</td>\n",
       "      <td>-0.072201</td>\n",
       "    </tr>\n",
       "    <tr>\n",
       "      <th>3</th>\n",
       "      <td>Profits</td>\n",
       "      <td>-0.371135</td>\n",
       "    </tr>\n",
       "    <tr>\n",
       "      <th>4</th>\n",
       "      <td>Prftchange</td>\n",
       "      <td>-0.021754</td>\n",
       "    </tr>\n",
       "  </tbody>\n",
       "</table>\n",
       "</div>"
      ],
      "text/plain": [
       "      feature     coefs\n",
       "0   Employees -1.487613\n",
       "1    Revenues -1.595718\n",
       "2   Revchange -0.072201\n",
       "3     Profits -0.371135\n",
       "4  Prftchange -0.021754"
      ]
     },
     "execution_count": 24,
     "metadata": {},
     "output_type": "execute_result"
    }
   ],
   "source": [
    "LogReg_coefs.head()"
   ]
  },
  {
   "cell_type": "markdown",
   "metadata": {},
   "source": [
    "#### Plot the importance of each feature in the Logistic Regression\n",
    "A high positive score means that the presence of this feature is more likely to lead to a prediction that the company belongs to the financial sector, whereas a high negative score means the presence of this feature is more likely to lead to a prediction that the company does not belong to the financial sector. A coefficient that is close to 0 means that the feature is not helpful in the prediction of whether the company belongs to the financial sector or not."
   ]
  },
  {
   "cell_type": "code",
   "execution_count": 25,
   "metadata": {},
   "outputs": [
    {
     "data": {
      "image/png": "[encoded data removed]",
      "text/plain": [
       "<Figure size 792x792 with 1 Axes>"
      ]
     },
     "metadata": {
      "needs_background": "light"
     },
     "output_type": "display_data"
    }
   ],
   "source": [
    "LogReg_coefs.sort_values(\"coefs\", inplace=True)\n",
    "\n",
    "fig, ax  = plt.subplots(figsize= (11, 11))\n",
    "\n",
    "ax.barh(LogReg_coefs[\"feature\"], LogReg_coefs[\"coefs\"])\n",
    "\n",
    "ax.set_title(\"Feature Importance\", fontsize = 14)\n",
    "\n",
    "ax = plt.gca()"
   ]
  },
  {
   "cell_type": "markdown",
   "metadata": {},
   "source": [
    "Set the threshold for what coefficient we define to be an \"important\" feature. This threshold is aribtrary and a better way to do this would be to obtain the p-values for each coefficient and the \"non-important\" features would therefore be those who have a p-value under 0.05. However, sklearn does not have any way to extract the p-values for each coefficient and I have therefore chosen this way as an appropriate way to choose \"important\" features. "
   ]
  },
  {
   "cell_type": "code",
   "execution_count": 26,
   "metadata": {},
   "outputs": [],
   "source": [
    "LogReg_importance_threshold = 0.5"
   ]
  },
  {
   "cell_type": "markdown",
   "metadata": {},
   "source": [
    "Table corresponding to the most \"important\" features and their coefficients. "
   ]
  },
  {
   "cell_type": "code",
   "execution_count": 27,
   "metadata": {},
   "outputs": [],
   "source": [
    "LogReg_most_imp = LogReg_coefs.query(f\"coefs < -{LogReg_importance_threshold} or coefs > {LogReg_importance_threshold}\")"
   ]
  },
  {
   "cell_type": "code",
   "execution_count": 28,
   "metadata": {},
   "outputs": [
    {
     "data": {
      "text/html": [
       "<div>\n",
       "<style scoped>\n",
       "    .dataframe tbody tr th:only-of-type {\n",
       "        vertical-align: middle;\n",
       "    }\n",
       "\n",
       "    .dataframe tbody tr th {\n",
       "        vertical-align: top;\n",
       "    }\n",
       "\n",
       "    .dataframe thead th {\n",
       "        text-align: right;\n",
       "    }\n",
       "</style>\n",
       "<table border=\"1\" class=\"dataframe\">\n",
       "  <thead>\n",
       "    <tr style=\"text-align: right;\">\n",
       "      <th></th>\n",
       "      <th>feature</th>\n",
       "      <th>coefs</th>\n",
       "    </tr>\n",
       "  </thead>\n",
       "  <tbody>\n",
       "    <tr>\n",
       "      <th>1</th>\n",
       "      <td>Revenues</td>\n",
       "      <td>-1.595718</td>\n",
       "    </tr>\n",
       "    <tr>\n",
       "      <th>0</th>\n",
       "      <td>Employees</td>\n",
       "      <td>-1.487613</td>\n",
       "    </tr>\n",
       "    <tr>\n",
       "      <th>40</th>\n",
       "      <td>TX</td>\n",
       "      <td>-1.357575</td>\n",
       "    </tr>\n",
       "    <tr>\n",
       "      <th>11</th>\n",
       "      <td>CO</td>\n",
       "      <td>-0.624893</td>\n",
       "    </tr>\n",
       "    <tr>\n",
       "      <th>25</th>\n",
       "      <td>MD</td>\n",
       "      <td>0.523133</td>\n",
       "    </tr>\n",
       "    <tr>\n",
       "      <th>6</th>\n",
       "      <td>Totshequity</td>\n",
       "      <td>0.528139</td>\n",
       "    </tr>\n",
       "    <tr>\n",
       "      <th>28</th>\n",
       "      <td>MO</td>\n",
       "      <td>0.558977</td>\n",
       "    </tr>\n",
       "    <tr>\n",
       "      <th>33</th>\n",
       "      <td>NY</td>\n",
       "      <td>1.018447</td>\n",
       "    </tr>\n",
       "    <tr>\n",
       "      <th>34</th>\n",
       "      <td>OH</td>\n",
       "      <td>1.040736</td>\n",
       "    </tr>\n",
       "    <tr>\n",
       "      <th>5</th>\n",
       "      <td>Assets</td>\n",
       "      <td>4.092952</td>\n",
       "    </tr>\n",
       "  </tbody>\n",
       "</table>\n",
       "</div>"
      ],
      "text/plain": [
       "        feature     coefs\n",
       "1      Revenues -1.595718\n",
       "0     Employees -1.487613\n",
       "40           TX -1.357575\n",
       "11           CO -0.624893\n",
       "25           MD  0.523133\n",
       "6   Totshequity  0.528139\n",
       "28           MO  0.558977\n",
       "33           NY  1.018447\n",
       "34           OH  1.040736\n",
       "5        Assets  4.092952"
      ]
     },
     "execution_count": 28,
     "metadata": {},
     "output_type": "execute_result"
    }
   ],
   "source": [
    "LogReg_most_imp"
   ]
  },
  {
   "cell_type": "markdown",
   "metadata": {},
   "source": [
    "#### Plot the most important features"
   ]
  },
  {
   "cell_type": "code",
   "execution_count": 29,
   "metadata": {},
   "outputs": [
    {
     "data": {
      "image/png": "[encoded data removed]",
      "text/plain": [
       "<Figure size 792x792 with 1 Axes>"
      ]
     },
     "metadata": {
      "needs_background": "light"
     },
     "output_type": "display_data"
    }
   ],
   "source": [
    "fig, ax  = plt.subplots(figsize= (11, 11))\n",
    "\n",
    "ax.barh(LogReg_most_imp[\"feature\"], LogReg_most_imp[\"coefs\"])\n",
    "\n",
    "ax.set_title(f\"Features with a coefficient higher than {LogReg_importance_threshold} and features with a coefficient lower than \\n-{LogReg_importance_threshold}\")\n",
    "\n",
    "ax = plt.gca()"
   ]
  },
  {
   "cell_type": "markdown",
   "metadata": {},
   "source": [
    "Table corresponding to the least \"important\" features and their coefficients. "
   ]
  },
  {
   "cell_type": "code",
   "execution_count": 30,
   "metadata": {},
   "outputs": [],
   "source": [
    "LogReg_least_imp = LogReg_coefs.query(f\"coefs > -{LogReg_importance_threshold} and coefs < {LogReg_importance_threshold}\")"
   ]
  },
  {
   "cell_type": "code",
   "execution_count": 31,
   "metadata": {},
   "outputs": [
    {
     "data": {
      "text/html": [
       "<div>\n",
       "<style scoped>\n",
       "    .dataframe tbody tr th:only-of-type {\n",
       "        vertical-align: middle;\n",
       "    }\n",
       "\n",
       "    .dataframe tbody tr th {\n",
       "        vertical-align: top;\n",
       "    }\n",
       "\n",
       "    .dataframe thead th {\n",
       "        text-align: right;\n",
       "    }\n",
       "</style>\n",
       "<table border=\"1\" class=\"dataframe\">\n",
       "  <thead>\n",
       "    <tr style=\"text-align: right;\">\n",
       "      <th></th>\n",
       "      <th>feature</th>\n",
       "      <th>coefs</th>\n",
       "    </tr>\n",
       "  </thead>\n",
       "  <tbody>\n",
       "    <tr>\n",
       "      <th>35</th>\n",
       "      <td>OK</td>\n",
       "      <td>-0.463845</td>\n",
       "    </tr>\n",
       "    <tr>\n",
       "      <th>10</th>\n",
       "      <td>CA</td>\n",
       "      <td>-0.388428</td>\n",
       "    </tr>\n",
       "    <tr>\n",
       "      <th>3</th>\n",
       "      <td>Profits</td>\n",
       "      <td>-0.371135</td>\n",
       "    </tr>\n",
       "    <tr>\n",
       "      <th>29</th>\n",
       "      <td>NC</td>\n",
       "      <td>-0.362310</td>\n",
       "    </tr>\n",
       "    <tr>\n",
       "      <th>8</th>\n",
       "      <td>AR</td>\n",
       "      <td>-0.343063</td>\n",
       "    </tr>\n",
       "  </tbody>\n",
       "</table>\n",
       "</div>"
      ],
      "text/plain": [
       "    feature     coefs\n",
       "35       OK -0.463845\n",
       "10       CA -0.388428\n",
       "3   Profits -0.371135\n",
       "29       NC -0.362310\n",
       "8        AR -0.343063"
      ]
     },
     "execution_count": 31,
     "metadata": {},
     "output_type": "execute_result"
    }
   ],
   "source": [
    "LogReg_least_imp.head()"
   ]
  },
  {
   "cell_type": "markdown",
   "metadata": {},
   "source": [
    "We drop the least important features from our feature list."
   ]
  },
  {
   "cell_type": "code",
   "execution_count": 32,
   "metadata": {},
   "outputs": [],
   "source": [
    "LogReg_X_final =  X.drop(LogReg_least_imp[\"feature\"].unique().tolist(), axis = 1)"
   ]
  },
  {
   "cell_type": "code",
   "execution_count": 33,
   "metadata": {},
   "outputs": [
    {
     "data": {
      "text/html": [
       "<div>\n",
       "<style scoped>\n",
       "    .dataframe tbody tr th:only-of-type {\n",
       "        vertical-align: middle;\n",
       "    }\n",
       "\n",
       "    .dataframe tbody tr th {\n",
       "        vertical-align: top;\n",
       "    }\n",
       "\n",
       "    .dataframe thead th {\n",
       "        text-align: right;\n",
       "    }\n",
       "</style>\n",
       "<table border=\"1\" class=\"dataframe\">\n",
       "  <thead>\n",
       "    <tr style=\"text-align: right;\">\n",
       "      <th></th>\n",
       "      <th>Employees</th>\n",
       "      <th>Revenues</th>\n",
       "      <th>Assets</th>\n",
       "      <th>Totshequity</th>\n",
       "      <th>CO</th>\n",
       "      <th>MD</th>\n",
       "      <th>MO</th>\n",
       "      <th>NY</th>\n",
       "      <th>OH</th>\n",
       "      <th>TX</th>\n",
       "    </tr>\n",
       "  </thead>\n",
       "  <tbody>\n",
       "    <tr>\n",
       "      <th>0</th>\n",
       "      <td>18.192467</td>\n",
       "      <td>12.056745</td>\n",
       "      <td>0.438399</td>\n",
       "      <td>2.104046</td>\n",
       "      <td>0</td>\n",
       "      <td>0</td>\n",
       "      <td>0</td>\n",
       "      <td>0</td>\n",
       "      <td>0</td>\n",
       "      <td>0</td>\n",
       "    </tr>\n",
       "    <tr>\n",
       "      <th>1</th>\n",
       "      <td>2.524557</td>\n",
       "      <td>5.208811</td>\n",
       "      <td>2.000571</td>\n",
       "      <td>8.833642</td>\n",
       "      <td>0</td>\n",
       "      <td>0</td>\n",
       "      <td>0</td>\n",
       "      <td>0</td>\n",
       "      <td>0</td>\n",
       "      <td>0</td>\n",
       "    </tr>\n",
       "    <tr>\n",
       "      <th>2</th>\n",
       "      <td>0.483666</td>\n",
       "      <td>5.000843</td>\n",
       "      <td>0.893178</td>\n",
       "      <td>3.758577</td>\n",
       "      <td>0</td>\n",
       "      <td>0</td>\n",
       "      <td>0</td>\n",
       "      <td>0</td>\n",
       "      <td>0</td>\n",
       "      <td>0</td>\n",
       "    </tr>\n",
       "    <tr>\n",
       "      <th>3</th>\n",
       "      <td>0.132572</td>\n",
       "      <td>4.723159</td>\n",
       "      <td>0.925115</td>\n",
       "      <td>5.040068</td>\n",
       "      <td>0</td>\n",
       "      <td>0</td>\n",
       "      <td>0</td>\n",
       "      <td>0</td>\n",
       "      <td>0</td>\n",
       "      <td>1</td>\n",
       "    </tr>\n",
       "    <tr>\n",
       "      <th>4</th>\n",
       "      <td>0.094462</td>\n",
       "      <td>4.396336</td>\n",
       "      <td>-0.088195</td>\n",
       "      <td>-0.154665</td>\n",
       "      <td>0</td>\n",
       "      <td>0</td>\n",
       "      <td>0</td>\n",
       "      <td>0</td>\n",
       "      <td>0</td>\n",
       "      <td>0</td>\n",
       "    </tr>\n",
       "    <tr>\n",
       "      <th>...</th>\n",
       "      <td>...</td>\n",
       "      <td>...</td>\n",
       "      <td>...</td>\n",
       "      <td>...</td>\n",
       "      <td>...</td>\n",
       "      <td>...</td>\n",
       "      <td>...</td>\n",
       "      <td>...</td>\n",
       "      <td>...</td>\n",
       "      <td>...</td>\n",
       "    </tr>\n",
       "    <tr>\n",
       "      <th>495</th>\n",
       "      <td>-0.205550</td>\n",
       "      <td>-0.493871</td>\n",
       "      <td>-0.289616</td>\n",
       "      <td>-0.503012</td>\n",
       "      <td>0</td>\n",
       "      <td>0</td>\n",
       "      <td>0</td>\n",
       "      <td>0</td>\n",
       "      <td>0</td>\n",
       "      <td>1</td>\n",
       "    </tr>\n",
       "    <tr>\n",
       "      <th>496</th>\n",
       "      <td>-0.422855</td>\n",
       "      <td>-0.494576</td>\n",
       "      <td>-0.261525</td>\n",
       "      <td>-0.308637</td>\n",
       "      <td>0</td>\n",
       "      <td>0</td>\n",
       "      <td>0</td>\n",
       "      <td>0</td>\n",
       "      <td>0</td>\n",
       "      <td>0</td>\n",
       "    </tr>\n",
       "    <tr>\n",
       "      <th>497</th>\n",
       "      <td>-0.387989</td>\n",
       "      <td>-0.494602</td>\n",
       "      <td>-0.119584</td>\n",
       "      <td>0.570920</td>\n",
       "      <td>0</td>\n",
       "      <td>0</td>\n",
       "      <td>0</td>\n",
       "      <td>0</td>\n",
       "      <td>0</td>\n",
       "      <td>0</td>\n",
       "    </tr>\n",
       "    <tr>\n",
       "      <th>498</th>\n",
       "      <td>-0.420982</td>\n",
       "      <td>-0.494732</td>\n",
       "      <td>-0.241426</td>\n",
       "      <td>-0.230979</td>\n",
       "      <td>0</td>\n",
       "      <td>0</td>\n",
       "      <td>0</td>\n",
       "      <td>0</td>\n",
       "      <td>0</td>\n",
       "      <td>1</td>\n",
       "    </tr>\n",
       "    <tr>\n",
       "      <th>499</th>\n",
       "      <td>0.435016</td>\n",
       "      <td>-0.495228</td>\n",
       "      <td>-0.289124</td>\n",
       "      <td>-0.415384</td>\n",
       "      <td>0</td>\n",
       "      <td>0</td>\n",
       "      <td>0</td>\n",
       "      <td>1</td>\n",
       "      <td>0</td>\n",
       "      <td>0</td>\n",
       "    </tr>\n",
       "  </tbody>\n",
       "</table>\n",
       "<p>500 rows × 10 columns</p>\n",
       "</div>"
      ],
      "text/plain": [
       "     Employees   Revenues    Assets  Totshequity  CO  MD  MO  NY  OH  TX\n",
       "0    18.192467  12.056745  0.438399     2.104046   0   0   0   0   0   0\n",
       "1     2.524557   5.208811  2.000571     8.833642   0   0   0   0   0   0\n",
       "2     0.483666   5.000843  0.893178     3.758577   0   0   0   0   0   0\n",
       "3     0.132572   4.723159  0.925115     5.040068   0   0   0   0   0   1\n",
       "4     0.094462   4.396336 -0.088195    -0.154665   0   0   0   0   0   0\n",
       "..         ...        ...       ...          ...  ..  ..  ..  ..  ..  ..\n",
       "495  -0.205550  -0.493871 -0.289616    -0.503012   0   0   0   0   0   1\n",
       "496  -0.422855  -0.494576 -0.261525    -0.308637   0   0   0   0   0   0\n",
       "497  -0.387989  -0.494602 -0.119584     0.570920   0   0   0   0   0   0\n",
       "498  -0.420982  -0.494732 -0.241426    -0.230979   0   0   0   0   0   1\n",
       "499   0.435016  -0.495228 -0.289124    -0.415384   0   0   0   1   0   0\n",
       "\n",
       "[500 rows x 10 columns]"
      ]
     },
     "execution_count": 33,
     "metadata": {},
     "output_type": "execute_result"
    }
   ],
   "source": [
    "LogReg_X_final"
   ]
  },
  {
   "cell_type": "markdown",
   "metadata": {},
   "source": [
    "Obtain the results for different accuracy metrics, using Stratified K-Fold cross-validation, of the model which only contains the features we have deemed \"important\"."
   ]
  },
  {
   "cell_type": "code",
   "execution_count": 34,
   "metadata": {},
   "outputs": [
    {
     "name": "stdout",
     "output_type": "stream",
     "text": [
      "Mean Accuracy Score for 5 fold Stratified Cross Validation: 0.902 with Standard Dev.: 0.0117\n",
      "Mean Recall Score for 5 fold Stratified Cross Validation: 0.4404 with Standard Dev.: 0.0873\n",
      "Mean Precision Score for 5 fold Stratified Cross Validation: 0.96 with Standard Dev.: 0.049\n"
     ]
    }
   ],
   "source": [
    "LogReg_accs = []\n",
    "LogReg_recalls = []\n",
    "LogReg_precs = []\n",
    "for train_index, test_index in kfold.split(LogReg_X_final, y):\n",
    "    X_train , X_test = LogReg_X_final.iloc[train_index,:], LogReg_X_final.iloc[test_index,:]\n",
    "    y_train , y_test = y[train_index], y[test_index]\n",
    "    Final_LogReg_Model = LogisticRegression()\n",
    "    Final_LogReg_Model.fit(X_train, y_train)\n",
    "    y_pred = Final_LogReg_Model.predict(X_test)\n",
    "    LogReg_accs.append(accuracy_score(y_test, y_pred))\n",
    "    LogReg_recalls.append(recall_score(y_test, y_pred))\n",
    "    LogReg_precs.append(precision_score(y_test, y_pred))\n",
    "    \n",
    "print(f\"Mean Accuracy Score for 5 fold Stratified Cross Validation: {np.round(np.mean(LogReg_accs), 4)} with Standard Dev.: {np.round(np.std(LogReg_accs), 4)}\")\n",
    "print(f\"Mean Recall Score for 5 fold Stratified Cross Validation: {np.round(np.mean(LogReg_recalls), 4)} with Standard Dev.: {np.round(np.std(LogReg_recalls), 4)}\")\n",
    "print(f\"Mean Precision Score for 5 fold Stratified Cross Validation: {np.round(np.mean(LogReg_precs), 4)} with Standard Dev.: {np.round(np.std(LogReg_precs), 4)}\")"
   ]
  },
  {
   "cell_type": "markdown",
   "metadata": {},
   "source": [
    "### Support Vector Classifier"
   ]
  },
  {
   "cell_type": "markdown",
   "metadata": {},
   "source": [
    "We use Grid Seach CV which takes in a dictionary of parameter values for a certain model (here SVC) and returns the optimal combination and value of hyperparameters."
   ]
  },
  {
   "cell_type": "code",
   "execution_count": 35,
   "metadata": {},
   "outputs": [
    {
     "name": "stdout",
     "output_type": "stream",
     "text": [
      "0.9225\n",
      "{'svc__C': 10.0, 'svc__gamma': 0.001, 'svc__kernel': 'linear'}\n"
     ]
    }
   ],
   "source": [
    "pipelineSVC = make_pipeline(SVC(random_state=420))\n",
    "\n",
    "# Create the parameter grid\n",
    "param_grid_svc = [{\n",
    "                    'svc__C': [0.001, 0.01, 0.05, 0.1, 0.5, 1.0, 10.0],\n",
    "                    'svc__gamma': [0.001, 0.01, 0.05, 0.1, 0.5, 1.0, 10.0],\n",
    "                    'svc__kernel': ['linear']\n",
    "                  },\n",
    "                 {\n",
    "                    'svc__C': [0.001, 0.01, 0.05, 0.1, 0.5, 1.0, 10.0],\n",
    "                    'svc__gamma': [0.001, 0.01, 0.05, 0.1, 0.5, 1.0, 10.0],\n",
    "                    'svc__kernel': ['rbf']\n",
    "                 }]\n",
    "\n",
    "# Create an instance of GridSearch Cross-validation estimator\n",
    "gsSVC = GridSearchCV(estimator = pipelineSVC,\n",
    "                     param_grid = param_grid_svc,\n",
    "                     scoring='accuracy',\n",
    "                     cv=5,\n",
    "                     refit=True,\n",
    "                     n_jobs=1)\n",
    "\n",
    "# Train the SVM classifier\n",
    "gsSVC.fit(X_train, y_train)\n",
    "\n",
    "# Print the training score of the best model\n",
    "print(gsSVC.best_score_)\n",
    "\n",
    "# Print the model parameters of the best model\n",
    "print(gsSVC.best_params_)"
   ]
  },
  {
   "cell_type": "markdown",
   "metadata": {},
   "source": [
    "We now use the best hyperparameters obtained from the Grid Search CV to train our model and obtain accuracy scores using Stratified K-Fold cross-validation."
   ]
  },
  {
   "cell_type": "code",
   "execution_count": 36,
   "metadata": {},
   "outputs": [],
   "source": [
    "kfold = StratifiedKFold(n_splits = 5, shuffle = True, random_state = 420)"
   ]
  },
  {
   "cell_type": "code",
   "execution_count": 37,
   "metadata": {},
   "outputs": [
    {
     "name": "stdout",
     "output_type": "stream",
     "text": [
      "Mean Accuracy Score for 5 fold Stratified Cross Validation: 0.908 with Standard Dev.: 0.0117\n"
     ]
    }
   ],
   "source": [
    "accs = []\n",
    "\n",
    "for train_index, test_index in kfold.split(X, y):\n",
    "    X_train , X_test = X.iloc[train_index,:],X.iloc[test_index,:]\n",
    "    y_train , y_test = y[train_index] , y[test_index]\n",
    "    svc =  SVC(C = gsSVC.best_params_[\"svc__C\"], gamma = gsSVC.best_params_[\"svc__gamma\"], kernel = gsSVC.best_params_[\"svc__kernel\"], random_state = 420)\n",
    "    svc.fit(X_train, y_train)\n",
    "    y_pred = svc.predict(X_test)\n",
    "    accs.append(accuracy_score(y_test, y_pred))\n",
    "    \n",
    "print(f\"Mean Accuracy Score for 5 fold Stratified Cross Validation: {np.round(np.mean(accs), 4)} with Standard Dev.: {np.round(np.std(accs), 4)}\")"
   ]
  },
  {
   "cell_type": "markdown",
   "metadata": {},
   "source": [
    "Obtain the coefficients for our features. This is only possible because we have used a linear kernel in our svm."
   ]
  },
  {
   "cell_type": "code",
   "execution_count": 38,
   "metadata": {},
   "outputs": [
    {
     "data": {
      "text/plain": [
       "array([[-1.10595211, -1.62949483, -0.15242205, -0.04026951,  0.0249178 ,\n",
       "         6.5642282 , -0.1880198 ,  0.        ,  0.        ,  0.        ,\n",
       "        -0.2844618 , -0.18194409,  0.42754608,  0.        ,  0.        ,\n",
       "         0.09535932,  0.        ,  0.        ,  0.        ,  0.43641716,\n",
       "         0.32216565,  0.        ,  0.        , -0.32661671, -0.13523147,\n",
       "         0.21634841,  0.0453655 ,  0.        ,  0.46726441, -1.50036261,\n",
       "         0.58411984, -0.04562537,  0.        ,  0.45666403,  0.47474743,\n",
       "        -0.52514397,  0.        , -0.23485614,  0.        ,  0.32372974,\n",
       "        -0.80606833,  0.06541197,  0.        ,  0.12517094]])"
      ]
     },
     "execution_count": 38,
     "metadata": {},
     "output_type": "execute_result"
    }
   ],
   "source": [
    "svc = SVC(C = gsSVC.best_params_[\"svc__C\"], gamma = gsSVC.best_params_[\"svc__gamma\"], kernel = gsSVC.best_params_[\"svc__kernel\"], random_state = 420)\n",
    "svc.fit(X, y)\n",
    "svc.coef_"
   ]
  },
  {
   "cell_type": "markdown",
   "metadata": {},
   "source": [
    "Create a data frame contain the features and their corresponding coefficients"
   ]
  },
  {
   "cell_type": "code",
   "execution_count": 39,
   "metadata": {},
   "outputs": [],
   "source": [
    "svc_coefs = pd.DataFrame({\"feature\" : X.columns, \"coefs\" : svc.coef_[0]})"
   ]
  },
  {
   "cell_type": "markdown",
   "metadata": {},
   "source": [
    "#### Plot the features and their corresponding importance for our Support Vector Classifier that used a linear kernel\n",
    "Once again, a high positive score means that the presence of this feature is more likely to lead to a prediction that the company belongs to the financial sector, whereas a high negative score means the presence of this feature is more likely to lead to a prediction that the company does not belong to the financial sector. A coefficient that is close to 0 means that the feature is not helpful in the prediction of whether the company belongs to the financial sector or not."
   ]
  },
  {
   "cell_type": "code",
   "execution_count": 40,
   "metadata": {},
   "outputs": [
    {
     "data": {
      "image/png": "[encoded data removed]",
      "text/plain": [
       "<Figure size 792x792 with 1 Axes>"
      ]
     },
     "metadata": {
      "needs_background": "light"
     },
     "output_type": "display_data"
    }
   ],
   "source": [
    "svc_coefs.sort_values(\"coefs\", inplace=True)\n",
    "\n",
    "fig, ax  = plt.subplots(figsize= (11, 11))\n",
    "\n",
    "ax.barh(svc_coefs[\"feature\"], svc_coefs[\"coefs\"])\n",
    "\n",
    "ax.set_title(\"Feature Importance\", fontsize = 14)\n",
    "\n",
    "ax = plt.gca()"
   ]
  },
  {
   "cell_type": "code",
   "execution_count": 41,
   "metadata": {},
   "outputs": [],
   "source": [
    "svc_importance_threshold = 0.1"
   ]
  },
  {
   "cell_type": "markdown",
   "metadata": {},
   "source": [
    "Table containing the most \"important\" features for our Support Vector Classifier model and their coefficients as determined by our arbitrary threshold. "
   ]
  },
  {
   "cell_type": "code",
   "execution_count": 42,
   "metadata": {},
   "outputs": [],
   "source": [
    "svc_most_imp = svc_coefs.query(f\"coefs < -{svc_importance_threshold} or coefs > {svc_importance_threshold}\")"
   ]
  },
  {
   "cell_type": "code",
   "execution_count": 43,
   "metadata": {},
   "outputs": [
    {
     "name": "stderr",
     "output_type": "stream",
     "text": [
      "<ipython-input-43-bb340df99efa>:1: SettingWithCopyWarning: \n",
      "A value is trying to be set on a copy of a slice from a DataFrame\n",
      "\n",
      "See the caveats in the documentation: https://pandas.pydata.org/pandas-docs/stable/user_guide/indexing.html#returning-a-view-versus-a-copy\n",
      "  svc_most_imp.sort_values(by = \"coefs\", inplace = True)\n"
     ]
    }
   ],
   "source": [
    "svc_most_imp.sort_values(by = \"coefs\", inplace = True)"
   ]
  },
  {
   "cell_type": "markdown",
   "metadata": {},
   "source": [
    "#### Plot the most important features. "
   ]
  },
  {
   "cell_type": "code",
   "execution_count": 44,
   "metadata": {},
   "outputs": [
    {
     "data": {
      "image/png": "[encoded data removed]",
      "text/plain": [
       "<Figure size 792x792 with 1 Axes>"
      ]
     },
     "metadata": {
      "needs_background": "light"
     },
     "output_type": "display_data"
    }
   ],
   "source": [
    "fig, ax  = plt.subplots(figsize= (11, 11))\n",
    "\n",
    "ax.barh(svc_most_imp[\"feature\"], svc_most_imp[\"coefs\"])\n",
    "\n",
    "ax.set_title(f\"Features with a coefficient higher than {svc_importance_threshold} and features with a coefficient lower than \\n-{svc_importance_threshold}\")\n",
    "\n",
    "ax = plt.gca()"
   ]
  },
  {
   "cell_type": "markdown",
   "metadata": {},
   "source": [
    "Table containing our least \"important\" features, which we will then drop from our features list"
   ]
  },
  {
   "cell_type": "code",
   "execution_count": 45,
   "metadata": {},
   "outputs": [],
   "source": [
    "svc_least_imp = svc_coefs.query(f\"coefs > -{svc_importance_threshold} and coefs < {svc_importance_threshold}\")"
   ]
  },
  {
   "cell_type": "code",
   "execution_count": 46,
   "metadata": {},
   "outputs": [
    {
     "data": {
      "text/html": [
       "<div>\n",
       "<style scoped>\n",
       "    .dataframe tbody tr th:only-of-type {\n",
       "        vertical-align: middle;\n",
       "    }\n",
       "\n",
       "    .dataframe tbody tr th {\n",
       "        vertical-align: top;\n",
       "    }\n",
       "\n",
       "    .dataframe thead th {\n",
       "        text-align: right;\n",
       "    }\n",
       "</style>\n",
       "<table border=\"1\" class=\"dataframe\">\n",
       "  <thead>\n",
       "    <tr style=\"text-align: right;\">\n",
       "      <th></th>\n",
       "      <th>feature</th>\n",
       "      <th>coefs</th>\n",
       "    </tr>\n",
       "  </thead>\n",
       "  <tbody>\n",
       "    <tr>\n",
       "      <th>31</th>\n",
       "      <td>NJ</td>\n",
       "      <td>-0.045625</td>\n",
       "    </tr>\n",
       "    <tr>\n",
       "      <th>3</th>\n",
       "      <td>Profits</td>\n",
       "      <td>-0.040270</td>\n",
       "    </tr>\n",
       "    <tr>\n",
       "      <th>38</th>\n",
       "      <td>RI</td>\n",
       "      <td>0.000000</td>\n",
       "    </tr>\n",
       "    <tr>\n",
       "      <th>36</th>\n",
       "      <td>OR</td>\n",
       "      <td>0.000000</td>\n",
       "    </tr>\n",
       "    <tr>\n",
       "      <th>22</th>\n",
       "      <td>KY</td>\n",
       "      <td>0.000000</td>\n",
       "    </tr>\n",
       "  </tbody>\n",
       "</table>\n",
       "</div>"
      ],
      "text/plain": [
       "    feature     coefs\n",
       "31       NJ -0.045625\n",
       "3   Profits -0.040270\n",
       "38       RI  0.000000\n",
       "36       OR  0.000000\n",
       "22       KY  0.000000"
      ]
     },
     "execution_count": 46,
     "metadata": {},
     "output_type": "execute_result"
    }
   ],
   "source": [
    "svc_least_imp.head()"
   ]
  },
  {
   "cell_type": "code",
   "execution_count": 47,
   "metadata": {},
   "outputs": [],
   "source": [
    "svc_X_final =  X.drop(svc_least_imp[\"feature\"].unique().tolist(), axis = 1)"
   ]
  },
  {
   "cell_type": "code",
   "execution_count": 48,
   "metadata": {},
   "outputs": [
    {
     "data": {
      "text/html": [
       "<div>\n",
       "<style scoped>\n",
       "    .dataframe tbody tr th:only-of-type {\n",
       "        vertical-align: middle;\n",
       "    }\n",
       "\n",
       "    .dataframe tbody tr th {\n",
       "        vertical-align: top;\n",
       "    }\n",
       "\n",
       "    .dataframe thead th {\n",
       "        text-align: right;\n",
       "    }\n",
       "</style>\n",
       "<table border=\"1\" class=\"dataframe\">\n",
       "  <thead>\n",
       "    <tr style=\"text-align: right;\">\n",
       "      <th></th>\n",
       "      <th>Employees</th>\n",
       "      <th>Revenues</th>\n",
       "      <th>Revchange</th>\n",
       "      <th>Assets</th>\n",
       "      <th>Totshequity</th>\n",
       "      <th>CA</th>\n",
       "      <th>CO</th>\n",
       "      <th>CT</th>\n",
       "      <th>IL</th>\n",
       "      <th>IN</th>\n",
       "      <th>...</th>\n",
       "      <th>MO</th>\n",
       "      <th>NC</th>\n",
       "      <th>NE</th>\n",
       "      <th>NY</th>\n",
       "      <th>OH</th>\n",
       "      <th>OK</th>\n",
       "      <th>PA</th>\n",
       "      <th>TN</th>\n",
       "      <th>TX</th>\n",
       "      <th>WI</th>\n",
       "    </tr>\n",
       "  </thead>\n",
       "  <tbody>\n",
       "    <tr>\n",
       "      <th>0</th>\n",
       "      <td>18.192467</td>\n",
       "      <td>12.056745</td>\n",
       "      <td>-0.148289</td>\n",
       "      <td>0.438399</td>\n",
       "      <td>2.104046</td>\n",
       "      <td>0</td>\n",
       "      <td>0</td>\n",
       "      <td>0</td>\n",
       "      <td>0</td>\n",
       "      <td>0</td>\n",
       "      <td>...</td>\n",
       "      <td>0</td>\n",
       "      <td>0</td>\n",
       "      <td>0</td>\n",
       "      <td>0</td>\n",
       "      <td>0</td>\n",
       "      <td>0</td>\n",
       "      <td>0</td>\n",
       "      <td>0</td>\n",
       "      <td>0</td>\n",
       "      <td>0</td>\n",
       "    </tr>\n",
       "    <tr>\n",
       "      <th>1</th>\n",
       "      <td>2.524557</td>\n",
       "      <td>5.208811</td>\n",
       "      <td>0.117408</td>\n",
       "      <td>2.000571</td>\n",
       "      <td>8.833642</td>\n",
       "      <td>0</td>\n",
       "      <td>0</td>\n",
       "      <td>0</td>\n",
       "      <td>0</td>\n",
       "      <td>0</td>\n",
       "      <td>...</td>\n",
       "      <td>0</td>\n",
       "      <td>0</td>\n",
       "      <td>1</td>\n",
       "      <td>0</td>\n",
       "      <td>0</td>\n",
       "      <td>0</td>\n",
       "      <td>0</td>\n",
       "      <td>0</td>\n",
       "      <td>0</td>\n",
       "      <td>0</td>\n",
       "    </tr>\n",
       "    <tr>\n",
       "      <th>2</th>\n",
       "      <td>0.483666</td>\n",
       "      <td>5.000843</td>\n",
       "      <td>-0.574408</td>\n",
       "      <td>0.893178</td>\n",
       "      <td>3.758577</td>\n",
       "      <td>1</td>\n",
       "      <td>0</td>\n",
       "      <td>0</td>\n",
       "      <td>0</td>\n",
       "      <td>0</td>\n",
       "      <td>...</td>\n",
       "      <td>0</td>\n",
       "      <td>0</td>\n",
       "      <td>0</td>\n",
       "      <td>0</td>\n",
       "      <td>0</td>\n",
       "      <td>0</td>\n",
       "      <td>0</td>\n",
       "      <td>0</td>\n",
       "      <td>0</td>\n",
       "      <td>0</td>\n",
       "    </tr>\n",
       "    <tr>\n",
       "      <th>3</th>\n",
       "      <td>0.132572</td>\n",
       "      <td>4.723159</td>\n",
       "      <td>-1.025592</td>\n",
       "      <td>0.925115</td>\n",
       "      <td>5.040068</td>\n",
       "      <td>0</td>\n",
       "      <td>0</td>\n",
       "      <td>0</td>\n",
       "      <td>0</td>\n",
       "      <td>0</td>\n",
       "      <td>...</td>\n",
       "      <td>0</td>\n",
       "      <td>0</td>\n",
       "      <td>0</td>\n",
       "      <td>0</td>\n",
       "      <td>0</td>\n",
       "      <td>0</td>\n",
       "      <td>0</td>\n",
       "      <td>0</td>\n",
       "      <td>1</td>\n",
       "      <td>0</td>\n",
       "    </tr>\n",
       "    <tr>\n",
       "      <th>4</th>\n",
       "      <td>0.094462</td>\n",
       "      <td>4.396336</td>\n",
       "      <td>0.122421</td>\n",
       "      <td>-0.088195</td>\n",
       "      <td>-0.154665</td>\n",
       "      <td>1</td>\n",
       "      <td>0</td>\n",
       "      <td>0</td>\n",
       "      <td>0</td>\n",
       "      <td>0</td>\n",
       "      <td>...</td>\n",
       "      <td>0</td>\n",
       "      <td>0</td>\n",
       "      <td>0</td>\n",
       "      <td>0</td>\n",
       "      <td>0</td>\n",
       "      <td>0</td>\n",
       "      <td>0</td>\n",
       "      <td>0</td>\n",
       "      <td>0</td>\n",
       "      <td>0</td>\n",
       "    </tr>\n",
       "    <tr>\n",
       "      <th>...</th>\n",
       "      <td>...</td>\n",
       "      <td>...</td>\n",
       "      <td>...</td>\n",
       "      <td>...</td>\n",
       "      <td>...</td>\n",
       "      <td>...</td>\n",
       "      <td>...</td>\n",
       "      <td>...</td>\n",
       "      <td>...</td>\n",
       "      <td>...</td>\n",
       "      <td>...</td>\n",
       "      <td>...</td>\n",
       "      <td>...</td>\n",
       "      <td>...</td>\n",
       "      <td>...</td>\n",
       "      <td>...</td>\n",
       "      <td>...</td>\n",
       "      <td>...</td>\n",
       "      <td>...</td>\n",
       "      <td>...</td>\n",
       "      <td>...</td>\n",
       "    </tr>\n",
       "    <tr>\n",
       "      <th>495</th>\n",
       "      <td>-0.205550</td>\n",
       "      <td>-0.493871</td>\n",
       "      <td>0.102369</td>\n",
       "      <td>-0.289616</td>\n",
       "      <td>-0.503012</td>\n",
       "      <td>0</td>\n",
       "      <td>0</td>\n",
       "      <td>0</td>\n",
       "      <td>0</td>\n",
       "      <td>0</td>\n",
       "      <td>...</td>\n",
       "      <td>0</td>\n",
       "      <td>0</td>\n",
       "      <td>0</td>\n",
       "      <td>0</td>\n",
       "      <td>0</td>\n",
       "      <td>0</td>\n",
       "      <td>0</td>\n",
       "      <td>0</td>\n",
       "      <td>1</td>\n",
       "      <td>0</td>\n",
       "    </tr>\n",
       "    <tr>\n",
       "      <th>496</th>\n",
       "      <td>-0.422855</td>\n",
       "      <td>-0.494576</td>\n",
       "      <td>1.009750</td>\n",
       "      <td>-0.261525</td>\n",
       "      <td>-0.308637</td>\n",
       "      <td>0</td>\n",
       "      <td>0</td>\n",
       "      <td>0</td>\n",
       "      <td>0</td>\n",
       "      <td>0</td>\n",
       "      <td>...</td>\n",
       "      <td>0</td>\n",
       "      <td>0</td>\n",
       "      <td>0</td>\n",
       "      <td>0</td>\n",
       "      <td>0</td>\n",
       "      <td>0</td>\n",
       "      <td>1</td>\n",
       "      <td>0</td>\n",
       "      <td>0</td>\n",
       "      <td>0</td>\n",
       "    </tr>\n",
       "    <tr>\n",
       "      <th>497</th>\n",
       "      <td>-0.387989</td>\n",
       "      <td>-0.494602</td>\n",
       "      <td>0.012132</td>\n",
       "      <td>-0.119584</td>\n",
       "      <td>0.570920</td>\n",
       "      <td>1</td>\n",
       "      <td>0</td>\n",
       "      <td>0</td>\n",
       "      <td>0</td>\n",
       "      <td>0</td>\n",
       "      <td>...</td>\n",
       "      <td>0</td>\n",
       "      <td>0</td>\n",
       "      <td>0</td>\n",
       "      <td>0</td>\n",
       "      <td>0</td>\n",
       "      <td>0</td>\n",
       "      <td>0</td>\n",
       "      <td>0</td>\n",
       "      <td>0</td>\n",
       "      <td>0</td>\n",
       "    </tr>\n",
       "    <tr>\n",
       "      <th>498</th>\n",
       "      <td>-0.420982</td>\n",
       "      <td>-0.494732</td>\n",
       "      <td>0.012132</td>\n",
       "      <td>-0.241426</td>\n",
       "      <td>-0.230979</td>\n",
       "      <td>0</td>\n",
       "      <td>0</td>\n",
       "      <td>0</td>\n",
       "      <td>0</td>\n",
       "      <td>0</td>\n",
       "      <td>...</td>\n",
       "      <td>0</td>\n",
       "      <td>0</td>\n",
       "      <td>0</td>\n",
       "      <td>0</td>\n",
       "      <td>0</td>\n",
       "      <td>0</td>\n",
       "      <td>0</td>\n",
       "      <td>0</td>\n",
       "      <td>1</td>\n",
       "      <td>0</td>\n",
       "    </tr>\n",
       "    <tr>\n",
       "      <th>499</th>\n",
       "      <td>0.435016</td>\n",
       "      <td>-0.495228</td>\n",
       "      <td>-0.328763</td>\n",
       "      <td>-0.289124</td>\n",
       "      <td>-0.415384</td>\n",
       "      <td>0</td>\n",
       "      <td>0</td>\n",
       "      <td>0</td>\n",
       "      <td>0</td>\n",
       "      <td>0</td>\n",
       "      <td>...</td>\n",
       "      <td>0</td>\n",
       "      <td>0</td>\n",
       "      <td>0</td>\n",
       "      <td>1</td>\n",
       "      <td>0</td>\n",
       "      <td>0</td>\n",
       "      <td>0</td>\n",
       "      <td>0</td>\n",
       "      <td>0</td>\n",
       "      <td>0</td>\n",
       "    </tr>\n",
       "  </tbody>\n",
       "</table>\n",
       "<p>500 rows × 23 columns</p>\n",
       "</div>"
      ],
      "text/plain": [
       "     Employees   Revenues  Revchange    Assets  Totshequity  CA  CO  CT  IL  \\\n",
       "0    18.192467  12.056745  -0.148289  0.438399     2.104046   0   0   0   0   \n",
       "1     2.524557   5.208811   0.117408  2.000571     8.833642   0   0   0   0   \n",
       "2     0.483666   5.000843  -0.574408  0.893178     3.758577   1   0   0   0   \n",
       "3     0.132572   4.723159  -1.025592  0.925115     5.040068   0   0   0   0   \n",
       "4     0.094462   4.396336   0.122421 -0.088195    -0.154665   1   0   0   0   \n",
       "..         ...        ...        ...       ...          ...  ..  ..  ..  ..   \n",
       "495  -0.205550  -0.493871   0.102369 -0.289616    -0.503012   0   0   0   0   \n",
       "496  -0.422855  -0.494576   1.009750 -0.261525    -0.308637   0   0   0   0   \n",
       "497  -0.387989  -0.494602   0.012132 -0.119584     0.570920   1   0   0   0   \n",
       "498  -0.420982  -0.494732   0.012132 -0.241426    -0.230979   0   0   0   0   \n",
       "499   0.435016  -0.495228  -0.328763 -0.289124    -0.415384   0   0   0   0   \n",
       "\n",
       "     IN  ...  MO  NC  NE  NY  OH  OK  PA  TN  TX  WI  \n",
       "0     0  ...   0   0   0   0   0   0   0   0   0   0  \n",
       "1     0  ...   0   0   1   0   0   0   0   0   0   0  \n",
       "2     0  ...   0   0   0   0   0   0   0   0   0   0  \n",
       "3     0  ...   0   0   0   0   0   0   0   0   1   0  \n",
       "4     0  ...   0   0   0   0   0   0   0   0   0   0  \n",
       "..   ..  ...  ..  ..  ..  ..  ..  ..  ..  ..  ..  ..  \n",
       "495   0  ...   0   0   0   0   0   0   0   0   1   0  \n",
       "496   0  ...   0   0   0   0   0   0   1   0   0   0  \n",
       "497   0  ...   0   0   0   0   0   0   0   0   0   0  \n",
       "498   0  ...   0   0   0   0   0   0   0   0   1   0  \n",
       "499   0  ...   0   0   0   1   0   0   0   0   0   0  \n",
       "\n",
       "[500 rows x 23 columns]"
      ]
     },
     "execution_count": 48,
     "metadata": {},
     "output_type": "execute_result"
    }
   ],
   "source": [
    "svc_X_final"
   ]
  },
  {
   "cell_type": "markdown",
   "metadata": {},
   "source": [
    "Evaluating our final model, using Stratified K-Fold cross-validation, which only contains our most \"important\" features."
   ]
  },
  {
   "cell_type": "code",
   "execution_count": 49,
   "metadata": {},
   "outputs": [
    {
     "name": "stdout",
     "output_type": "stream",
     "text": [
      "Mean Accuracy Score for 5 fold Stratified Cross Validation: 0.912 with Standard Dev.: 0.0133\n",
      "Mean Recall Score for 5 fold Stratified Cross Validation: 0.5816 with Standard Dev.: 0.1132\n",
      "Mean Precision Score for 5 fold Stratified Cross Validation: 0.8588 with Standard Dev.: 0.0904\n"
     ]
    }
   ],
   "source": [
    "svc_accs = []\n",
    "svc_recalls = []\n",
    "svc_precs = []\n",
    "for train_index, test_index in kfold.split(svc_X_final, y):\n",
    "    X_train , X_test = svc_X_final.iloc[train_index,:], svc_X_final.iloc[test_index,:]\n",
    "    y_train , y_test = y[train_index], y[test_index]\n",
    "    Final_svc_Model = SVC(C = gsSVC.best_params_[\"svc__C\"], gamma = gsSVC.best_params_[\"svc__gamma\"], kernel = gsSVC.best_params_[\"svc__kernel\"], random_state = 420, probability = True)\n",
    "    Final_svc_Model.fit(X_train, y_train)\n",
    "    y_pred = Final_svc_Model.predict(X_test)\n",
    "    svc_accs.append(accuracy_score(y_test, y_pred))\n",
    "    svc_recalls.append(recall_score(y_test, y_pred))\n",
    "    svc_precs.append(precision_score(y_test, y_pred))\n",
    "    \n",
    "print(f\"Mean Accuracy Score for 5 fold Stratified Cross Validation: {np.round(np.mean(svc_accs), 4)} with Standard Dev.: {np.round(np.std(svc_accs), 4)}\")\n",
    "print(f\"Mean Recall Score for 5 fold Stratified Cross Validation: {np.round(np.mean(svc_recalls), 4)} with Standard Dev.: {np.round(np.std(svc_recalls), 4)}\")\n",
    "print(f\"Mean Precision Score for 5 fold Stratified Cross Validation: {np.round(np.mean(svc_precs), 4)} with Standard Dev.: {np.round(np.std(svc_precs), 4)}\")"
   ]
  },
  {
   "cell_type": "code",
   "execution_count": null,
   "metadata": {},
   "outputs": [],
   "source": []
  },
  {
   "cell_type": "code",
   "execution_count": null,
   "metadata": {},
   "outputs": [],
   "source": []
  },
  {
   "cell_type": "markdown",
   "metadata": {},
   "source": [
    "### Comparing both models"
   ]
  },
  {
   "cell_type": "markdown",
   "metadata": {},
   "source": [
    "#### Plots showing the importance of the features for both models"
   ]
  },
  {
   "cell_type": "code",
   "execution_count": 50,
   "metadata": {},
   "outputs": [
    {
     "data": {
      "text/plain": [
       "<matplotlib.legend.Legend at 0x20b32cc7880>"
      ]
     },
     "execution_count": 50,
     "metadata": {},
     "output_type": "execute_result"
    },
    {
     "data": {
      "image/png": "[encoded data removed]",
      "text/plain": [
       "<Figure size 1080x720 with 2 Axes>"
      ]
     },
     "metadata": {
      "needs_background": "light"
     },
     "output_type": "display_data"
    }
   ],
   "source": [
    "svc_coefs.sort_values(\"coefs\", inplace=True)\n",
    "\n",
    "LogReg_coefs.sort_values(\"coefs\", inplace=True)\n",
    "\n",
    "fig, axs  = plt.subplots(1, 2, figsize= (15, 10))\n",
    "\n",
    "axs[0].barh(LogReg_coefs[\"feature\"], LogReg_coefs[\"coefs\"], label = \"Least Important Features\")\n",
    "axs[0].set_title(\"Logistic Regression\")\n",
    "\n",
    "axs[1].barh(svc_coefs[\"feature\"], svc_coefs[\"coefs\"], label = \"Least Important Features\")\n",
    "axs[1].set_title(\"Support Vector Classifier\")\n",
    "\n",
    "axs[0].barh(LogReg_most_imp[\"feature\"], LogReg_most_imp[\"coefs\"], color = \"Red\", label = \"Most Important Features\")\n",
    "\n",
    "axs[1].barh(svc_most_imp[\"feature\"], svc_most_imp[\"coefs\"], color = \"Red\", label = \"Most Important Features\")\n",
    "\n",
    "plt.legend()\n",
    "#plt.savefig(\"Feature Importance.png\")"
   ]
  },
  {
   "cell_type": "code",
   "execution_count": 51,
   "metadata": {},
   "outputs": [],
   "source": [
    "LogReg_X_final_train, LogReg_X_final_test, LogReg_y_final_train, LogReg_y_final_test = train_test_split(LogReg_X_final, y, test_size = 0.2, stratify = y, random_state = 420)\n",
    "svc_X_final_train, svc_X_final_test, svc_y_final_train, svc_y_final_test = train_test_split(svc_X_final, y, test_size = 0.2, stratify = y, random_state = 420)"
   ]
  },
  {
   "cell_type": "code",
   "execution_count": 52,
   "metadata": {},
   "outputs": [],
   "source": [
    "svc =  SVC(C = gsSVC.best_params_[\"svc__C\"], gamma = gsSVC.best_params_[\"svc__gamma\"], kernel = gsSVC.best_params_[\"svc__kernel\"], random_state = 420, probability = True)\n",
    "LogReg = LogisticRegression()"
   ]
  },
  {
   "cell_type": "markdown",
   "metadata": {},
   "source": [
    "#### Plot comparing the ROC Curves of both models"
   ]
  },
  {
   "cell_type": "code",
   "execution_count": 53,
   "metadata": {},
   "outputs": [
    {
     "data": {
      "text/plain": [
       "Text(0.63, 0.4, 'Less accurate area')"
      ]
     },
     "execution_count": 53,
     "metadata": {},
     "output_type": "execute_result"
    },
    {
     "data": {
      "image/png": "[encoded data removed]",
      "text/plain": [
       "<Figure size 864x864 with 1 Axes>"
      ]
     },
     "metadata": {
      "needs_background": "light"
     },
     "output_type": "display_data"
    }
   ],
   "source": [
    "fig1 = plt.figure(figsize=[12, 12])\n",
    "ax1 = fig1.add_subplot(111, aspect='equal')\n",
    "ax1.add_patch(\n",
    "    patches.Arrow(0.45, 0.5, -0.25, 0.25, width=0.3, color='green', alpha=0.5)\n",
    ")\n",
    "ax1.add_patch(\n",
    "    patches.Arrow(0.5, 0.45, 0.25, -0.25, width=0.3, color='red', alpha=0.5)\n",
    ")\n",
    "\n",
    "svc_prediction  = svc.fit(svc_X_final_train, svc_y_final_train)\n",
    "svc_y_pred_proba = svc.predict_proba(svc_X_final_test)[::, 1]\n",
    "svc_fpr, svc_tpr, svc_t = roc_curve(svc_y_final_test, svc_y_pred_proba)    \n",
    "svc_auc = roc_auc_score(svc_y_final_test, svc_y_pred_proba)\n",
    "\n",
    "ax1.plot(svc_fpr, svc_tpr, lw=2, label='SVC ROC (AUC = %0.2f)' % (svc_auc), alpha = 0.5)\n",
    "\n",
    "LogReg_prediction  = LogReg.fit(LogReg_X_final_train, LogReg_y_final_train)\n",
    "LogReg_y_pred_proba = LogReg.predict_proba(LogReg_X_final_test)[::, 1]\n",
    "LogReg_fpr, LogReg_tpr, LogReg_t = roc_curve(LogReg_y_final_test, LogReg_y_pred_proba)    \n",
    "LogReg_auc = roc_auc_score(LogReg_y_final_test, LogReg_y_pred_proba)\n",
    "\n",
    "ax1.plot(LogReg_fpr, LogReg_tpr, lw=2, label='Logistic Regression ROC (AUC = %0.2f)' % (LogReg_auc), alpha = 0.5)\n",
    "\n",
    "plt.plot([0, 1], [0, 1], linestyle='--', lw=2, color='black')\n",
    "\n",
    "plt.xlabel('False Positive Rate', fontsize = 14)\n",
    "plt.ylabel('True Positive Rate', fontsize = 14)\n",
    "#plt.title('Comparing the ROC Curves for our Logistic Regression and our Support Vector Classifier models')\n",
    "plt.legend(loc=\"lower right\")\n",
    "plt.text(0.32, 0.7, 'More accurate area', fontsize=12)\n",
    "plt.text(0.63, 0.4, 'Less accurate area', fontsize=12)\n",
    "\n",
    "#plt.savefig(\"Roc Curves.png\")"
   ]
  },
  {
   "cell_type": "code",
   "execution_count": null,
   "metadata": {},
   "outputs": [],
   "source": []
  },
  {
   "cell_type": "code",
   "execution_count": null,
   "metadata": {},
   "outputs": [],
   "source": []
  },
  {
   "cell_type": "code",
   "execution_count": null,
   "metadata": {},
   "outputs": [],
   "source": []
  }
 ],
 "metadata": {
  "kernelspec": {
   "display_name": "Python [conda env:root] *",
   "language": "python",
   "name": "conda-root-py"
  },
  "language_info": {
   "codemirror_mode": {
    "name": "ipython",
    "version": 3
   },
   "file_extension": ".py",
   "mimetype": "text/x-python",
   "name": "python",
   "nbconvert_exporter": "python",
   "pygments_lexer": "ipython3",
   "version": "3.8.10"
  }
 },
 "nbformat": 4,
 "nbformat_minor": 4
}
