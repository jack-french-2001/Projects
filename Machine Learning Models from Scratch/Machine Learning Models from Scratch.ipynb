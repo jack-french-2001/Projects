{
 "cells": [
  {
   "cell_type": "markdown",
   "metadata": {
    "deletable": false,
    "editable": false,
    "nbgrader": {
     "cell_type": "markdown",
     "checksum": "6da95f9f2030e872d9a4519e71b3e350",
     "grade": false,
     "grade_id": "cell-11fe0ac8a0e8c08a",
     "locked": true,
     "schema_version": 3,
     "solution": false,
     "task": false
    }
   },
   "source": [
    "# ECMM422 Machine Learning\n",
    "## Course Assessment 1\n",
    "\n",
    "This course assessment (CA) represents 40% of the overall module assessment.\n",
    "\n",
    "This is an individual exercise and your attention is drawn to the College and University guidelines on collaboration and plagiarism, which are available from the [College website](https://www.exeter.ac.uk/students/administration/complaintsandappeals/academicmisconduct/). \n",
    "Students are **not allowed** to use Large Language Models (such as ChatGPT, Claude, Gemini, etc) to generate code for the CA.\n",
    "\n",
    "\n",
    "**Submission information:**\n",
    "1. do not change the name of this notebook, i.e. the notebook file has to be: `ca.ipynb`\n",
    "2. do not add you name or student code in the notebook or in the file name\n",
    "3. do not remove or delete or add any cell in this notebook\n",
    "4. make sure to **remove** and **delete** the `raise NotImplementedError()` under the `# YOUR CODE HERE` and replace it with **your code**: note that if you leave it in the cell you will fail the associated test\n",
    "5. do not remove the function `save_history()` at the end of each cell. This function will save your edit operations on the code in the cell and will be used as proof of work, i.e. proof that you have been working on the questions assigned\n",
    "6. work always in the cells provided when developing your implementation, i.e. do not work on another notebook or with programming environments that do not operate on this notebook.\n",
    "7. when you are finished debugging **remove** all code that is not part of the function definition, i.e. leave only the clean function implementation in the cell: do not leave debugging `print` statements in the functions, and do not leave function invocations on test inputs\n",
    "8. make sure that the execution of the cell **does not produce any type of output**: the execution of the cell should only define the desired functions\n",
    "9. before the final submission run the function `check_and_prepare_for_submission()` in the last cell of the notebook: this function will create a zip archive called `ecmm422ca1.zip` which contains your notebook and the folder `proof_of_work`.\n",
    "10. Submit only the file `ecmm422ca1.zip`\n",
    "\n",
    "\n",
    "**Evaluation criteria:**\n",
    "\n",
    "Each question asks for one or more functions to be implemented. \n",
    "\n",
    "- Each function is awarded a number of marks. \n",
    "- One or more hidden unit tests are going to evaluate if all desired properties of the required function are met. \n",
    "- If the function passes a test all the associated marks are awarded, if it fails 0 marks are awarded.\n",
    "- If you make a typo error (e.g. misspelling a variable) this will likely causes a syntax error, the function execution will fail and you will be awarded 0 marks.\n",
    "- Do not make assumptions on the state of previous cells, i.e. expect each function to be evaluated independently, moreover expect each function to be tested in the unit tests on some *randomly* generated input.\n",
    "\n",
    "Although the test use a hard fail/pass strategy to assign marks, the presence of several questions and several unit tests per question allows a fine grading. \n",
    "\n",
    "The Checkpoints are not graded by default, but might be used to assign additional marks in case the execution of the code obtains the desired results even when some tests might fail.\n",
    "\n",
    "**Efficiency:** There is a cap of a few minutes on the execution of each cell and unit test. Make sure your code is not terribly inefficient (for example having a cell run for hours, e.g. using nested loops rather than NumPy functions that can work directly on  arrays), otherwise the execution of the cell/unit test will be interrupted and considered a failure. "
   ]
  },
  {
   "cell_type": "markdown",
   "metadata": {
    "deletable": false,
    "editable": false,
    "nbgrader": {
     "cell_type": "markdown",
     "checksum": "7c6b5e536ac19f860ad3461d8cd78984",
     "grade": false,
     "grade_id": "cell-b7361becee158bc9",
     "locked": true,
     "schema_version": 3,
     "solution": false,
     "task": false
    }
   },
   "source": [
    "## Conventions and notation:\n",
    "\n",
    "Do not assume any library is avaialble other than `matplotlib`, `numpy`, `scipy`.\n",
    "\n",
    "Assume Python 3.8.\n",
    "\n",
    "---\n",
    "\n",
    "In the rest of the notebook, the term `data matrix` refers to a two dimensional numpy array where instances are encoded as rows, e.g. a data matrix with 100 rows and 4 columns is to be interpreted as a collection of 100 instances (vectors) each of dimension four.\n",
    "\n",
    "Make sure to convert numpy `matrix` objects to numpy arrays when returning a data matrix: only arrays are acceptable, not  numpy `matrix` objects. \n",
    "\n",
    "In the rest of the notebook, the term `vector` refers to a **one** dimensional numpy array. \n",
    "\n",
    "When we explicitly use the term `column vector` we mean a two dimensional array of shape `(n,1)`, when we explicitly use the term `row vector` we mean a two dimensional vector of shape `(1,n)`.\n",
    "\n",
    "When the term `distance` is used we mean the Euclidean distance. \n",
    "\n",
    "The functions you are required to write often need to take in input and return as output such objects, i.e. numpy arrays, not python lists. Check the specifications for each required function in the question text. \n",
    "\n",
    "---\n",
    "\n",
    "**Do not use library functions** to directly solve a question unless explicity instructed to do so. That is, when a required function can be implemented directly by a library function it is intended that the candidate should write their own implementation of the function: for example it the Question asks to implement a function to compute the `accuracy` one cannot just wrap the function `accuracy_score` from `sklearn.metrics` in a custom function; if a question asks to implement the K-nearest_neighbor algorithm one cannot just wrap the function `KNeighborsClassifier` from `sklearn.neighbors` in a custom function.\n",
    "\n",
    "---\n",
    "\n",
    "Do not assume that the implementations provided in the Workshops exercises contain no mistakes. You should write and are ultimately responsible for the code that you submit in this Assessment.\n",
    "\n"
   ]
  },
  {
   "cell_type": "code",
   "execution_count": 1,
   "metadata": {
    "ExecuteTime": {
     "end_time": "2024-02-22T17:45:34.739166Z",
     "start_time": "2024-02-22T17:45:34.734254Z"
    },
    "deletable": false,
    "editable": false,
    "nbgrader": {
     "cell_type": "code",
     "checksum": "ae5641f52be62d406cd9aea7cc67176b",
     "grade": false,
     "grade_id": "cell-9e614a36d5268220",
     "locked": true,
     "schema_version": 3,
     "solution": false,
     "task": false
    }
   },
   "outputs": [],
   "source": [
    "%matplotlib inline\n",
    "import matplotlib.pyplot as plt\n",
    "from mpl_toolkits.mplot3d import Axes3D\n",
    "import numpy as np\n",
    "import scipy as sp\n",
    "from submission_utils import save_history, check_and_prepare_for_submission\n",
    "# import warnings filter\n",
    "from warnings import simplefilter\n",
    "# ignore all future warnings\n",
    "simplefilter(action='ignore', category=FutureWarning)"
   ]
  },
  {
   "cell_type": "markdown",
   "metadata": {
    "deletable": false,
    "editable": false,
    "nbgrader": {
     "cell_type": "markdown",
     "checksum": "700d100e477e2f7b3908f76bac351016",
     "grade": false,
     "grade_id": "cell-41308c8fadb8d614",
     "locked": true,
     "schema_version": 3,
     "solution": false,
     "task": false
    }
   },
   "source": [
    "## Question 1\n",
    "\n",
    "<div style=\"text-align: right\"><b>[14 marks]</b></div>\n",
    "\n",
    "**Generating and visualizing synthetic datasets**\n",
    "\n",
    "---\n",
    "\n",
    "**Objective:**\n",
    "The objective of this section of the programming assignment is to implement functions to generate synthetic datasets for binary classification tasks. You will be implementing three functions: `make_positive_data`, `make_negative_data`, and `make_dataset`.\n",
    "In addition you are to implement the functions `plot2d` and `plot3d` for visualizing data points in 2D and 3D space, respectively.\n",
    "\n",
    "Positive data should be generated as follows:\n",
    "\n",
    "- a total of `n_instances` will be generated, of which a fraction equal to `1-fraction_of_outliers` will be inliers and a fraction equal to `fraction_of_outliers` will be outliers.\n",
    "- the inliers will be generated using the composition of two multivariate normal distributions.\n",
    "- the inliers will be points in a vector space of dimension `n_informative_features+n_non_informative_features`, i.e. if `n_informative_features=2` and  `n_non_informative_features=3` the inliers will be points in a vector space of dimension 5.\n",
    "- the first `n_informative_features` features will be generated according to a multivariate normal distribution with mean `[1,1,...,1]` (i.e. the ONE vector in n-dimensions), and standard deviation `std`\n",
    "- the remaining `n_non_informative_features` features will be generated according to a multivariate normal distribution with zero mean and standard deviation `std`\n",
    "- the outliers will be generated in a similar way, but where the first `n_informative_features` features will be generated according to a multivariate normal distribution with mean `[-1,-1,...,-1]` (i.e. the negative ONE vector in n-dimensions), and standard deviation `outliers_std`\n",
    "- the remaining `n_non_informative_features` features for the outliers will be generated according to a multivariate normal distribution with zero mean and standard deviation `std`\n",
    "\n",
    "Negative data does not have outliers and should be generated as follows:\n",
    "\n",
    "- a total of `n_instances` will be generated\n",
    "- the instances will be generated using the composition of two multivariate normal distributions.\n",
    "- the instances will be points in a vector space of dimension `n_informative_features+n_non_informative_features`, i.e. if `n_informative_features=2` and  `n_non_informative_features=3` the instances will be points in a vector space of dimension 5.\n",
    "- the first `n_informative_features` features will be generated according to a multivariate normal distribution with mean `[-1,-1,...,-1]` (i.e. the negative ONE vector in n-dimensions) and standard deviation `std`\n",
    "- the remaining `n_non_informative_features` features will be generated according to a multivariate normal distribution with zero mean and standard deviation `std`\n",
    "\n",
    "The function `make_dataset` will generate a total of `n_instances` of which half will be positive (including the outliers) and halp will be negative. \n",
    "\n",
    "---\n",
    "\n",
    "**Instructions:**\n",
    "\n",
    "1. **make_positive_data:**\n",
    "   - Implement the function `make_positive_data` that generates synthetic data for the positive class.\n",
    "   - Parameters:\n",
    "     - `n_instances`: Total number of instances in the dataset.\n",
    "     - `fraction_of_outliers`: Fraction of outliers to include in the dataset.\n",
    "     - `n_informative_features`: Number of informative features.\n",
    "     - `n_non_informative_features`: Number of non-informative features.\n",
    "     - `std`: Standard deviation for generating data.\n",
    "     - `outliers_std`: Standard deviation for generating outliers.\n",
    "   - Returns:\n",
    "     - `data_mtx`: Synthetic data matrix for the positive class.\n",
    "<div style=\"text-align: right\"><b>[4 marks]</b></div>\n",
    "\n",
    "2. **make_negative_data:**\n",
    "   - Implement the function `make_negative_data` that generates synthetic data for the negative class.\n",
    "   - Parameters:\n",
    "     - `n_instances`: Total number of instances in the dataset.\n",
    "     - `n_informative_features`: Number of informative features.\n",
    "     - `n_non_informative_features`: Number of non-informative features.\n",
    "     - `std`: Standard deviation for generating data.\n",
    "   - Returns:\n",
    "     - `data_mtx`: Synthetic data matrix for the negative class.\n",
    "<div style=\"text-align: right\"><b>[3 marks]</b></div>\n",
    "\n",
    "3. **make_dataset:**\n",
    "   - Implement the function `make_dataset` that combines positive and negative data to create a dataset.\n",
    "   - Parameters:\n",
    "     - `n_instances`: Total number of instances in the dataset.\n",
    "     - `fraction_of_outliers`: Fraction of outliers to include in the positive class.\n",
    "     - `n_informative_features`: Number of informative features.\n",
    "     - `n_non_informative_features`: Number of non-informative features.\n",
    "     - `std`: Standard deviation for generating data.\n",
    "     - `outliers_std`: Standard deviation for generating outliers.\n",
    "   - Returns:\n",
    "     - `data_mtx`: Combined synthetic data matrix for both classes.\n",
    "     - `targets`: Array of binary labels (0 for negative class, 1 for positive class).\n",
    "<div style=\"text-align: right\"><b>[3 marks]</b></div>\n",
    "\n",
    "4. **plot2d:**\n",
    "   - Implement the function `plot2d` that visualizes a 2D dataset. Note, only the first two dimensions of `data_mtx` will be used for visualization.\n",
    "   - Parameters:\n",
    "     - `data_mtx`: 2D data matrix containing the data points.\n",
    "     - `targets` (optional): Array of target labels corresponding to each data point. If provided, the points will be colored based on their target labels.\n",
    "     - `title`: Title for the plot.\n",
    "     - `size`: Size of the plot.\n",
    "   - Returns:\n",
    "     - A scatter plot visualizing the 2D dataset.\n",
    "<div style=\"text-align: right\"><b>[2 marks]</b></div>\n",
    "\n",
    "5. **plot3d:**\n",
    "   - Implement the function `plot3d` that visualizes a 3D dataset. Note, only the first three dimensions of `data_mtx` will be used for visualization.\n",
    "   - Parameters:\n",
    "     - `data_mtx`: 3D data matrix containing the data points.\n",
    "     - `targets` (optional): Array of target labels corresponding to each data point. If provided, the points will be colored based on their target labels.\n",
    "     - `title`: Title for the plot.\n",
    "     - `size`: Size of the plot.\n",
    "   - Returns:\n",
    "     - A 3D scatter plot visualizing the 3D dataset.\n",
    "<div style=\"text-align: right\"><b>[2 marks]</b></div>\n",
    "---\n",
    "\n",
    "**Note:**\n",
    "- You should use the `numpy` library for generating random data matrices.\n",
    "- The function `make_dataset` should return the instances in random order, i.e. we should not have first all the positive instances followed by all the negative instances, but rather positive and negative instances should be randomly mixed. \n",
    "- You should use the `matplotlib` library for creating scatter plots.\n",
    "- For `plot2d`, only the first two dimensions of `data_mtx` will be used for visualization.\n",
    "- For `plot3d`, the first three dimensions of `data_mtx` will be used for visualization.\n",
    "- If `targets` are provided, points should be colored according to their target labels.\n",
    "- Make sure to set appropriate titles for the plots.\n",
    "\n",
    "--- "
   ]
  },
  {
   "cell_type": "code",
   "execution_count": 2,
   "metadata": {
    "ExecuteTime": {
     "end_time": "2024-02-22T17:45:34.765955Z",
     "start_time": "2024-02-22T17:45:34.742327Z"
    },
    "deletable": false,
    "nbgrader": {
     "cell_type": "code",
     "checksum": "751cd2b5bae082bb4a02b973bd7f6abd",
     "grade": false,
     "grade_id": "cell-7ff80e3f356e10bd",
     "locked": false,
     "schema_version": 3,
     "solution": true,
     "task": false
    }
   },
   "outputs": [],
   "source": [
    "# The covariance matrix is diagonal, meaning that we can sample from independent normal distributions for each point, rather than sampling\n",
    "# from a multivariate normal which is much more computationally expensive\n",
    "\n",
    "def make_positive_data(n_instances: int, fraction_of_outliers: float, n_informative_features: int, n_non_informative_features: int, std: float, outliers_std: float) -> np.ndarray:\n",
    "    \"\"\"\n",
    "    - Generates synthetic data for the positive class.\n",
    "    - Parameters:\n",
    "        - `n_instances` (int): Total number of instances in the dataset, greater than 2.\n",
    "        - `fraction_of_outliers` (int): Fraction of outliers to include in the dataset, between 0 and 1.\n",
    "        - `n_informative_features` (int): Number of informative features, 0 or positive.\n",
    "        - `n_non_informative_features` (int): Number of non-informative features, 0 or positive.\n",
    "        - `std` (int): Standard deviation for generating data, must be positive.\n",
    "        - `outliers_std` (int): Standard deviation for generating outliers, must be positive.\n",
    "   - Returns:\n",
    "        - `data_mtx` (np.ndarray): Synthetic data matrix for the positive class.\n",
    "    \"\"\"\n",
    "    # Calculate the number of outliers\n",
    "    n_outliers = int(np.round(n_instances * fraction_of_outliers))\n",
    "    # Calculate the number of inliers\n",
    "    n_inliers = n_instances - n_outliers\n",
    "    \n",
    "    # Obtain the matrix of positive inlier points, where the first n_informative_features columns are generated from a normal distribution with mean 1 and standard deviation = std and \n",
    "    # the next n_non_informative_features are generated from a normal distribution with mean 0 and standard deviation = std. The shape of this matrix is \n",
    "    # (n_inliers, n_informative_features + n_non_informative_features) \n",
    "    inliers = np.array(\n",
    "        [\n",
    "            np.append(np.random.normal(1, std, size = n_informative_features), np.random.normal(0, std, size = n_non_informative_features)) for _ in range(n_inliers)\n",
    "        ]\n",
    "    )\n",
    "\n",
    "    # If the number of outliers is non-zero, obtain the matrix of positiveoutlier points, where the first n_informative_features columns are generated from a normal \n",
    "    # distribution with mean -1 and standard deviation = outliers_std and the next n_non_informative_features are generated from a normal \n",
    "    # distribution with mean 0 and standard deviation = std. The shape of this matrix is (n_outliers, n_informative_features + n_non_informative_features).\n",
    "    if n_outliers != 0:\n",
    "        outliers = np.array(\n",
    "            [\n",
    "                np.append(np.random.normal(-1, outliers_std, size = n_informative_features), np.random.normal(0, std, size = n_non_informative_features)) for _ in range(n_outliers)\n",
    "            ]\n",
    "        )\n",
    "        data_mtx = np.vstack((inliers, outliers))\n",
    "        assert type(data_mtx) == type(np.array([]))\n",
    "        assert type(data_mtx[0]) == type(np.array([]))\n",
    "        assert type(data_mtx) == np.ndarray\n",
    "        assert type(data_mtx[0]) == np.ndarray\n",
    "        return data_mtx\n",
    "    # If the number of outliers is equal to 0 then return the data_mtx which is just the inliers matrix.\n",
    "    else:  \n",
    "        data_mtx = inliers\n",
    "        assert type(data_mtx) == np.ndarray\n",
    "        assert type(data_mtx[0]) == np.ndarray\n",
    "        return data_mtx\n",
    "\n",
    "    \n",
    "\n",
    "def make_negative_data(n_instances: int, n_informative_features: int, n_non_informative_features: int, std: float) -> np.ndarray:\n",
    "    \"\"\"\n",
    "    - Generates synthetic data for the negative class.\n",
    "    - Parameters:\n",
    "        - `n_instances` (int): Total number of instances in the dataset, must be positive.\n",
    "        - `n_informative_features` (int): Number of informative features, must be 0 or positive.\n",
    "        - `n_non_informative_features` (int): Number of non-informative features, must be 0 or positive.\n",
    "        - `std` (float): Standard deviation for generating data, must be positive.\n",
    "    - Returns:\n",
    "        - `data_mtx` (np.ndarray): Synthetic data matrix for the negative class.\n",
    "    \"\"\"\n",
    "    # Obtain the matrix of negative points, where the first n_informative_features columns are generated from a normal distribution with mean -1 and standard deviation = std and \n",
    "    # the next n_non_informative_features are generated from a normal distribution with mean 0 and standard deviation = std. The shape of this matrix is \n",
    "    # (n_instances, n_informative_features + n_non_informative_features) \n",
    "    data_mtx = np.array(\n",
    "        [\n",
    "            np.append(np.random.normal(-1, std, size = n_informative_features), np.random.normal(0, std, size = n_non_informative_features)) for _ in range(n_instances)\n",
    "        ]\n",
    "    )\n",
    "    assert type(data_mtx) == np.ndarray\n",
    "    assert type(data_mtx[0]) == np.ndarray\n",
    "    return data_mtx\n",
    "\n",
    "def make_dataset(n_instances: int, fraction_of_outliers: float, n_informative_features: int, n_non_informative_features: int, std: float, outliers_std: float) -> (np.ndarray, np.ndarray):\n",
    "    \"\"\"\n",
    "    - Combines positive and negative data to create a dataset.\n",
    "    - Parameters:\n",
    "        - `n_instances` (int): Total number of instances in the dataset, must be positive.\n",
    "        - `fraction_of_outliers` (float): Fraction of outliers to include in the positive class, must be between 0 and 1.\n",
    "        - `n_informative_features` (int): Number of informative features, must be 0 or positive.\n",
    "        - `n_non_informative_features` (int): Number of non-informative features, must be 0 or positive.\n",
    "        - `std` (float): Standard deviation for generating data, must be positive.\n",
    "        - `outliers_std` (float): Standard deviation for generating outliers, must be positive.\n",
    "    - Returns:\n",
    "        - `data_mtx` (np.ndarray): Combined synthetic data matrix for both classes.\n",
    "        - `targets` (np.ndarray): Array of binary labels (0 for negative class, 1 for positive class).\n",
    "    \"\"\"\n",
    "    # Calculate the number of positive instances needed\n",
    "    n_positive = int(np.round(n_instances / 2))\n",
    "    # Calculate the number of negative instances needed\n",
    "    n_negative = n_instances - n_positive\n",
    "    # Make the positive data\n",
    "    pos_mtx = make_positive_data(n_positive, fraction_of_outliers, n_informative_features, n_non_informative_features, std, outliers_std)\n",
    "    # Make the negative data\n",
    "    neg_mtx = make_negative_data(n_negative, n_informative_features, n_non_informative_features, std)\n",
    "    # Combine the positive and negative data\n",
    "    data_mtx = np.vstack((pos_mtx, neg_mtx))\n",
    "    # Make the target vector\n",
    "    targets = np.append(np.ones(n_positive), np.zeros(n_negative))\n",
    "\n",
    "    # Randomise the order of the instances\n",
    "    rand_idx = np.random.choice(n_instances, n_instances, replace=False)\n",
    "    data_mtx = data_mtx[rand_idx]\n",
    "    targets = targets[rand_idx]\n",
    "\n",
    "    assert type(data_mtx) == np.ndarray\n",
    "    assert type(data_mtx[0]) == np.ndarray\n",
    "    assert type(targets) == np.ndarray\n",
    "    return data_mtx, targets\n",
    "\n",
    "def plot2d(data_mtx: np.ndarray, targets: np.ndarray = None, title: str = \"Data 2D\", size: int = 8):\n",
    "    \"\"\"\n",
    "    - Visualizes a 2D dataset. Note, only the first two dimensions of `data_mtx` will be used for visualization.\n",
    "    - Parameters:\n",
    "        - `data_mtx` (np.ndarray): 2D data matrix containing the data points.\n",
    "        - `targets` (np.ndarray, optional): Array of target labels corresponding to each data point. If provided, the points will be colored based on their target labels.\n",
    "        - `title` (str): Title for the plot defaults to 'Visualising a 2D Dataset'.\n",
    "        - `size` (float): Size of the plot, defaults to 8.\n",
    "    - Returns:\n",
    "     - A scatter plot visualizing the 2D dataset.\n",
    "    \"\"\"\n",
    "    fig, ax = plt.subplots(figsize = (size, size))\n",
    "    # If the targets are not none then color the points based on their target labels\n",
    "    if targets is not None:\n",
    "        ax.scatter(data_mtx[:,0], data_mtx[:,1], c = targets, cmap = \"viridis\", s=size)\n",
    "    # Else leave them colored in the default color\n",
    "    else: \n",
    "        ax.scatter(data_mtx[:,0], data_mtx[:,1], s=size)\n",
    "    # Set the plot title\n",
    "    ax.set_title(title)\n",
    "    # Display the plot\n",
    "    plt.show()\n",
    "\n",
    "def plot3d(data_mtx: np.ndarray, targets: np.ndarray = None, title: str = \"Data 3D\", size: int = 8):\n",
    "    \"\"\"\n",
    "    - Visualizes a 3D dataset. Note, only the first three dimensions of `data_mtx` will be used for visualization.\n",
    "    - Parameters:\n",
    "        - `data_mtx` (np.ndarray): 3D data matrix containing the data points.\n",
    "        - `targets` (np.ndarray, optional): Array of target labels corresponding to each data point. If provided, the points will be colored based on their target labels.\n",
    "        - `title` (str): Title for the plot defaults to 'Visualising a 2D Dataset'.\n",
    "        - `size` (float): Size of the plot, defaults to 8.\n",
    "    - Returns:\n",
    "     - A scatter plot visualizing the 2D dataset.\n",
    "    \"\"\"\n",
    "    fig = plt.figure(figsize = (size, size))\n",
    "    ax = fig.add_subplot(projection='3d')\n",
    "    # If the targets are not none then color the points based on their target labels\n",
    "    if targets is not None:\n",
    "        ax.scatter(data_mtx[:,0], data_mtx[:,1], data_mtx[:,2], c = targets, cmap = \"viridis\", s=size)\n",
    "    # Else leave them colored in the default color\n",
    "    else: \n",
    "        ax.scatter(data_mtx[:,0], data_mtx[:,1], data_mtx[:,2], s=size)\n",
    "    # Set the plot title\n",
    "    ax.set_title(title)\n",
    "    # Display the plot\n",
    "    plt.show()\n",
    "\n",
    "save_history()"
   ]
  },
  {
   "cell_type": "code",
   "execution_count": 3,
   "metadata": {
    "ExecuteTime": {
     "end_time": "2024-02-22T17:45:34.770463Z",
     "start_time": "2024-02-22T17:45:34.767906Z"
    },
    "deletable": false,
    "editable": false,
    "nbgrader": {
     "cell_type": "code",
     "checksum": "bfde7031afbb3b19d3ff70932ee51fb1",
     "grade": true,
     "grade_id": "cell-3a4bb5a1ef6b2c54",
     "locked": true,
     "points": 2,
     "schema_version": 3,
     "solution": false,
     "task": false
    }
   },
   "outputs": [],
   "source": [
    "# This cell is reserved for the unit tests. Do not consider this cell. "
   ]
  },
  {
   "cell_type": "code",
   "execution_count": 4,
   "metadata": {
    "ExecuteTime": {
     "end_time": "2024-02-22T17:45:34.776312Z",
     "start_time": "2024-02-22T17:45:34.773758Z"
    },
    "deletable": false,
    "editable": false,
    "nbgrader": {
     "cell_type": "code",
     "checksum": "36698da60e47693eb666ee32387a0fcd",
     "grade": true,
     "grade_id": "cell-c1667c077cdd1c83",
     "locked": true,
     "points": 2,
     "schema_version": 3,
     "solution": false,
     "task": false
    }
   },
   "outputs": [],
   "source": [
    "# This cell is reserved for the unit tests. Do not consider this cell. "
   ]
  },
  {
   "cell_type": "code",
   "execution_count": 5,
   "metadata": {
    "ExecuteTime": {
     "end_time": "2024-02-22T17:45:34.780646Z",
     "start_time": "2024-02-22T17:45:34.778476Z"
    },
    "deletable": false,
    "editable": false,
    "nbgrader": {
     "cell_type": "code",
     "checksum": "45992887494c3d3e0494efa4bf369790",
     "grade": true,
     "grade_id": "cell-11fe9e87b2aeafb9",
     "locked": true,
     "points": 2,
     "schema_version": 3,
     "solution": false,
     "task": false
    }
   },
   "outputs": [],
   "source": [
    "# This cell is reserved for the unit tests. Do not consider this cell. "
   ]
  },
  {
   "cell_type": "code",
   "execution_count": 6,
   "metadata": {
    "ExecuteTime": {
     "end_time": "2024-02-22T17:45:34.784893Z",
     "start_time": "2024-02-22T17:45:34.782562Z"
    },
    "deletable": false,
    "editable": false,
    "nbgrader": {
     "cell_type": "code",
     "checksum": "2f76b6ec3345c2ede67fc886bf0d6ac4",
     "grade": true,
     "grade_id": "cell-3a1783fe7754cf12",
     "locked": true,
     "points": 2,
     "schema_version": 3,
     "solution": false,
     "task": false
    }
   },
   "outputs": [],
   "source": [
    "# This cell is reserved for the unit tests. Do not consider this cell. "
   ]
  },
  {
   "cell_type": "code",
   "execution_count": 7,
   "metadata": {
    "ExecuteTime": {
     "end_time": "2024-02-22T17:45:34.789285Z",
     "start_time": "2024-02-22T17:45:34.786876Z"
    },
    "deletable": false,
    "editable": false,
    "nbgrader": {
     "cell_type": "code",
     "checksum": "b495ec69ebd34f37c030d75113937ff5",
     "grade": true,
     "grade_id": "cell-9fa4eeaab9e602f9",
     "locked": true,
     "points": 2,
     "schema_version": 3,
     "solution": false,
     "task": false
    }
   },
   "outputs": [],
   "source": [
    "# This cell is reserved for the unit tests. Do not consider this cell. "
   ]
  },
  {
   "cell_type": "code",
   "execution_count": 8,
   "metadata": {
    "ExecuteTime": {
     "end_time": "2024-02-22T17:45:34.799781Z",
     "start_time": "2024-02-22T17:45:34.797162Z"
    },
    "deletable": false,
    "editable": false,
    "nbgrader": {
     "cell_type": "code",
     "checksum": "946a871819552b4ff3930cccf0293226",
     "grade": true,
     "grade_id": "cell-734a70976eaad0e6",
     "locked": true,
     "points": 2,
     "schema_version": 3,
     "solution": false,
     "task": false
    }
   },
   "outputs": [],
   "source": [
    "# This cell is reserved for the unit tests. Do not consider this cell. "
   ]
  },
  {
   "cell_type": "code",
   "execution_count": 9,
   "metadata": {
    "ExecuteTime": {
     "end_time": "2024-02-22T17:45:34.803831Z",
     "start_time": "2024-02-22T17:45:34.801650Z"
    },
    "deletable": false,
    "editable": false,
    "nbgrader": {
     "cell_type": "code",
     "checksum": "1b030d74ab6f93075309c74ad681f1e5",
     "grade": true,
     "grade_id": "cell-3da0f0a86bcad0f5",
     "locked": true,
     "points": 2,
     "schema_version": 3,
     "solution": false,
     "task": false
    }
   },
   "outputs": [],
   "source": [
    "# This cell is reserved for the unit tests. Do not consider this cell. "
   ]
  },
  {
   "cell_type": "markdown",
   "metadata": {
    "deletable": false,
    "editable": false,
    "nbgrader": {
     "cell_type": "markdown",
     "checksum": "95360115b73320ca7f9c8a45212878d8",
     "grade": false,
     "grade_id": "cell-a9835f8a00d85970",
     "locked": true,
     "schema_version": 3,
     "solution": false,
     "task": false
    }
   },
   "source": [
    "## Checkpoint\n",
    "\n",
    "This is just a check-point, i.e. it is for you to see that you are correctly implementing all functions. \n",
    "\n",
    "Execute the following code (just execute the next cell):\n",
    "```python\n",
    "n_instances = 1000\n",
    "fraction_of_outliers = 0.3\n",
    "n_informative_features = 1\n",
    "n_non_informative_features = 2\n",
    "std = .5\n",
    "outliers_std = 5\n",
    "\n",
    "data_mtx, targets = make_dataset(n_instances, fraction_of_outliers, n_informative_features, n_non_informative_features, std, outliers_std)\n",
    "\n",
    "plot2d(data_mtx, targets, title='Data 2D', size=8)\n",
    "plot3d(data_mtx, targets, title='Data 3D', size=8)\n",
    "```\n",
    "\n",
    "and check that you obtain a plot similar to:\n",
    "\n",
    "<img src=\"img1b.png\" width=40%>\n"
   ]
  },
  {
   "cell_type": "code",
   "execution_count": 10,
   "metadata": {
    "ExecuteTime": {
     "end_time": "2024-02-22T17:45:35.201369Z",
     "start_time": "2024-02-22T17:45:34.805549Z"
    },
    "deletable": false,
    "editable": false,
    "nbgrader": {
     "cell_type": "code",
     "checksum": "744a4df73a55b1da62e8a0188a66643d",
     "grade": false,
     "grade_id": "cell-7638b5bea8a76ff4",
     "locked": true,
     "schema_version": 3,
     "solution": false,
     "task": false
    }
   },
   "outputs": [
    {
     "data": {
      "image/png": "[encoded data removed]",
      "text/plain": [
       "<Figure size 800x800 with 1 Axes>"
      ]
     },
     "metadata": {},
     "output_type": "display_data"
    },
    {
     "data": {
      "image/png": "[encoded data removed]",
      "text/plain": [
       "<Figure size 800x800 with 1 Axes>"
      ]
     },
     "metadata": {},
     "output_type": "display_data"
    }
   ],
   "source": [
    "# Just run the following code, do not modify it\n",
    "n_instances = 1000\n",
    "fraction_of_outliers = 0.3\n",
    "n_informative_features = 1\n",
    "n_non_informative_features = 2\n",
    "std = .5\n",
    "outliers_std = 5\n",
    "\n",
    "data_mtx, targets = make_dataset(n_instances, fraction_of_outliers, n_informative_features, n_non_informative_features, std, outliers_std)\n",
    "\n",
    "plot2d(data_mtx, targets, title='Data 2D', size=8)\n",
    "plot3d(data_mtx, targets, title='Data 3D', size=8)"
   ]
  },
  {
   "cell_type": "markdown",
   "metadata": {
    "deletable": false,
    "editable": false,
    "nbgrader": {
     "cell_type": "markdown",
     "checksum": "1409b590724d7a8c241deb52607fee3d",
     "grade": false,
     "grade_id": "cell-703d1350543a455b",
     "locked": true,
     "schema_version": 3,
     "solution": false,
     "task": false
    }
   },
   "source": [
    "# Question 2\n",
    "\n",
    "<div style=\"text-align: right\"><b>[8 marks]</b></div>\n",
    "\n",
    "**Data Rebalancing and Stratified Split**\n",
    "\n",
    "---\n",
    "\n",
    "**Objective:**\n",
    "The objective of this section of the programming assignment is to implement two crucial functions for handling imbalanced datasets in machine learning: `rebalance` and `rebalanced_stratified_split`. These functions are designed to ensure that each class in the dataset has an equal number of instances and that the train-test split is done in a stratified manner, preserving the class distribution in both subsets.\n",
    "\n",
    "---\n",
    "\n",
    "**Instructions:**\n",
    "\n",
    "1. **rebalance:**\n",
    "   - Implement the function `rebalance` that rebalances the dataset by oversampling the minority classes to match the majority class.\n",
    "   - Parameters:\n",
    "     - `X`: Feature matrix.\n",
    "     - `y`: Target vector.\n",
    "   - Returns:\n",
    "     - `new_X`: Rebalanced feature matrix.\n",
    "     - `new_y`: Rebalanced target vector.\n",
    "<div style=\"text-align: right\"><b>[3 marks]</b></div>\n",
    "\n",
    "2. **rebalanced_stratified_split:**\n",
    "   - Implement the function `rebalanced_stratified_split` that performs a stratified split on the rebalanced dataset.\n",
    "   - Parameters:\n",
    "     - `X_orig`: Original feature matrix.\n",
    "     - `y_orig`: Original target vector.\n",
    "     - `test_size`: Size of the test set (default is 0.2).\n",
    "     - `random_state`: Seed for random number generation (default is None).\n",
    "   - Returns:\n",
    "     - `X_train`: Feature matrix for the training set.\n",
    "     - `X_test`: Feature matrix for the test set.\n",
    "     - `y_train`: Target vector for the training set.\n",
    "     - `y_test`: Target vector for the test set.\n",
    "<div style=\"text-align: right\"><b>[5 marks]</b></div>\n",
    "\n",
    "---\n",
    "\n",
    "**Note:**\n",
    "- The `rebalance` function should oversample the minority classes to match the count of the majority class.\n",
    "- The `rebalanced_stratified_split` function should first rebalance the dataset using the `rebalance` function and then perform a stratified split ensuring that class distribution is preserved in both training and testing sets.\n",
    "- You should use the `numpy` library for array manipulations and random operations.\n",
    "- You must write your own implementation and you cannot use the `train_test_split` function from `sklearn`.\n",
    "\n",
    "--- "
   ]
  },
  {
   "cell_type": "code",
   "execution_count": 11,
   "metadata": {
    "ExecuteTime": {
     "end_time": "2024-02-22T17:45:35.236844Z",
     "start_time": "2024-02-22T17:45:35.203386Z"
    },
    "deletable": false,
    "nbgrader": {
     "cell_type": "code",
     "checksum": "d8e28696f057581c17d3fef2c2f3bcb1",
     "grade": false,
     "grade_id": "cell-fa4f327265472f58",
     "locked": false,
     "schema_version": 3,
     "solution": true,
     "task": false
    }
   },
   "outputs": [],
   "source": [
    "def rebalance(X: np.ndarray, y: np.ndarray) -> (np.ndarray, np.ndarray):\n",
    "    \"\"\"\n",
    "    - Rebalances the dataset by randomly oversampling (with replacement) the minority classes to match the majority class.\n",
    "    - Parameters:\n",
    "        - `X` (np.ndarray): Feature matrix.\n",
    "        - `y` (np.ndarray): Target vector.\n",
    "    - Returns:\n",
    "        - `new_X` (np.ndarray): Rebalanced feature matrix.\n",
    "        - `new_y` (np.ndarray): Rebalanced target vector.\n",
    "    \"\"\"\n",
    "    # Copy the X and y arrays\n",
    "    new_X = X.copy()\n",
    "    new_y = y.copy()\n",
    "    # Retrieve the counts for each class present in the target array\n",
    "    unique, counts = np.unique(new_y, return_counts=True)\n",
    "    # Create a dictionary containing the counts for each class\n",
    "    d = dict(zip(unique, counts))\n",
    "    # Obtain the number of occurences of the majority class\n",
    "    max_count = np.max(counts)\n",
    "    # In the case of a tie (for a multiclass problem) retrieve the majority classes\n",
    "    frequent_values = unique[counts == max_count]\n",
    "    # Obtain the minority classes\n",
    "    minority_classes = list(set(unique) ^ set(frequent_values))\n",
    "    # If there are minority classes\n",
    "    if minority_classes:\n",
    "        # Iterate over the minority classes to rebalance them (bring the number of occurences of that class up to the number of occurences of the majority class) \n",
    "        for minority_class in minority_classes:\n",
    "            # The number of datapoints which must be sampled from the minority class \n",
    "            n_to_sample = max_count - d[minority_class]\n",
    "            # The minority samples\n",
    "            min_class_samples = new_X[new_y == minority_class]\n",
    "            # Randomly select n_to_sample samples from the minority class and append those samples to the data matrix and the target vector\n",
    "            for _ in range(n_to_sample):\n",
    "                random_index = np.random.choice(np.shape(min_class_samples)[0])\n",
    "                new_X = np.vstack((new_X, min_class_samples[random_index, :]))\n",
    "                new_y = np.append(new_y, minority_class)\n",
    "        assert type(new_X) == np.ndarray\n",
    "        assert type(new_X[0]) == np.ndarray\n",
    "        assert type(new_y) == np.ndarray\n",
    "        return new_X, new_y\n",
    "    else:\n",
    "        assert type(X) == np.ndarray\n",
    "        assert type(X[0]) == np.ndarray\n",
    "        assert type(y) == np.ndarray\n",
    "        return X, y\n",
    "\n",
    "def rebalanced_stratified_split(X_orig: np.ndarray, y_orig: np.ndarray, test_size: float = 0.2, random_state: int = None) -> (np.ndarray, np.ndarray, np.ndarray, np.ndarray):\n",
    "    \"\"\"\n",
    "    - Performs a stratified split on the rebalanced dataset.\n",
    "    - Parameters:\n",
    "        - `X_orig` (np.ndarray): Original feature matrix.\n",
    "        - `y_orig` (np.ndarray): Original target vector.\n",
    "        - `test_size` (float): Size of the test set (default is 0.2), must be between 0 and 1.\n",
    "        - `random_state` (int): Seed for random number generation (default is None).\n",
    "    - Returns:\n",
    "        - `X_train` (np.ndarray): Feature matrix for the training set.\n",
    "        - `X_test` (np.ndarray): Feature matrix for the test set.\n",
    "        - `y_train` (np.ndarray): Target vector for the training set.\n",
    "        - `y_test` (np.ndarray): Target vector for the test set.\n",
    "    \"\"\"\n",
    "    # If a random state is specified, set the random state\n",
    "    if random_state is not None:\n",
    "        np.random.seed(random_state)\n",
    "\n",
    "    # Get the unique target names and their associated counts\n",
    "    unique, counts = np.unique(y_orig, return_counts=True) \n",
    "    # create a target_name: count dictionary\n",
    "    d = dict(zip(unique, counts))\n",
    "\n",
    "    # Rebalance the dataset\n",
    "    new_X, new_y = rebalance(X_orig, y_orig)\n",
    "    # Retrive the unique classes\n",
    "    unique = np.unique(new_y) \n",
    "\n",
    "    # Retrieve the number of test_instances\n",
    "    n_test = int(np.round(np.shape(new_X)[0] * test_size))\n",
    "    # Initialise the output arrays\n",
    "    X_test = np.array(np.zeros(np.shape(new_X)[1])) \n",
    "    X_train = np.array(np.zeros(np.shape(new_X)[1]))\n",
    "    y_test = np.array(np.zeros(1))\n",
    "    y_train = np.array(np.zeros(1))\n",
    "    # Iterate over the classes to retrieve the test and training instances for each class whilst preserving class balances\n",
    "    for c in unique:\n",
    "        c_samples = new_X[new_y == c]\n",
    "        # Randomly generate the indices of the test instances\n",
    "        test_indexes = np.random.choice(c_samples.shape[0], int(np.ceil(n_test / len(unique))), replace=False)\n",
    "        # Retrieve the indices of the training instances\n",
    "        train_indexes = list(set(np.arange(np.shape(c_samples)[0])) ^ set(test_indexes))\n",
    "        X_test = np.vstack((X_test, c_samples[test_indexes]))\n",
    "        X_train = np.vstack((X_train, c_samples[train_indexes]))\n",
    "        y_test = np.append(y_test, np.array([c for _ in range(len(test_indexes))]))\n",
    "        y_train = np.append(y_train, np.array([c for _ in range(len(train_indexes))]))\n",
    "    X_test = X_test[1:]\n",
    "    X_train = X_train[1:]\n",
    "    y_test = y_test[1:]\n",
    "    y_train = y_train[1:]\n",
    "    if len(y_test) > n_test:\n",
    "        X_train = np.vstack((X_train, X_test[-1, :]))\n",
    "        y_train = np.append(y_train, y_test[-1])\n",
    "        X_test = X_test[:len(X_test)-1, :]\n",
    "        y_test = y_test[:len(y_test)-1]\n",
    "\n",
    "    assert type(X_train) == np.ndarray\n",
    "    assert type(X_train[0]) == np.ndarray\n",
    "    assert type(y_train) == np.ndarray\n",
    "\n",
    "    assert type(X_test) == np.ndarray\n",
    "    assert type(X_test[0]) == np.ndarray\n",
    "    assert type(y_test) == np.ndarray\n",
    "\n",
    "    return X_train, X_test, y_train, y_test\n",
    "    \n",
    "save_history()"
   ]
  },
  {
   "cell_type": "code",
   "execution_count": 12,
   "metadata": {
    "ExecuteTime": {
     "end_time": "2024-02-22T17:45:35.241651Z",
     "start_time": "2024-02-22T17:45:35.239051Z"
    },
    "deletable": false,
    "editable": false,
    "nbgrader": {
     "cell_type": "code",
     "checksum": "5889020c34a41d69781e9bb2ae6df31d",
     "grade": true,
     "grade_id": "cell-7d145a4bdec7a7db",
     "locked": true,
     "points": 1,
     "schema_version": 3,
     "solution": false,
     "task": false
    }
   },
   "outputs": [],
   "source": [
    "# This cell is reserved for the unit tests. Do not consider this cell. "
   ]
  },
  {
   "cell_type": "code",
   "execution_count": 13,
   "metadata": {
    "ExecuteTime": {
     "end_time": "2024-02-22T17:45:35.246296Z",
     "start_time": "2024-02-22T17:45:35.243718Z"
    },
    "deletable": false,
    "editable": false,
    "nbgrader": {
     "cell_type": "code",
     "checksum": "077425e7022d7a71bb4d61af7483e9df",
     "grade": true,
     "grade_id": "cell-ff868a4a0bef262c",
     "locked": true,
     "points": 2,
     "schema_version": 3,
     "solution": false,
     "task": false
    }
   },
   "outputs": [],
   "source": [
    "# This cell is reserved for the unit tests. Do not consider this cell. "
   ]
  },
  {
   "cell_type": "code",
   "execution_count": 14,
   "metadata": {
    "ExecuteTime": {
     "end_time": "2024-02-22T17:45:35.251066Z",
     "start_time": "2024-02-22T17:45:35.248410Z"
    },
    "deletable": false,
    "editable": false,
    "nbgrader": {
     "cell_type": "code",
     "checksum": "7ce1dff4bf04913d9ab94ca708fc3ad1",
     "grade": true,
     "grade_id": "cell-eb1cc0c4aa217d52",
     "locked": true,
     "points": 2,
     "schema_version": 3,
     "solution": false,
     "task": false
    }
   },
   "outputs": [],
   "source": [
    "# This cell is reserved for the unit tests. Do not consider this cell. "
   ]
  },
  {
   "cell_type": "code",
   "execution_count": 15,
   "metadata": {
    "ExecuteTime": {
     "end_time": "2024-02-22T17:45:35.255916Z",
     "start_time": "2024-02-22T17:45:35.253325Z"
    },
    "deletable": false,
    "editable": false,
    "nbgrader": {
     "cell_type": "code",
     "checksum": "2fa028147a617160585d2490f1dcb66c",
     "grade": true,
     "grade_id": "cell-933fed8fcb049ccf",
     "locked": true,
     "points": 3,
     "schema_version": 3,
     "solution": false,
     "task": false
    }
   },
   "outputs": [],
   "source": [
    "# This cell is reserved for the unit tests. Do not consider this cell. "
   ]
  },
  {
   "cell_type": "markdown",
   "metadata": {
    "deletable": false,
    "editable": false,
    "nbgrader": {
     "cell_type": "markdown",
     "checksum": "d98d001f5b6a29f9db50617192cbf3dd",
     "grade": false,
     "grade_id": "cell-9c6942a92a9d5234",
     "locked": true,
     "schema_version": 3,
     "solution": false,
     "task": false
    }
   },
   "source": [
    "# Question 3\n",
    "<div style=\"text-align: right\"><b>[10 marks]</b></div>\n",
    "\n",
    "**Model Evaluation Metrics**\n",
    "\n",
    "---\n",
    "\n",
    "**Objective:**\n",
    "The objective of this section of the programming assignment is to implement functions for evaluating classifier performance using various metrics, including accuracy score, confusion matrix, and predictive error estimation.\n",
    "\n",
    "---\n",
    "\n",
    "**Instructions:**\n",
    "\n",
    "1. **accuracy_score:**\n",
    "   - Implement the function `accuracy_score` that calculates the accuracy of a classifier's predictions.\n",
    "   - Parameters:\n",
    "     - `y_true`: Array of true labels.\n",
    "     - `y_pred`: Array of predicted labels.\n",
    "   - Returns:\n",
    "     - `accuracy`: Accuracy score.\n",
    "<div style=\"text-align: right\"><b>[2 marks]</b></div>\n",
    "\n",
    "2. **confusion_matrix:**\n",
    "   - Implement the function `confusion_matrix` that computes the confusion matrix based on true labels and predicted labels.\n",
    "   - Parameters:\n",
    "     - `y_true`: Array of true labels.\n",
    "     - `y_pred`: Array of predicted labels.\n",
    "   - Returns:\n",
    "     - `conf_matrix`: Confusion matrix.\n",
    "<div style=\"text-align: right\"><b>[4 marks]</b></div>\n",
    "\n",
    "3. **predictive_error_estimate:**\n",
    "   - Implement the function `predictive_performance_estimate` that estimates the predictive performance of a classifier as the average accuracy over a repetition of rebalanced splits.\n",
    "   - Parameters:\n",
    "     - `classifier`: Classifier object with `fit` and `predict` methods.\n",
    "     - `data_mtx`: Feature matrix.\n",
    "     - `targets`: Target vector.\n",
    "     - `test_size`: Size of the test set for the rebalanced train test split.\n",
    "     - `n_rep`: Number of repetitions (default is 3).\n",
    "   - Returns:\n",
    "     - `mean_score`: Mean accuracy score across repetitions.\n",
    "     - `std_score`: Standard deviation of accuracy scores across repetitions.\n",
    "<div style=\"text-align: right\"><b>[4 marks]</b></div>\n",
    "---\n",
    "\n",
    "**Note:**\n",
    "- The `accuracy_score` function should compute the ratio of correctly predicted instances to the total number of instances.\n",
    "- The `confusion_matrix` function should construct a confusion matrix where rows represent predicted labels and columns represent true labels.\n",
    "- You should use the `numpy` library for array manipulations and computations.\n",
    "- You must write your own implementation and you cannot use the `accuracy_score` or `confusion_matrix` function from `sklearn`.\n",
    "\n",
    "--- \n"
   ]
  },
  {
   "cell_type": "code",
   "execution_count": 16,
   "metadata": {
    "ExecuteTime": {
     "end_time": "2024-02-22T17:45:35.275244Z",
     "start_time": "2024-02-22T17:45:35.258257Z"
    },
    "deletable": false,
    "nbgrader": {
     "cell_type": "code",
     "checksum": "4c664b7ada537528af4888d01c79c718",
     "grade": false,
     "grade_id": "cell-70d909af350f9a44",
     "locked": false,
     "schema_version": 3,
     "solution": true,
     "task": false
    }
   },
   "outputs": [],
   "source": [
    "def accuracy_score(y_true: np.ndarray, y_pred: np.ndarray) -> float:\n",
    "    \"\"\"\n",
    "    - Calculates the accuracy of a classifier's predictions.\n",
    "    - Parameters:\n",
    "        - `y_true` (np.ndarray): Array of true labels.\n",
    "        - `y_pred` (np.ndarray): Array of predicted labels.\n",
    "    - Returns:\n",
    "        - `accuracy` (float): Accuracy score.\n",
    "    \"\"\"\n",
    "    accuracy = float(np.sum(y_true == y_pred) / len(y_true))\n",
    "    assert type(accuracy) == type(1.0)\n",
    "    return accuracy\n",
    "\n",
    "def confusion_matrix(y_true: np.ndarray, y_pred: np.ndarray) -> np.ndarray:\n",
    "    \"\"\"\n",
    "    - Computes the confusion matrix based on true labels and predicted labels.\n",
    "    - Parameters:\n",
    "        - `y_true` (np.ndarray): Array of true labels.\n",
    "        - `y_pred` (np.ndarray): Array of predicted labels.\n",
    "    - Returns:\n",
    "        - `conf_matrix` (np.ndarray): Confusion matrix.\n",
    "    \"\"\"\n",
    "    # Initialise the confusion matrix values\n",
    "\n",
    "    # True Negative\n",
    "    TN = 0\n",
    "    # False Negative\n",
    "    FN = 0\n",
    "    # True Positive\n",
    "    TP = 0\n",
    "    # False Positive\n",
    "    FP = 0\n",
    "    for i in range(len(y_true)):\n",
    "        # Predicted Positive\n",
    "        if y_pred[i] == 1:\n",
    "            # Actual Positive\n",
    "            if y_true[i] == 1:\n",
    "                TP += 1\n",
    "            # Actual Negative\n",
    "            else:\n",
    "                FP += 1\n",
    "        # Predicted Negative\n",
    "        elif y_pred[i] == 0:\n",
    "            # Actual Negative\n",
    "            if y_true[i] == 0:\n",
    "                TN += 1\n",
    "            # Actual Positive\n",
    "            else:\n",
    "                FN += 1\n",
    "    # [TN, FN]\n",
    "    # [FP, TP]\n",
    "    conf_matrix = np.array([[TN, FN], [FP, TP]])\n",
    "    assert type(conf_matrix) == np.ndarray\n",
    "    assert type(conf_matrix[0]) == np.ndarray\n",
    "    return conf_matrix\n",
    "\n",
    "def predictive_performance_estimate(classifier, data_mtx: np.ndarray, targets: np.ndarray, test_size: float, n_rep: int=3) -> (float, float):\n",
    "    \"\"\" \n",
    "    - Estimates the predictive performance of a classifier as the average accuracy over a repetition of rebalanced splits.\n",
    "    - Parameters:\n",
    "        - `classifier`: Classifier object with `fit` and `predict` methods.\n",
    "        - `data_mtx` (np.ndarray): Feature matrix.\n",
    "        - `targets` (np.ndarray): Target vector.\n",
    "        - `test_size` (float): Size of the test set for the rebalanced train test split.\n",
    "        - `n_rep` (int): Number of repetitions (default is 3).\n",
    "    - Returns:\n",
    "        - `mean_score` (float): Mean accuracy score across repetitions.\n",
    "        - `std_score` (float): Standard deviation of accuracy scores across repetitions.\n",
    "    \"\"\"\n",
    "    # Initialise accuracies list\n",
    "    accuracies = []\n",
    "    for _ in range(n_rep):\n",
    "        # Rebalance the dataset and create a stratified split\n",
    "        X_train, X_test, y_train, y_test = rebalanced_stratified_split(data_mtx, targets, test_size)\n",
    "        # Fit the model\n",
    "        classifier.fit(X_train, y_train)\n",
    "        # Retrieve the model predictions\n",
    "        y_pred = classifier.predict(X_test)\n",
    "        # Compute the accuracy score and store it in the accuracies list\n",
    "        accuracies.append(accuracy_score(y_test, y_pred))\n",
    "    # Compute the mean of the accuracies\n",
    "    mean_score = np.mean(accuracies)\n",
    "    # Compute the standard deviation of the accuracies\n",
    "    std_score = np.std(accuracies)\n",
    "    return mean_score, std_score\n",
    "\n",
    "save_history()"
   ]
  },
  {
   "cell_type": "code",
   "execution_count": 17,
   "metadata": {
    "ExecuteTime": {
     "end_time": "2024-02-22T17:45:35.281405Z",
     "start_time": "2024-02-22T17:45:35.278231Z"
    },
    "deletable": false,
    "editable": false,
    "nbgrader": {
     "cell_type": "code",
     "checksum": "d3b06a0b9c5dd1acb06d4bc4b7d86279",
     "grade": true,
     "grade_id": "cell-acf9a38aecdd814f",
     "locked": true,
     "points": 2,
     "schema_version": 3,
     "solution": false,
     "task": false
    }
   },
   "outputs": [],
   "source": [
    "# This cell is reserved for the unit tests. Do not consider this cell. "
   ]
  },
  {
   "cell_type": "code",
   "execution_count": 18,
   "metadata": {
    "ExecuteTime": {
     "end_time": "2024-02-22T17:45:35.287876Z",
     "start_time": "2024-02-22T17:45:35.284081Z"
    },
    "deletable": false,
    "editable": false,
    "nbgrader": {
     "cell_type": "code",
     "checksum": "a5ae59be9a384ebb1e3e131962e31bac",
     "grade": true,
     "grade_id": "cell-7f77b185269d2e49",
     "locked": true,
     "points": 4,
     "schema_version": 3,
     "solution": false,
     "task": false
    }
   },
   "outputs": [],
   "source": [
    "# This cell is reserved for the unit tests. Do not consider this cell. "
   ]
  },
  {
   "cell_type": "code",
   "execution_count": 19,
   "metadata": {
    "ExecuteTime": {
     "end_time": "2024-02-22T17:45:35.293019Z",
     "start_time": "2024-02-22T17:45:35.289958Z"
    },
    "deletable": false,
    "editable": false,
    "nbgrader": {
     "cell_type": "code",
     "checksum": "386d9a93716fd7027371f2d5fb273616",
     "grade": true,
     "grade_id": "cell-a90307feb943f9e2",
     "locked": true,
     "points": 2,
     "schema_version": 3,
     "solution": false,
     "task": false
    }
   },
   "outputs": [],
   "source": [
    "# This cell is reserved for the unit tests. Do not consider this cell. "
   ]
  },
  {
   "cell_type": "code",
   "execution_count": 20,
   "metadata": {
    "ExecuteTime": {
     "end_time": "2024-02-22T17:45:35.298250Z",
     "start_time": "2024-02-22T17:45:35.295481Z"
    },
    "deletable": false,
    "editable": false,
    "nbgrader": {
     "cell_type": "code",
     "checksum": "53ce0e9fef62a2b5127ad0b3727ed7eb",
     "grade": true,
     "grade_id": "cell-f77c1b2f4da1fbbb",
     "locked": true,
     "points": 2,
     "schema_version": 3,
     "solution": false,
     "task": false
    }
   },
   "outputs": [],
   "source": [
    "# This cell is reserved for the unit tests. Do not consider this cell. "
   ]
  },
  {
   "cell_type": "markdown",
   "metadata": {
    "deletable": false,
    "editable": false,
    "nbgrader": {
     "cell_type": "markdown",
     "checksum": "e7b7fd2f60cb44f1830a8b91d6237921",
     "grade": false,
     "grade_id": "cell-1a9b7f296c9234f6",
     "locked": true,
     "schema_version": 3,
     "solution": false,
     "task": false
    }
   },
   "source": [
    "# Question 4\n",
    "<div style=\"text-align: right\"><b>[12 marks]</b></div>\n",
    "\n",
    "**Linear Classifier Implementation**\n",
    "\n",
    "---\n",
    "\n",
    "**Objective:**\n",
    "The objective of this section of the programming assignment is to implement a linear classifier class called `LinearClassifier`. This classifier is capable of fitting a linear decision boundary to a given dataset and making predictions based on this boundary.\n",
    "\n",
    "---\n",
    "\n",
    "**Instructions:**\n",
    "\n",
    "1. **LinearClassifier Class:**\n",
    "   - Implement the `LinearClassifier` class with the following methods:\n",
    "     - `__init__`: Constructor method to initialize the classifier object. It should take an optional parameter `threshold` (default is 0.5) representing the decision threshold.\n",
    "     - `fit(X,y)`: Method to train the linear classifier using the given training data. It takes in input a data matrix `X` and a target vector `y`.\n",
    "     - `predict(X)`: Method to predict labels for the given input data based on the trained classifier. It takes in input a data matrix `X`.\n",
    "\n",
    "---\n",
    "\n",
    "**Note:**\n",
    "- The `fit` method should fit the linear classifier to the training data by estimating the weights (coefficients) and bias term of the decision boundary. \n",
    "- The `predict` method should make predictions based on the linear model's output, considering the decision threshold specified during initialization. \n",
    "- You should use the `numpy` library for array manipulations and linear algebra operations.\n",
    "- You must write your own implementation and you cannot use the `SGDClassifier` or other functions/classes from `sklearn`.\n",
    "\n",
    "--- \n",
    "\n"
   ]
  },
  {
   "cell_type": "code",
   "execution_count": 21,
   "metadata": {
    "ExecuteTime": {
     "end_time": "2024-02-22T17:45:35.318243Z",
     "start_time": "2024-02-22T17:45:35.300724Z"
    },
    "deletable": false,
    "nbgrader": {
     "cell_type": "code",
     "checksum": "a968e1e9734d708e5764fd26518e81da",
     "grade": false,
     "grade_id": "cell-38ee917541a6c501",
     "locked": false,
     "schema_version": 3,
     "solution": true,
     "task": false
    }
   },
   "outputs": [],
   "source": [
    "class LinearClassifier:\n",
    "    \"\"\"\n",
    "    Class which implements a Linear Classifier (Logistic Regression here)\n",
    "    \"\"\"\n",
    "    # YOUR CODE HERE\n",
    "    def __init__(self, threshold: float = 0.5, learning_rate: float = 0.001, maxit: int = 1000) -> None:\n",
    "        \"\"\"\n",
    "        - Constructor method to initialise the Linear Classifier object (Logistic Regression here).\n",
    "        - Parameters:\n",
    "            - `threshold` (float): Represents the decision threshold of the classifier (default is 0.5).\n",
    "            - `learning_rate` (float): Learning rate for the gradient descent.\n",
    "            - `maxit` (int): maximum number of iterations for the gradient descent.\n",
    "        - Returns:\n",
    "            - None\n",
    "        \"\"\"\n",
    "        self.threshold = threshold\n",
    "        self.learning_rate = learning_rate\n",
    "        self.maxit = maxit \n",
    "        # Initialsie the weights and bias\n",
    "        self.weights = None\n",
    "        self.bias = None\n",
    "\n",
    "    def fit(self, X: np.ndarray, y: np.ndarray) -> None:\n",
    "        \"\"\" \n",
    "        - Method to train the Linear Classifier using the given training data.\n",
    "        - Parameters:\n",
    "            - X (np.ndarray): Input data matrix.\n",
    "            - y (np.ndarray): Target vector.\n",
    "        - Returns:\n",
    "            - None\n",
    "        \"\"\"\n",
    "        n, n_features = np.shape(X)\n",
    "\n",
    "        # Intialise the weights and bias to 0\n",
    "        self.weights = np.zeros(n_features)\n",
    "        self.bias = 0\n",
    "\n",
    "        # Perform gradient descent to optimise the weights and bias\n",
    "        for _ in range(self.maxit):\n",
    "            # Predicted probabilities\n",
    "            y_pred_proba = self.sigmoid(np.dot(X, self.weights) + self.bias)\n",
    "            # Compute the weights gradient\n",
    "            dw = np.dot(np.transpose(X), (y_pred_proba - y)) / n\n",
    "            # Compute the bias gradient\n",
    "            db = np.sum(y_pred_proba - y) / n\n",
    "            # Update the weights\n",
    "            self.weights -= dw * self.learning_rate        \n",
    "            # Update the bias\n",
    "            self.bias -= db * self.learning_rate\n",
    "\n",
    "    def predict(self, X: np.ndarray) -> np.ndarray:\n",
    "        \"\"\" \n",
    "        - Method to predict labels for the given input data based on the trained classifier.\n",
    "        - Parameters:\n",
    "            - X (np.ndarray): Input data matrix.\n",
    "        - Returns:\n",
    "            - y_pred (np.ndarray): Predicted labels\n",
    "        \"\"\"\n",
    "        y_pred = (self.sigmoid(np.dot(X, self.weights) + self.bias) > self.threshold).astype(int)\n",
    "        assert type(y_pred) == np.ndarray\n",
    "        return y_pred\n",
    "    \n",
    "    def sigmoid(self, z: float) -> float:\n",
    "        \"\"\" \n",
    "        - Method which implements the sigmoid function\n",
    "        - Parameters:\n",
    "            - z (float)\n",
    "        - Returns:\n",
    "            - (float)\n",
    "        \"\"\"\n",
    "        return 1 / (1 + np.exp(-z))\n",
    "\n",
    "save_history()"
   ]
  },
  {
   "cell_type": "code",
   "execution_count": 22,
   "metadata": {
    "ExecuteTime": {
     "end_time": "2024-02-22T17:45:35.323281Z",
     "start_time": "2024-02-22T17:45:35.320542Z"
    },
    "deletable": false,
    "editable": false,
    "nbgrader": {
     "cell_type": "code",
     "checksum": "fea46c52c2433cfe90f59c2f4bd41139",
     "grade": true,
     "grade_id": "cell-fa9709d6e36fb274",
     "locked": true,
     "points": 2,
     "schema_version": 3,
     "solution": false,
     "task": false
    }
   },
   "outputs": [],
   "source": [
    "# This cell is reserved for the unit tests. Do not consider this cell. "
   ]
  },
  {
   "cell_type": "code",
   "execution_count": 23,
   "metadata": {
    "ExecuteTime": {
     "end_time": "2024-02-22T17:45:35.334759Z",
     "start_time": "2024-02-22T17:45:35.332258Z"
    },
    "deletable": false,
    "editable": false,
    "nbgrader": {
     "cell_type": "code",
     "checksum": "1dc4dd025f5271d68cd201d5685a195b",
     "grade": true,
     "grade_id": "cell-185a0cce98d8070c",
     "locked": true,
     "points": 5,
     "schema_version": 3,
     "solution": false,
     "task": false
    }
   },
   "outputs": [],
   "source": [
    "# This cell is reserved for the unit tests. Do not consider this cell. "
   ]
  },
  {
   "cell_type": "code",
   "execution_count": 24,
   "metadata": {
    "ExecuteTime": {
     "end_time": "2024-02-22T17:45:35.340475Z",
     "start_time": "2024-02-22T17:45:35.336771Z"
    },
    "deletable": false,
    "editable": false,
    "nbgrader": {
     "cell_type": "code",
     "checksum": "7c292c8237ee2fa95771b7fd91c10bc8",
     "grade": true,
     "grade_id": "cell-101dec3bc15985a2",
     "locked": true,
     "points": 5,
     "schema_version": 3,
     "solution": false,
     "task": false
    }
   },
   "outputs": [],
   "source": [
    "# This cell is reserved for the unit tests. Do not consider this cell. "
   ]
  },
  {
   "cell_type": "markdown",
   "metadata": {
    "deletable": false,
    "editable": false,
    "nbgrader": {
     "cell_type": "markdown",
     "checksum": "9b36d045133e3fd5272337f3be460500",
     "grade": false,
     "grade_id": "cell-661e0da035f9585c",
     "locked": true,
     "schema_version": 3,
     "solution": false,
     "task": false
    }
   },
   "source": [
    "# Question 5\n",
    "<div style=\"text-align: right\"><b>[12 marks]</b></div>\n",
    "\n",
    "**K-Nearest Neighbors (KNN) Classifier Implementation**\n",
    "\n",
    "---\n",
    "\n",
    "**Objective:**\n",
    "The objective of this section of the programming assignment is to implement a K-Nearest Neighbors (KNN) classifier class called `KNNClassifier`. This classifier is capable of making predictions based on the majority class of the K nearest neighbors.\n",
    "\n",
    "---\n",
    "\n",
    "**Instructions:**\n",
    "\n",
    "1. **KNNClassifier Class:**\n",
    "   - Implement the `KNNClassifier` class with the following methods:\n",
    "     - `__init__`: Constructor method to initialize the classifier object. It should take an optional parameter `k` (default is 3) representing the number of neighbors to consider.\n",
    "     - `fit(X,y)`: Method to fit the parameters of the model. It takes in input a data matrix `X` and a target vector `y`.\n",
    "     - `euclidean_distance(x1, x2)`: Method to calculate the Euclidean distance between two data points. It takes in input two vectors.\n",
    "     - `predict_prob_single(x)`: Method to predict the probabilities of each class label for a single data point. It takes in input one vector.\n",
    "     - `predict(X)`: Method to predict the class labels for a given set of test data points. It takes in input a data matrix `X`.\n",
    "   - Ensure that the classifier is capable of computing distances, finding nearest neighbors, and making predictions based on the majority class of the neighbors.\n",
    "\n",
    "---\n",
    "\n",
    "**Note:**\n",
    "- The `euclidean_distance` method should calculate the Euclidean distance between two data points.\n",
    "- The `predict_prob_single` method should predict the probabilities of each class label for a single data point based on its nearest neighbors in the training set.\n",
    "- The `predict` method should make predictions for a set of test data points based on the majority class of their nearest neighbors in the training set.\n",
    "- You should use the `numpy` library for array manipulations and mathematical operations.\n",
    "- You must write your own implementation and you cannot use the `KNeighborsClassifier` or other functions/classes from `sklearn`.\n",
    "\n",
    "--- \n",
    "\n"
   ]
  },
  {
   "cell_type": "code",
   "execution_count": 25,
   "metadata": {
    "ExecuteTime": {
     "end_time": "2024-02-22T17:47:08.579544Z",
     "start_time": "2024-02-22T17:47:08.564384Z"
    },
    "deletable": false,
    "nbgrader": {
     "cell_type": "code",
     "checksum": "a5632d9199a1a36cc12f85c331edc32d",
     "grade": false,
     "grade_id": "cell-8d9213a6202af22f",
     "locked": false,
     "schema_version": 3,
     "solution": true,
     "task": false
    }
   },
   "outputs": [],
   "source": [
    "class KNNClassifier:\n",
    "    def __init__(self, k: int=3) -> None:\n",
    "        \"\"\" \n",
    "        - Constructor method to initalise the K-Nearest Neighbours classifier object.\n",
    "        - Parameters:\n",
    "            - k (int): Number of neighbours to consider (default is 3)\n",
    "        - Returns:\n",
    "            - None\n",
    "        \"\"\"\n",
    "        self.k = k\n",
    "        self.points = None\n",
    "        self.classes = None\n",
    "\n",
    "    def fit(self, X: np.ndarray, y: np.ndarray) -> None:\n",
    "        \"\"\" \n",
    "        - Method to fit the parameters of the model.\n",
    "        - Parameters:\n",
    "            - X (np.ndarray): Input data matrix.\n",
    "            - y (np.ndarray): Target vector.\n",
    "        - Returns:\n",
    "            - None\n",
    "        \"\"\"\n",
    "        self.points = X\n",
    "        self.classes = y\n",
    "\n",
    "    def euclidean_distance(self, x1: np.ndarray, x2: np.ndarray) -> float:\n",
    "        \"\"\" \n",
    "        - Method to calculate the Euclidean distance between two data points.\n",
    "        - Parameters:\n",
    "            - x1 (np.ndarray): Vector\n",
    "            - x2 (np.ndarray): Vector (must be same dimensions as x1)\n",
    "        - Returns:\n",
    "            - The Euclidean distance between x1 and x2\n",
    "        \"\"\"\n",
    "        return np.linalg.norm(x1-x2)\n",
    "    \n",
    "    def predict_prob_single(self, x: np.ndarray) -> np.ndarray:\n",
    "        \"\"\" \n",
    "        - Method to predict the probabilities of each class label for a single data point based on its nearest k neighbours in the dataset.\n",
    "        - Parameters: \n",
    "            - x (np.ndarray): Input vector.\n",
    "        - Returns:\n",
    "            - probas (np.ndarray): Probalities of each class label, where the index of the array represents that class probabilites (probas[0] is the probabiltiy of \n",
    "            class 0)\n",
    "        \"\"\"\n",
    "        # Calculate the distances from the input point to the points used to fit the KNN\n",
    "        distances = np.array([self.euclidean_distance(x, point) for point in self.points])\n",
    "        # Retrieve the k-nearest neighbours labels\n",
    "        k_nearest_labels = self.classes[np.argsort(distances)[:self.k]]\n",
    "        sorted_distances = distances[np.argsort(distances)[:self.k]]\n",
    "        # Retrieve the counts of the classes in the k-nearest neighbours\n",
    "        unique, counts = np.unique(self.classes[np.argsort(distances)[:self.k]], return_counts=True)\n",
    "        # Initalise the probability vector\n",
    "        probas = np.zeros(len(np.unique(self.classes)))\n",
    "        # Initialse mean distances vector in order to tie break\n",
    "        dists = np.zeros(len(np.unique(self.classes)))\n",
    "        # Store the class probabilities as a dictionary\n",
    "        d_prop = dict(zip(unique, counts / sum(counts)))\n",
    "        # Add the probabilities to the probas vector\n",
    "        for key in d_prop.keys():\n",
    "            probas[int(key)] = d_prop[key]\n",
    "        # Deal with the case when k is even in order to break ties\n",
    "        # Compute the mean distance to each class and will later choose which class a point belongs to (in the event of a tie) by looking at which class\n",
    "        # It's closest to in its k-neighborhood\n",
    "        if self.k % 2 == 0:\n",
    "            for key in d_prop.keys():\n",
    "                dists[int(key)] = np.mean(sorted_distances[k_nearest_labels == key])\n",
    "            self.dists = dists\n",
    "        assert type(probas) == np.ndarray\n",
    "        return probas\n",
    "        \n",
    "\n",
    "    def predict(self, X: np.ndarray) -> np.ndarray:\n",
    "        \"\"\" \n",
    "        - Method to predict the class labels for a given set of test data points.\n",
    "        - Parameters:\n",
    "            - X (np.ndarray): Input test data matrix.\n",
    "        - Returns:\n",
    "            - y_pred (np.ndarray): Class predictions for the input test data matrix.\n",
    "        \"\"\"\n",
    "        # Deal with the case when k is even and there needs to be a tie break. Classifyy the new data point as being from the class\n",
    "        # that it is the closest to within its neighborhood.\n",
    "        if self.k % 2 == 0:\n",
    "            y_pred = np.zeros(len(X))\n",
    "            for i, point in enumerate(X):\n",
    "                proba = self.predict_prob_single(point)\n",
    "                if len(proba[proba == np.max(proba)]) == len(proba):\n",
    "                    y_pred[i] = np.argmin(self.dists)\n",
    "                else:\n",
    "                    y_pred[i] = np.argmax(proba)\n",
    "            assert type(y_pred) == np.ndarray\n",
    "            return y_pred\n",
    "        else:\n",
    "            y_pred = np.array([np.argmax(self.predict_prob_single(point)) for point in X])\n",
    "            assert type(y_pred) == np.ndarray\n",
    "            return y_pred\n",
    "        \n",
    "save_history()"
   ]
  },
  {
   "cell_type": "code",
   "execution_count": 26,
   "metadata": {
    "ExecuteTime": {
     "end_time": "2024-02-22T17:47:09.430471Z",
     "start_time": "2024-02-22T17:47:09.427725Z"
    },
    "deletable": false,
    "editable": false,
    "nbgrader": {
     "cell_type": "code",
     "checksum": "144c4f46b5023a602952265936c981be",
     "grade": true,
     "grade_id": "cell-ee078c200b90944d",
     "locked": true,
     "points": 2,
     "schema_version": 3,
     "solution": false,
     "task": false
    }
   },
   "outputs": [],
   "source": [
    "# This cell is reserved for the unit tests. Do not consider this cell. "
   ]
  },
  {
   "cell_type": "code",
   "execution_count": 27,
   "metadata": {
    "ExecuteTime": {
     "end_time": "2024-02-22T17:47:09.811697Z",
     "start_time": "2024-02-22T17:47:09.808916Z"
    },
    "deletable": false,
    "editable": false,
    "nbgrader": {
     "cell_type": "code",
     "checksum": "4e273425bbaa622bc8466eb840f2e196",
     "grade": true,
     "grade_id": "cell-f750843259c4614a",
     "locked": true,
     "points": 2,
     "schema_version": 3,
     "solution": false,
     "task": false
    }
   },
   "outputs": [],
   "source": [
    "# This cell is reserved for the unit tests. Do not consider this cell. "
   ]
  },
  {
   "cell_type": "code",
   "execution_count": 28,
   "metadata": {
    "ExecuteTime": {
     "end_time": "2024-02-22T17:47:10.181392Z",
     "start_time": "2024-02-22T17:47:10.178383Z"
    },
    "deletable": false,
    "editable": false,
    "nbgrader": {
     "cell_type": "code",
     "checksum": "711853812de418911043c407254f4fc9",
     "grade": true,
     "grade_id": "cell-d2419a3df385e221",
     "locked": true,
     "points": 4,
     "schema_version": 3,
     "solution": false,
     "task": false
    }
   },
   "outputs": [],
   "source": [
    "# This cell is reserved for the unit tests. Do not consider this cell. "
   ]
  },
  {
   "cell_type": "code",
   "execution_count": 29,
   "metadata": {
    "ExecuteTime": {
     "end_time": "2024-02-22T17:47:13.939114Z",
     "start_time": "2024-02-22T17:47:13.933819Z"
    },
    "deletable": false,
    "editable": false,
    "nbgrader": {
     "cell_type": "code",
     "checksum": "3661abc3df943cf2883fcedbce35d02a",
     "grade": true,
     "grade_id": "cell-ddd1c09e99248dfc",
     "locked": true,
     "points": 4,
     "schema_version": 3,
     "solution": false,
     "task": false
    }
   },
   "outputs": [],
   "source": [
    "# This cell is reserved for the unit tests. Do not consider this cell. "
   ]
  },
  {
   "cell_type": "markdown",
   "metadata": {
    "deletable": false,
    "editable": false,
    "nbgrader": {
     "cell_type": "markdown",
     "checksum": "2d1172f5d65ef1b0a2181ef86c14b8cd",
     "grade": false,
     "grade_id": "cell-3b4ee3388b44225b",
     "locked": true,
     "schema_version": 3,
     "solution": false,
     "task": false
    }
   },
   "source": [
    "# Question 6\n",
    "\n",
    "<div style=\"text-align: right\"><b>[15 marks]</b></div>\n",
    "\n",
    "**Cost-Sensitive K-Nearest Neighbors (CostSensitiveKNN) Classifier Implementation**\n",
    "\n",
    "---\n",
    "\n",
    "**Objective:**\n",
    "The objective of this programming assignment is to implement a Cost-Sensitive K-Nearest Neighbors (CostSensitiveKNN) classifier class called `CostSensitiveKNNClassifier`. This classifier is capable of making predictions based on the majority class of the K nearest neighbors while considering class costs.\n",
    "\n",
    "---\n",
    "\n",
    "**Instructions:**\n",
    "\n",
    "1. **CostSensitiveKNNClassifier Class:**\n",
    "   - Implement the `CostSensitiveKNNClassifier` class with the following methods:\n",
    "     - `__init__`: Constructor method to initialize the classifier object. It should take an optional parameter `k` (default is 3) representing the number of neighbors to consider and an optional parameter `class_cost_matrix` (default is `[[0,1],[1,0]]`) representing the cost matrix.\n",
    "     - `fit(X,y)`: Method to fit the parameters of the model. It takes in input a data matrix `X` and a target vector `y`.\n",
    "     - `euclidean_distance(x1, x2)`: Method to calculate the Euclidean distance between two data points. It takes in input two vectors.\n",
    "     - `predict_prob_single(x)`: Method to predict the probabilities of each class label for a single data point. It takes in input one vector.\n",
    "     - `predict(X)`: Method to predict the class labels for a given set of test data points considering class costs. It takes in input a data matrix `X`.\n",
    "   - Ensure that the classifier is capable of considering class costs during prediction.\n",
    "\n",
    "---\n",
    "\n",
    "**Note:**\n",
    "- In the cost matrix the rows represent predicted labels and columns represent true labels.\n",
    "- The `fit` method should store the training data (features and labels) for later use during prediction and compute class probabilities based on the training data.\n",
    "- The `euclidean_distance` method should calculate the Euclidean distance between two data points.\n",
    "- The `predict_prob_single` method should predict the probabilities of each class label for a single data point based on its nearest neighbors.\n",
    "- The `predict` method should make predictions for a set of test data points considering class costs and the computed class probabilities.\n",
    "- You should use the `numpy` library for array manipulations and mathematical operations.\n",
    "- You must write your own implementation and you cannot use the `KNeighborsClassifier` or other functions/classes from `sklearn`.\n",
    "\n",
    "--- \n"
   ]
  },
  {
   "cell_type": "code",
   "execution_count": 30,
   "metadata": {
    "ExecuteTime": {
     "end_time": "2024-02-22T17:47:18.474515Z",
     "start_time": "2024-02-22T17:47:18.455076Z"
    },
    "deletable": false,
    "nbgrader": {
     "cell_type": "code",
     "checksum": "1206a77c99170455467bd7f6f27c7fea",
     "grade": false,
     "grade_id": "cell-ac62286bdd11c0cd",
     "locked": false,
     "schema_version": 3,
     "solution": true,
     "task": false
    }
   },
   "outputs": [],
   "source": [
    "class CostSensitiveKNNClassifier:\n",
    "\n",
    "    def __init__(self, k: int=3, class_cost_matrix: list=[[0, 1], [1, 0]]) -> None:\n",
    "        \"\"\" \n",
    "        - Constructor method to initialse the Cost-Sensitive Nearest Neighbours classifier.\n",
    "        - Parameters:\n",
    "            - k (int): Number of neighbours to consider (default is 3).\n",
    "            - class_cost_matrix (list): Cost matrix (default is [[0, 1], [1, 0]])\n",
    "        - Returns:\n",
    "            - None\n",
    "        \"\"\"\n",
    "        self.k = k\n",
    "        self.points = None\n",
    "        self.classes = None\n",
    "        self.class_cost_matrix = class_cost_matrix\n",
    "\n",
    "    def fit(self, X: np.ndarray, y: np.ndarray) -> None:\n",
    "        \"\"\" \n",
    "        - Method to fit the parameters of the model.\n",
    "        - Parameters:\n",
    "            - X (np.ndarray): Input data matrix.\n",
    "            - y (np.ndarray): Target vector.\n",
    "        - Returns:\n",
    "            - None\n",
    "        \"\"\"\n",
    "        self.points = X\n",
    "        self.classes = y\n",
    "\n",
    "    def euclidean_distance(self, x1: np.ndarray, x2: np.ndarray) -> float:\n",
    "        \"\"\" \n",
    "        - Method to calculate the Euclidean distance between two data points.\n",
    "        - Parameters:\n",
    "            - x1 (np.ndarray): Vector\n",
    "            - x2 (np.ndarray): Vector (must be same dimensions as x1)\n",
    "        - Returns:\n",
    "            - The Euclidean distance between x1 and x2\n",
    "        \"\"\"\n",
    "        return np.linalg.norm(x1-x2)\n",
    "\n",
    "    def predict_prob_single(self, x: np.ndarray) -> np.ndarray:\n",
    "        \"\"\" \n",
    "        - Method to predict the probabilities of each class label for a single data point based on its nearest k neighbours in the dataset and the cost matrix.\n",
    "        - Parameters: \n",
    "            - x (np.ndarray): Input vector.\n",
    "        - Returns:\n",
    "            - cost_adjusted_probas (np.ndarray): Cost adjusted probabilities of each class label, where the index of the array represents \n",
    "            that class probabilites (probas[0] is the probabiltiy of class 0)\n",
    "        \"\"\"\n",
    "        # Calculate the distances from the input point to the points used to fit the KNN        \n",
    "        distances = np.array([self.euclidean_distance(x, point) for point in self.points])\n",
    "        # Retrieve the k-nearest neighbours labels\n",
    "        k_nearest_labels = self.classes[np.argsort(distances)[:self.k]]\n",
    "        sorted_distances = distances[np.argsort(distances)[:self.k]]\n",
    "        # Retrieve the counts of the classes in the k-nearest neighbours\n",
    "        unique, counts = np.unique(self.classes[np.argsort(distances)[:self.k]], return_counts=True)\n",
    "        # Initalise the probability vector\n",
    "        probas = np.zeros(len(np.unique(self.classes)))\n",
    "        # Initialse mean distances vector in order to tie break\n",
    "        dists = np.zeros(len(np.unique(self.classes)))\n",
    "        # Store the class probabilities as a dictionary\n",
    "        d_prop = dict(zip(unique, counts / sum(counts)))\n",
    "        # Add the probabilities to the probas vector   \n",
    "        for key in d_prop.keys():\n",
    "            probas[int(key)] = d_prop[key]\n",
    "        # Adjust the probabilities based on the cost matrix\n",
    "        cost_adjusted_probas = np.zeros(2)\n",
    "        # The cost adjusted probability for a predicted 0 is proba[0] * cost_of_true_negative + proba[0] * cost_of_false_negative\n",
    "        cost_adjusted_probas[0] = probas[0] * self.class_cost_matrix[0][0] + probas[0] * self.class_cost_matrix[0][1] \n",
    "        # The cost adjusted probability for a predicted 1 is proba[1] * cost_of_true_positive + proba[1] * cost_of_false_positive\n",
    "        cost_adjusted_probas[1] = probas[1] * self.class_cost_matrix[1][1] + probas[1] * self.class_cost_matrix[1][0]\n",
    "        # Deal with the case when k is even in order to break ties\n",
    "        # Compute the mean distance to each class and will later choose which class a point belongs to (in the event of a tie) by looking at which class\n",
    "        # It's closest to in its k-neighborhood\n",
    "        if self.k % 2 == 0:\n",
    "            for key in d_prop.keys():\n",
    "                dists[int(key)] = np.mean(sorted_distances[k_nearest_labels == key])\n",
    "            self.dists = dists \n",
    "        assert type(cost_adjusted_probas) == np.ndarray\n",
    "        return cost_adjusted_probas\n",
    "\n",
    "    def predict(self, X: np.ndarray) -> np.ndarray:\n",
    "        \"\"\" \n",
    "        - Method to predict the class labels for a given set of test data points.\n",
    "        - Parameters:\n",
    "            - X (np.ndarray): Input test data matrix.\n",
    "        - Returns:\n",
    "            - y_pred (np.ndarray): Class predictions for the input test data matrix.\n",
    "        \"\"\"\n",
    "        # Deal with the case when k is even and there needs to be a tie break. Classifyy the new data point as being from the class\n",
    "        # that it is the closest to within its neighborhood.\n",
    "        if self.k % 2 == 0:\n",
    "            y_pred = np.zeros(len(X))\n",
    "            for i, point in enumerate(X):\n",
    "                proba = self.predict_prob_single(point)\n",
    "                if len(proba[proba == np.max(proba)]) == len(proba):\n",
    "                    y_pred[i] = np.argmin(self.dists)\n",
    "                else:\n",
    "                    y_pred[i] = np.argmax(proba)\n",
    "            assert type(y_pred) == np.ndarray\n",
    "            return y_pred\n",
    "        else:\n",
    "            y_pred = np.array([np.argmax(self.predict_prob_single(point)) for point in X])\n",
    "            assert type(y_pred) == np.ndarray\n",
    "            return y_pred\n",
    "        \n",
    "save_history()"
   ]
  },
  {
   "cell_type": "code",
   "execution_count": 31,
   "metadata": {
    "ExecuteTime": {
     "end_time": "2024-02-22T17:47:19.665175Z",
     "start_time": "2024-02-22T17:47:19.662425Z"
    },
    "deletable": false,
    "editable": false,
    "nbgrader": {
     "cell_type": "code",
     "checksum": "e551ab64f7390561f5edcf6ad90bc088",
     "grade": true,
     "grade_id": "cell-5f6082aeeda3bf03",
     "locked": true,
     "points": 2,
     "schema_version": 3,
     "solution": false,
     "task": false
    }
   },
   "outputs": [],
   "source": [
    "# This cell is reserved for the unit tests. Do not consider this cell. "
   ]
  },
  {
   "cell_type": "code",
   "execution_count": 32,
   "metadata": {
    "deletable": false,
    "editable": false,
    "nbgrader": {
     "cell_type": "code",
     "checksum": "e86d2eb166703f5767d560920c13ba47",
     "grade": true,
     "grade_id": "cell-c8282629d102b497",
     "locked": true,
     "points": 3,
     "schema_version": 3,
     "solution": false,
     "task": false
    }
   },
   "outputs": [],
   "source": [
    "# This cell is reserved for the unit tests. Do not consider this cell. "
   ]
  },
  {
   "cell_type": "code",
   "execution_count": 33,
   "metadata": {
    "ExecuteTime": {
     "end_time": "2024-02-22T17:47:20.054992Z",
     "start_time": "2024-02-22T17:47:20.046778Z"
    },
    "deletable": false,
    "editable": false,
    "nbgrader": {
     "cell_type": "code",
     "checksum": "eb5e31e1c4c2ffd6fa485cc16210c6c4",
     "grade": true,
     "grade_id": "cell-5e1bc0a1dae00d9f",
     "locked": true,
     "points": 5,
     "schema_version": 3,
     "solution": false,
     "task": false
    }
   },
   "outputs": [],
   "source": [
    "# This cell is reserved for the unit tests. Do not consider this cell. "
   ]
  },
  {
   "cell_type": "code",
   "execution_count": 34,
   "metadata": {
    "ExecuteTime": {
     "end_time": "2024-02-22T17:47:24.239157Z",
     "start_time": "2024-02-22T17:47:22.759420Z"
    },
    "deletable": false,
    "editable": false,
    "nbgrader": {
     "cell_type": "code",
     "checksum": "9374e9bc136d2e5fbd82aa4c09512aef",
     "grade": true,
     "grade_id": "cell-1fc007dc4928dfde",
     "locked": true,
     "points": 5,
     "schema_version": 3,
     "solution": false,
     "task": false
    }
   },
   "outputs": [],
   "source": [
    "# This cell is reserved for the unit tests. Do not consider this cell. "
   ]
  },
  {
   "cell_type": "markdown",
   "metadata": {
    "deletable": false,
    "editable": false,
    "nbgrader": {
     "cell_type": "markdown",
     "checksum": "05dc60a02b75eda5083b26da9a5e32bd",
     "grade": false,
     "grade_id": "cell-e29bc7c5392d77a5",
     "locked": true,
     "schema_version": 3,
     "solution": false,
     "task": false
    }
   },
   "source": [
    "# Question 7\n",
    "<div style=\"text-align: right\"><b>[14 marks]</b></div>\n",
    "\n",
    "**Group Weighted K-Nearest Neighbors (GroupKNN) Classifier Implementation**\n",
    "\n",
    "---\n",
    "\n",
    "**Objective:**\n",
    "The objective of this programming assignment is to implement a variant of the K-Nearest Neighbors (KNN) algorithm called the Group Weighted KNN `GroupKNNClassifier`. \n",
    "Unlike the traditional KNN, which treats all features equally, GroupKNN divides the features into groups and assigns different weights to these groups. This approach allows the classifier to emphasize certain groups of features over others, which can be particularly useful in cases where some features are known to be more informative for the prediction task.\n",
    "\n",
    "---\n",
    "\n",
    "**Instructions:**\n",
    "\n",
    "1. **GroupKNNClassifier Class:**\n",
    "   - Implement the `GroupKNNClassifier` class with the following methods:\n",
    "     - `__init__`: Constructor method to initialize the classifier object with parameters:\n",
    "       - k: The number of nearest neighbors to consider for making predictions.\n",
    "       - groups: A list of lists, where each sublist contains indices of the features belonging to a particular group. For example, if we have instances in a 5 dimensional space, we could assign `groups=[[0,3],[1],[2,4]]`. \n",
    "       - group_weights: A list containing the weights assigned to each group. The length of group_weights should match the number of groups. In the example above we could assign `group_weights = [0.7, 0.1, 0.3]`.\n",
    "     - `fit(X,y)`: Method to fit the parameters of the model. It takes in input a data matrix `X` and a target vector `y`.\n",
    "     - `euclidean_distance(x1, x2)`: Method to calculate the Euclidean distance between two data points. It takes in input two vectors.\n",
    "     - `distance(x)`: Method to calculate the weighted distance between two data points considering different groups of features and their respective weights. It takes in input one vector.\n",
    "     - `predict(X)`: Method to predict the class labels for a given set of test data points considering group-weighted distances. It takes in input a data matrix `X`.\n",
    "   - Ensure that the classifier is capable of considering different groups of features and their respective weights during prediction.\n",
    "\n",
    "\n",
    "---\n",
    "\n",
    "**Note:**\n",
    "- The `fit` method should store the training data (features and labels) for later use during prediction.\n",
    "- The `euclidean_distance` method should calculate the Euclidean distance between two data points.\n",
    "- The `distance` method should calculate the weighted distance between two data points considering different groups of features and their respective weights.\n",
    "- The `predict` method should make predictions for a set of test data points considering group-weighted distances.\n",
    "- You should use the `numpy` library for array manipulations and mathematical operations.\n",
    "- You must write your own implementation and you cannot use the `KNeighborsClassifier` or other functions/classes from `sklearn`.\n",
    "\n",
    "--- "
   ]
  },
  {
   "cell_type": "code",
   "execution_count": 35,
   "metadata": {
    "ExecuteTime": {
     "end_time": "2024-02-22T17:47:25.374042Z",
     "start_time": "2024-02-22T17:47:25.360836Z"
    },
    "deletable": false,
    "nbgrader": {
     "cell_type": "code",
     "checksum": "d1a15affaa37a1bc2881994291017893",
     "grade": false,
     "grade_id": "cell-dfc414bef1d63500",
     "locked": false,
     "schema_version": 3,
     "solution": true,
     "task": false
    }
   },
   "outputs": [],
   "source": [
    "class GroupKNNClassifier:\n",
    "\n",
    "    def __init__(self, groups: list, group_weights: list, k: int = 3) -> None:\n",
    "        \"\"\" \n",
    "        - Constructor method to initalise the Group Weighted K-Nearest Neighbours classifier object with parameters.\n",
    "        - Parameters:\n",
    "            - groups (list): List of lists where each sublist contain indices of the features belonging to a particular group.\n",
    "            - group_weights (list): List containing the weights assigned to each group. The length should match the number of groups.\n",
    "            - k (int): The number of nearest neighbours to consider for making predictions (default is 3).\n",
    "        - Returns:\n",
    "            - None\n",
    "        \"\"\"\n",
    "        self.k = k\n",
    "        self.groups = groups\n",
    "        self.group_weights = group_weights\n",
    "        self.points = None\n",
    "        self.classes = None\n",
    "        # Initialise the group_weights_mapping dictionary which maps each feature index to its specified weight\n",
    "        group_weights_mapping = {}\n",
    "        for i in range(len(group_weights)):\n",
    "            for j in range(len(groups[i])):\n",
    "                group_weights_mapping[groups[i][j]] = group_weights[i]\n",
    "        self.group_weights_mapping = group_weights_mapping\n",
    "\n",
    "    def fit(self, X: np.ndarray, y: np.ndarray) -> None:\n",
    "        \"\"\" \n",
    "        - Method to fit the parameters of the model.\n",
    "        - Parameters:\n",
    "            - X (np.ndarray): Input data matrix.\n",
    "            - y (np.ndarray): Target vector.\n",
    "        - Returns:\n",
    "            - None\n",
    "        \"\"\"\n",
    "        self.points = X\n",
    "        self.classes = y\n",
    "\n",
    "    def euclidean_distance(self, x1: np.ndarray, x2: np.ndarray) -> float:\n",
    "        \"\"\" \n",
    "        - Method to calculate the Euclidean distance between two data points.\n",
    "        - Parameters:\n",
    "            - x1 (np.ndarray): Vector\n",
    "            - x2 (np.ndarray): Vector (must be same dimensions as x1)\n",
    "        - Returns:\n",
    "            - The Euclidean distance between x1 and x2\n",
    "        \"\"\"\n",
    "        return np.linalg.norm(x1-x2)\n",
    "    \n",
    "    def distance(self, x1: np.ndarray, x2: np.ndarray) -> float:\n",
    "        \"\"\" \n",
    "        -  Method to calculate the weighted distance between two data points considering different groups of features and their respective weights.\n",
    "        - Parameters:\n",
    "            - x1 (np.ndarray): Vector\n",
    "            - x2 (np.ndarray): Vector (must be same dimensions as x1)\n",
    "        - Returns:\n",
    "            - The weighted distance between two data points considering different groups of features and their respective weights.\n",
    "        \"\"\"\n",
    "        indiv_dists = np.zeros(len(x1))\n",
    "        for i in range(len(x1)):\n",
    "            w = self.group_weights_mapping[i]\n",
    "            indiv_dists[i] = (w * (x1[i] - x2[i])) ** 2\n",
    "        return np.sqrt(np.sum(indiv_dists))\n",
    "    \n",
    "    def predict_prob_single(self, x: np.ndarray) -> np.ndarray:\n",
    "        \"\"\" \n",
    "        - Method to predict the probabilities of each class label for a single data point based on its nearest k neighbours in the dataset and the group weightings.\n",
    "        - Parameters: \n",
    "            - x (np.ndarray): Input vector.\n",
    "        - Returns:\n",
    "            - probas (np.ndarray): Probabilities of each class label, where the index of the array represents \n",
    "            that class probabilites (probas[0] is the probabiltiy of class 0)\n",
    "        \"\"\"\n",
    "        # Calculate the distances from the input point to the points used to fit the KNN    \n",
    "        distances = np.array([self.distance(x, point) for point in self.points])\n",
    "        # Retrieve the k-nearest neighbours labels\n",
    "        k_nearest_labels = self.classes[np.argsort(distances)[:self.k]]\n",
    "        sorted_distances = distances[np.argsort(distances)[:self.k]]\n",
    "        # Retrieve the counts of the classes in the k-nearest neighbours\n",
    "        unique, counts = np.unique(self.classes[np.argsort(distances)[:self.k]], return_counts=True)\n",
    "        # Initalise the probability vector\n",
    "        probas = np.zeros(len(np.unique(self.classes)))\n",
    "        # Initialse mean distances vector in order to tie break\n",
    "        dists = np.zeros(len(np.unique(self.classes)))\n",
    "        # Store the class probabilities as a dictionary\n",
    "        d_prop = dict(zip(unique, counts / sum(counts)))\n",
    "        # Add the probabilities to the probas vector   \n",
    "        for key in d_prop.keys():\n",
    "            probas[int(key)] = d_prop[key]\n",
    "        # Deal with the case when k is even in order to break ties\n",
    "        # Compute the mean distance to each class and will later choose which class a point belongs to (in the event of a tie) by looking at which class\n",
    "        # It's closest to in its k-neighborhood\n",
    "        if self.k % 2 == 0:\n",
    "            for key in d_prop.keys():\n",
    "                dists[int(key)] = np.mean(sorted_distances[k_nearest_labels == key])\n",
    "            self.dists = dists\n",
    "        return probas\n",
    "        \n",
    "\n",
    "    def predict(self, X: np.ndarray) -> np.ndarray:\n",
    "        \"\"\" \n",
    "        - Method to predict the class labels for a given set of test data points.\n",
    "        - Parameters:\n",
    "            - X (np.ndarray): Input test data matrix.\n",
    "        - Returns:\n",
    "            - y_pred (np.ndarray): Class predictions for the input test data matrix.\n",
    "        \"\"\"\n",
    "        # Deal with the case when k is even and there needs to be a tie break. Classifyy the new data point as being from the class\n",
    "        # that it is the closest to within its neighborhood.\n",
    "        if self.k % 2 == 0:\n",
    "            y_pred = np.zeros(len(X))\n",
    "            for i, point in enumerate(X):\n",
    "                proba = self.predict_prob_single(point)\n",
    "                if len(proba[proba == np.max(proba)]) == len(proba):\n",
    "                    y_pred[i] = np.argmin(self.dists)\n",
    "                else:\n",
    "                    y_pred[i] = np.argmax(proba)\n",
    "            assert type(y_pred) == np.ndarray\n",
    "            return y_pred\n",
    "        else:\n",
    "            y_pred = np.array([np.argmax(self.predict_prob_single(point)) for point in X])\n",
    "            assert type(y_pred) == np.ndarray\n",
    "            return y_pred\n",
    "        \n",
    "save_history()"
   ]
  },
  {
   "cell_type": "code",
   "execution_count": 36,
   "metadata": {
    "ExecuteTime": {
     "end_time": "2024-02-22T17:47:27.301481Z",
     "start_time": "2024-02-22T17:47:27.298869Z"
    },
    "deletable": false,
    "editable": false,
    "nbgrader": {
     "cell_type": "code",
     "checksum": "e9d09dcbef209ff6d91eadf45d719d02",
     "grade": true,
     "grade_id": "cell-0747542fc3c94432",
     "locked": true,
     "points": 4,
     "schema_version": 3,
     "solution": false,
     "task": false
    }
   },
   "outputs": [],
   "source": [
    "# This cell is reserved for the unit tests. Do not consider this cell. "
   ]
  },
  {
   "cell_type": "code",
   "execution_count": 37,
   "metadata": {
    "ExecuteTime": {
     "end_time": "2024-02-22T17:47:27.301481Z",
     "start_time": "2024-02-22T17:47:27.298869Z"
    },
    "deletable": false,
    "editable": false,
    "nbgrader": {
     "cell_type": "code",
     "checksum": "068930f47c0f7ea36e4d8082537e4c33",
     "grade": true,
     "grade_id": "cell-0039539bde2a7ffe",
     "locked": true,
     "points": 5,
     "schema_version": 3,
     "solution": false,
     "task": false
    }
   },
   "outputs": [],
   "source": [
    "# This cell is reserved for the unit tests. Do not consider this cell. "
   ]
  },
  {
   "cell_type": "code",
   "execution_count": 38,
   "metadata": {
    "ExecuteTime": {
     "end_time": "2024-02-22T17:47:28.400747Z",
     "start_time": "2024-02-22T17:47:28.398076Z"
    },
    "deletable": false,
    "editable": false,
    "nbgrader": {
     "cell_type": "code",
     "checksum": "e952143c574e46c9c394945df0cd383c",
     "grade": true,
     "grade_id": "cell-68e1f59fe5aff9dc",
     "locked": true,
     "points": 5,
     "schema_version": 3,
     "solution": false,
     "task": false
    }
   },
   "outputs": [],
   "source": [
    "# This cell is reserved for the unit tests. Do not consider this cell. "
   ]
  },
  {
   "cell_type": "markdown",
   "metadata": {
    "deletable": false,
    "editable": false,
    "nbgrader": {
     "cell_type": "markdown",
     "checksum": "b0ff4a27909c19f6c2162c8fa0674730",
     "grade": false,
     "grade_id": "cell-228541737fba2ed1",
     "locked": true,
     "schema_version": 3,
     "solution": false,
     "task": false
    }
   },
   "source": [
    "# Question 8\n",
    "<div style=\"text-align: right\"><b>[15 marks]</b></div>\n",
    "\n",
    "**Auto-Group Weighted K-Nearest Neighbors (AutoGroupsKNN) Classifier Implementation**\n",
    "\n",
    "---\n",
    "\n",
    "**Objective:**\n",
    "The objective of this programming assignment is to implement an Auto-Group Weighted K-Nearest Neighbors (AutoGroupsKNN) classifier class called `AutoGroupsKNNClassifier`. This classifier automatically divides features into 2 groups based on how important the features are for the classification task, and assigns weights to these groups to emphasize their importance in the prediction. This approach is particularly useful in datasets where some features are more predictive of the outcome than others, and it aims to improve the classifier's performance by leveraging this information.\n",
    "\n",
    "The idea is to partition the features into two groups: one is the important features and one is the less-important features. \n",
    "The candidate is free to define the notion of feature 'importance' as they see fit, provided that informative features are more likely to receive a greater weight than non-informative features. \n",
    "The classifier can be initialized with a parameter `param` that can be used to define a threshold notion to define the two groups.\n",
    "The `weight` parameter is the weight that must be given to the less-important features, while `1-weight` is going to be the weight that must be given to the important features. If `weight=0` then the less-important features will not contribute in the distance notion of the KNNClassifier. \n",
    "\n",
    "---\n",
    "\n",
    "**Instructions:**\n",
    "\n",
    "1. **AutoGroupsKNNClassifier Class:**\n",
    "   - Implement the `AutoGroupsKNNClassifier` class with the following methods:\n",
    "     - `__init__`: Constructor method to initialize the classifier object. It should take an optional parameter `k` (default is 3) representing the number of neighbors to consider, an optional parameter `param` representing the feature weights threshold, and an optional parameter `weight` representing the weight assigned to one of the groups.\n",
    "     - `fit(X,y)`: Method to train the AutoGroupsKNN classifier using the given data and automatically select feature groups based on the provided threshold. It takes in input a data matrix `X` and a target vector `y`.\n",
    "     - `predict(X)`: Method to predict the class labels for a given set of test data points using the trained classifier. It takes in input a data matrix `X`.\n",
    "   - Ensure that the classifier automatically selects feature groups and assigns weights to each group based on the given threshold and weight.\n",
    "\n",
    "---\n",
    "\n",
    "**Note:**\n",
    "- The `fit` method should train the AutoGroupsKNN classifier by automatically selecting feature groups based on the provided feature weights threshold.\n",
    "- The `predict` method should make predictions for a set of test data points using the trained classifier.\n",
    "- You should use the `numpy` library for array manipulations and mathematical operations.\n",
    "- You must write your own implementation and you cannot use the `KNeighborsClassifier` or other functions/classes from `sklearn`.\n",
    "\n",
    "--- "
   ]
  },
  {
   "cell_type": "code",
   "execution_count": 39,
   "metadata": {
    "ExecuteTime": {
     "end_time": "2024-02-22T17:47:30.513746Z",
     "start_time": "2024-02-22T17:47:30.498611Z"
    },
    "deletable": false,
    "nbgrader": {
     "cell_type": "code",
     "checksum": "fc9f6731a6f29f6d8d77da6f479ebdc5",
     "grade": false,
     "grade_id": "cell-6772e80ba611f431",
     "locked": false,
     "schema_version": 3,
     "solution": true,
     "task": false
    }
   },
   "outputs": [],
   "source": [
    "class AutoGroupsKNNClassifier:\n",
    "    def __init__(self, weight: float = 0.05, param: float = 0.01, k: int=3) -> None:\n",
    "        \"\"\" \n",
    "        - Constructor method to initalise the Auto-Group Weighted K-Nearest Neighbours classifier object with parameters. In this implementation, \"important\" features will be \n",
    "        regarded as features for which the mean is significantly different for both classes (significance determined by a statistical test).\n",
    "        - Parameters:\n",
    "            - weight (float): Weight assigned to the features deemed non-informative. (1 - weight) will be the weight assigned to the features deemed informative (default is 0.05\n",
    "            and must be between 0 and 1).\n",
    "            - param (float): Feature weights threshold. In this implementation this represents a p-value threshold, therefore 0 < param < 1 and the higher the p-value,\n",
    "            the lesser the distinction between informative and non-informative features will be (default is 0.01)  \n",
    "            - k (int): Number of neighbours to consider (default is 3).\n",
    "        - Returns: \n",
    "            - None\n",
    "        \"\"\"\n",
    "        self.points = None\n",
    "        self.classes = None\n",
    "        self.k = k\n",
    "        self.param = param\n",
    "        self.group_weights_mapping = None\n",
    "        self.important_weight = 1 - weight\n",
    "        self.unimportant_weight = weight\n",
    "\n",
    "    def fit(self, X: np.ndarray, y: np.ndarray) -> np.ndarray:\n",
    "        \"\"\" \n",
    "        - Method to fit the parameters of the model.\n",
    "        - Parameters:\n",
    "            - X (np.ndarray): Input data matrix.\n",
    "            - y (np.ndarray): Target vector.\n",
    "        - Returns:\n",
    "            - None\n",
    "        \"\"\"\n",
    "        self.points = X\n",
    "        self.classes = y\n",
    "\n",
    "        # Retrieving the import features vs the non_important features\n",
    "        X_pos = X[y == 1]\n",
    "        X_neg = X[y == 0]\n",
    "        group_dict = {\"informative_group\": [], \"non_informative_group\": []}\n",
    "        # For each feature, test if the mean of the feature is significantly different for each class using an Alexander-Govern statistical test\n",
    "        # if the returned p-value of the test is < self.param then deem that feature to be important, otherwise deem it to be \n",
    "        # unimportant\n",
    "        for i in range(len(X[0])):\n",
    "            # The statistical test\n",
    "            res = sp.stats.alexandergovern(X_pos[:, i], X_neg[:, i])\n",
    "            # Check for significance\n",
    "            if res.pvalue < self.param:\n",
    "                group_dict[\"informative_group\"].append(i)\n",
    "            else:\n",
    "                group_dict[\"non_informative_group\"].append(i)\n",
    "       # Map the important and non important features to the corresponding weights\n",
    "        group_weights_mapping = {}\n",
    "        for key in group_dict.keys():\n",
    "            if key == \"informative_group\":\n",
    "                for feature in group_dict[key]:\n",
    "                    group_weights_mapping[feature] = self.important_weight\n",
    "            else:\n",
    "                for feature in group_dict[key]:\n",
    "                    group_weights_mapping[feature] = self.unimportant_weight\n",
    "        self.group_weights_mapping = group_weights_mapping\n",
    "        \n",
    "\n",
    "    def distance(self, x1: np.ndarray, x2: np.ndarray) -> float:\n",
    "        \"\"\" \n",
    "        -  Method to calculate the weighted distance between two data points considering different groups of features and their respective weights.\n",
    "        - Parameters:\n",
    "            - x1 (np.ndarray): Vector\n",
    "            - x2 (np.ndarray): Vector (must be same dimensions as x1)\n",
    "        - Returns:\n",
    "            - The weighted distance between two data points considering different groups of features and their respective weights.\n",
    "        \"\"\"\n",
    "        indiv_dists = np.zeros(len(x1))\n",
    "        for i in range(len(x1)):\n",
    "            w = self.group_weights_mapping[i]\n",
    "            indiv_dists[i] = (w * (x1[i] - x2[i])) ** 2\n",
    "        return np.sqrt(np.sum(indiv_dists))\n",
    "    \n",
    "    def predict_prob_single(self, x):\n",
    "        \"\"\" \n",
    "        - Method to predict the probabilities of each class label for a single data point based on its nearest k neighbours in the dataset and the group weightings.\n",
    "        - Parameters: \n",
    "            - x (np.ndarray): Input vector.\n",
    "        - Returns:\n",
    "            - probas (np.ndarray): Probabilities of each class label, where the index of the array represents \n",
    "            that class probabilites (probas[0] is the probabiltiy of class 0)\n",
    "        \"\"\"\n",
    "        # Calculate the distances from the input point to the points used to fit the KNN \n",
    "        distances = np.array([self.distance(x, point) for point in self.points])\n",
    "        # Retrieve the k-nearest neighbours labels\n",
    "        k_nearest_labels = self.classes[np.argsort(distances)[:self.k]]\n",
    "        sorted_distances = distances[np.argsort(distances)[:self.k]]\n",
    "        # Retrieve the counts of the classes in the k-nearest neighbours\n",
    "        unique, counts = np.unique(self.classes[np.argsort(distances)[:self.k]], return_counts=True)\n",
    "        # Initalise the probability vector\n",
    "        probas = np.zeros(len(np.unique(self.classes)))\n",
    "        # Initialse mean distances vector in order to tie break\n",
    "        dists = np.zeros(len(np.unique(self.classes)))\n",
    "        # Store the class probabilities as a dictionary\n",
    "        d_prop = dict(zip(unique, counts / sum(counts)))\n",
    "        for key in d_prop.keys():\n",
    "            probas[int(key)] = d_prop[key]\n",
    "        # Deal with the case when k is even in order to break ties\n",
    "        # Compute the mean distance to each class and will later choose which class a point belongs to (in the event of a tie) by looking at which class\n",
    "        # It's closest to in its k-neighborhood\n",
    "        if self.k % 2 == 0:\n",
    "            for key in d_prop.keys():\n",
    "                dists[int(key)] = np.mean(sorted_distances[k_nearest_labels == key])\n",
    "            self.dists = dists\n",
    "        return probas\n",
    "\n",
    "    def predict(self, X):\n",
    "        \"\"\" \n",
    "        - Method to predict the class labels for a given set of test data points.\n",
    "        - Parameters:\n",
    "            - X (np.ndarray): Input test data matrix.\n",
    "        - Returns:\n",
    "            - y_pred (np.ndarray): Class predictions for the input test data matrix.\n",
    "        \"\"\"\n",
    "        # Deal with the case when k is even and there needs to be a tie break. Classifyy the new data point as being from the class\n",
    "        # that it is the closest to within its neighborhood.\n",
    "        if self.k % 2 == 0:\n",
    "            y_pred = np.zeros(len(X))\n",
    "            for i, point in enumerate(X):\n",
    "                proba = self.predict_prob_single(point)\n",
    "                if len(proba[proba == np.max(proba)]) == len(proba):\n",
    "                    y_pred[i] = np.argmin(self.dists)\n",
    "                else:\n",
    "                    y_pred[i] = np.argmax(proba)\n",
    "            assert type(y_pred) == np.ndarray\n",
    "            return y_pred\n",
    "        else:\n",
    "            y_pred = np.array([np.argmax(self.predict_prob_single(point)) for point in X])\n",
    "            assert type(y_pred) == np.ndarray\n",
    "            return y_pred\n",
    "\n",
    "save_history()"
   ]
  },
  {
   "cell_type": "code",
   "execution_count": 40,
   "metadata": {
    "ExecuteTime": {
     "end_time": "2024-02-22T17:47:32.728886Z",
     "start_time": "2024-02-22T17:47:32.726214Z"
    },
    "deletable": false,
    "editable": false,
    "nbgrader": {
     "cell_type": "code",
     "checksum": "70cb960127e9269924f4cb3ddc2b5291",
     "grade": true,
     "grade_id": "cell-d8daba3570376d2a",
     "locked": true,
     "points": 5,
     "schema_version": 3,
     "solution": false,
     "task": false
    }
   },
   "outputs": [],
   "source": [
    "# This cell is reserved for the unit tests. Do not consider this cell. "
   ]
  },
  {
   "cell_type": "code",
   "execution_count": 41,
   "metadata": {
    "ExecuteTime": {
     "end_time": "2024-02-22T17:47:32.728886Z",
     "start_time": "2024-02-22T17:47:32.726214Z"
    },
    "deletable": false,
    "editable": false,
    "nbgrader": {
     "cell_type": "code",
     "checksum": "f4de23958643ae1d24780fcaac6a56d8",
     "grade": true,
     "grade_id": "cell-5b15eb38b20972c6",
     "locked": true,
     "points": 10,
     "schema_version": 3,
     "solution": false,
     "task": false
    }
   },
   "outputs": [],
   "source": [
    "# This cell is reserved for the unit tests. Do not consider this cell. "
   ]
  },
  {
   "cell_type": "markdown",
   "metadata": {
    "deletable": false,
    "editable": false,
    "nbgrader": {
     "cell_type": "markdown",
     "checksum": "737eacf0555b0b239e2e739b14ca0c49",
     "grade": false,
     "grade_id": "cell-939e5eea58b44878",
     "locked": true,
     "schema_version": 3,
     "solution": false,
     "task": false
    }
   },
   "source": [
    "## Checkpoint\n",
    "\n",
    "This is just a check-point, i.e. it is for you to see that you are correctly implementing all functions. \n",
    "\n",
    "Execute the following code (just execute the next cell):\n",
    "\n",
    "```python\n",
    "params = np.arange(0, 150, 25)\n",
    "\n",
    "classifier = KNNClassifier(k=3)\n",
    "plot_predictive_error_estimate_vs_param(make_dataset_n_features_outliers, classifier, params, n_rep=30, title='KNN model performance decreases', xlabel='n_non_informative_features')\n",
    "\n",
    "classifier = AutoGroupsKNNClassifier(k=3,param=.5,weight=.1)\n",
    "plot_predictive_error_estimate_vs_param(make_dataset_n_features_outliers, classifier, params, n_rep=20, title='AutoGroupsKNN model performance does not decrease', xlabel='n_non_informative_features')\n",
    "```\n",
    "\n",
    "and check that you obtain a plot similar to:\n",
    "\n",
    "<img src=\"img2b.png\" width=40%>\n",
    "\n",
    "and then execute:\n",
    "```python\n",
    "params = np.arange(2,20,4)\n",
    "\n",
    "classifier = LinearClassifier()\n",
    "plot_predictive_error_estimate_vs_param(make_dataset_outliers_std, classifier, params, n_rep=30, title='Linear model performance decreases', xlabel='outliers_std')\n",
    "\n",
    "classifier = AutoGroupsKNNClassifier(k=3,param=.5,weight=.1)\n",
    "plot_predictive_error_estimate_vs_param(make_dataset_outliers_std, classifier, params, n_rep=5, title='AutoGroupsKNN model performance does not decrease', xlabel='outliers_std')\n",
    "```\n",
    "\n",
    "and check that you obtain a plot similar to:\n",
    "\n",
    "<img src=\"img3b.png\" width=40%>\n"
   ]
  },
  {
   "cell_type": "code",
   "execution_count": 42,
   "metadata": {
    "ExecuteTime": {
     "end_time": "2024-02-22T17:47:41.438829Z",
     "start_time": "2024-02-22T17:47:41.430370Z"
    },
    "deletable": false,
    "editable": false,
    "nbgrader": {
     "cell_type": "code",
     "checksum": "610b3c82d171366c41f0be24eb317aa4",
     "grade": false,
     "grade_id": "cell-f3cf6c644f99e516",
     "locked": true,
     "schema_version": 3,
     "solution": false,
     "task": false
    }
   },
   "outputs": [],
   "source": [
    "#These functions are provided for you. You do not need to modify them in any way, just execute them.\n",
    "\n",
    "def make_dataset_n_features_outliers(param):\n",
    "    n_instances = 300\n",
    "    fraction_of_outliers = 0.3\n",
    "    n_informative_features = 2\n",
    "    n_non_informative_features = param\n",
    "    std = .75\n",
    "    outliers_std = 2\n",
    "    data_mtx, targets = make_dataset(n_instances, fraction_of_outliers, n_informative_features, n_non_informative_features, std, outliers_std)\n",
    "    return data_mtx, targets\n",
    "\n",
    "def make_dataset_outliers_std(param):\n",
    "    n_instances = 1000\n",
    "    fraction_of_outliers = 0.3\n",
    "    n_informative_features = 2\n",
    "    n_non_informative_features = 10\n",
    "    std = 1\n",
    "    outliers_std = param\n",
    "    data_mtx, targets = make_dataset(n_instances, fraction_of_outliers, n_informative_features, n_non_informative_features, std, outliers_std)\n",
    "    return data_mtx, targets\n",
    "\n",
    "def plot_predictive_error_estimate_vs_param(make_dataset_func, classifier, params, n_rep=30, title='', xlabel=''):\n",
    "    acc_means = []\n",
    "    acc_stds = []\n",
    "    for param in params:\n",
    "        data_mtx, targets = make_dataset_func(param)\n",
    "        mean_acc, std_acc = predictive_performance_estimate(classifier, data_mtx, targets, test_size=.3, n_rep=n_rep)\n",
    "        acc_means.append(mean_acc)\n",
    "        acc_stds.append(std_acc)\n",
    "    acc_means = np.array(acc_means)\n",
    "    acc_stds = np.array(acc_stds)\n",
    "\n",
    "    plt.figure(figsize=(10,4))\n",
    "    plt.plot(params, acc_means, lw=2, c='k')\n",
    "    plt.fill_between(params, acc_means-acc_stds,acc_means+acc_stds,color='b', alpha=.2)\n",
    "    plt.xlabel(xlabel)\n",
    "    plt.ylim(0.5,1)\n",
    "    plt.grid()\n",
    "    plt.title(title)\n",
    "    plt.show()"
   ]
  },
  {
   "cell_type": "code",
   "execution_count": 43,
   "metadata": {
    "ExecuteTime": {
     "end_time": "2024-02-22T17:49:04.968866Z",
     "start_time": "2024-02-22T17:47:41.750129Z"
    },
    "deletable": false,
    "editable": false,
    "nbgrader": {
     "cell_type": "code",
     "checksum": "0de85c7823be516e4affca0142b47a68",
     "grade": false,
     "grade_id": "cell-3483a7f21dadc750",
     "locked": true,
     "schema_version": 3,
     "solution": false,
     "task": false
    }
   },
   "outputs": [
    {
     "data": {
      "image/png": "[encoded data removed]",
      "text/plain": [
       "<Figure size 1000x400 with 1 Axes>"
      ]
     },
     "metadata": {},
     "output_type": "display_data"
    },
    {
     "data": {
      "image/png": "[encoded data removed]",
      "text/plain": [
       "<Figure size 1000x400 with 1 Axes>"
      ]
     },
     "metadata": {},
     "output_type": "display_data"
    }
   ],
   "source": [
    "params = np.arange(0, 150, 25)\n",
    "\n",
    "classifier = KNNClassifier(k=4)\n",
    "plot_predictive_error_estimate_vs_param(make_dataset_n_features_outliers, classifier, params, n_rep=30, title='KNN model performance decreases', xlabel='n_non_informative_features')\n",
    "\n",
    "classifier = AutoGroupsKNNClassifier(k=4,weight=.1)\n",
    "plot_predictive_error_estimate_vs_param(make_dataset_n_features_outliers, classifier, params, n_rep=5, title='AutoGroupsKNN model performance does not decrease', xlabel='n_non_informative_features')"
   ]
  },
  {
   "cell_type": "code",
   "execution_count": 44,
   "metadata": {
    "ExecuteTime": {
     "end_time": "2024-02-22T17:50:43.731736Z",
     "start_time": "2024-02-22T17:49:04.971312Z"
    },
    "deletable": false,
    "editable": false,
    "nbgrader": {
     "cell_type": "code",
     "checksum": "e2b64c8143f87427323dc051b32054f8",
     "grade": false,
     "grade_id": "cell-a8d8655921fd7cb3",
     "locked": true,
     "schema_version": 3,
     "solution": false,
     "task": false
    }
   },
   "outputs": [
    {
     "data": {
      "image/png": "[encoded data removed]",
      "text/plain": [
       "<Figure size 1000x400 with 1 Axes>"
      ]
     },
     "metadata": {},
     "output_type": "display_data"
    },
    {
     "data": {
      "image/png": "[encoded data removed]",
      "text/plain": [
       "<Figure size 1000x400 with 1 Axes>"
      ]
     },
     "metadata": {},
     "output_type": "display_data"
    }
   ],
   "source": [
    "params = np.arange(2,20,4)\n",
    "\n",
    "classifier = LinearClassifier()\n",
    "plot_predictive_error_estimate_vs_param(make_dataset_outliers_std, classifier, params, n_rep=30, title='Linear model performance decreases', xlabel='outliers_std')\n",
    "\n",
    "classifier = AutoGroupsKNNClassifier(k=4,weight=.1)\n",
    "plot_predictive_error_estimate_vs_param(make_dataset_outliers_std, classifier, params, n_rep=5, title='AutoGroupsKNN model performance does not decrease', xlabel='outliers_std')"
   ]
  },
  {
   "cell_type": "markdown",
   "metadata": {
    "deletable": false,
    "editable": false,
    "nbgrader": {
     "cell_type": "markdown",
     "checksum": "2f19f10aa89d2e2ed8001684d92506b7",
     "grade": false,
     "grade_id": "cell-5608b32d9c4e4894",
     "locked": true,
     "schema_version": 3,
     "solution": false,
     "task": false
    }
   },
   "source": [
    "---"
   ]
  },
  {
   "cell_type": "code",
   "execution_count": 45,
   "metadata": {
    "ExecuteTime": {
     "end_time": "2024-02-22T17:50:43.736977Z",
     "start_time": "2024-02-22T17:50:43.734443Z"
    },
    "deletable": false,
    "editable": false,
    "nbgrader": {
     "cell_type": "code",
     "checksum": "4b1f79ffdf35f1bc4da45c685512e63b",
     "grade": false,
     "grade_id": "cell-ffb202222f407551",
     "locked": true,
     "schema_version": 3,
     "solution": false,
     "task": false
    }
   },
   "outputs": [],
   "source": [
    "# Do not consider the next cell.\n",
    "# You do not have to do anything for the next cell."
   ]
  },
  {
   "cell_type": "code",
   "execution_count": null,
   "metadata": {
    "deletable": false,
    "editable": false,
    "nbgrader": {
     "cell_type": "code",
     "checksum": "ec61567d17df3452da4c0be5b4145f2b",
     "grade": false,
     "grade_id": "cell-17cc307f7682c515",
     "locked": true,
     "schema_version": 3,
     "solution": false,
     "task": false
    }
   },
   "outputs": [],
   "source": []
  },
  {
   "cell_type": "code",
   "execution_count": 46,
   "metadata": {
    "ExecuteTime": {
     "end_time": "2024-02-22T17:50:43.742970Z",
     "start_time": "2024-02-22T17:50:43.740167Z"
    },
    "deletable": false,
    "editable": false,
    "nbgrader": {
     "cell_type": "code",
     "checksum": "a43f29e92a07918673764995e6ebdb83",
     "grade": false,
     "grade_id": "cell-3b61aec71dd21450",
     "locked": true,
     "schema_version": 3,
     "solution": false,
     "task": false
    }
   },
   "outputs": [
    {
     "name": "stdout",
     "output_type": "stream",
     "text": [
      "The notebook and the history are ready for sumbission.\n",
      "The following archive has been created in the parent directory with name: ecmm422ca1.zip\n"
     ]
    }
   ],
   "source": [
    "check_and_prepare_for_submission()"
   ]
  },
  {
   "cell_type": "markdown",
   "metadata": {
    "deletable": false,
    "editable": false,
    "nbgrader": {
     "cell_type": "markdown",
     "checksum": "a823b34d241dd857b9a89819de68fb3c",
     "grade": false,
     "grade_id": "cell-a3a081756c4e5f90",
     "locked": true,
     "schema_version": 3,
     "solution": false,
     "task": false
    }
   },
   "source": [
    "---"
   ]
  }
 ],
 "metadata": {
  "kernelspec": {
   "display_name": "working130323",
   "language": "python",
   "name": "working130323"
  },
  "language_info": {
   "codemirror_mode": {
    "name": "ipython",
    "version": 3
   },
   "file_extension": ".py",
   "mimetype": "text/x-python",
   "name": "python",
   "nbconvert_exporter": "python",
   "pygments_lexer": "ipython3",
   "version": "3.11.0"
  }
 },
 "nbformat": 4,
 "nbformat_minor": 4
}
